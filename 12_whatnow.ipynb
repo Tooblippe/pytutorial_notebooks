{
 "metadata": {},
 "nbformat": 3,
 "nbformat_minor": 0,
 "worksheets": [
  {
   "cells": [
    {
     "cell_type": "markdown",
     "metadata": {},
     "source": [
      "% What Now?\n",
      "% \n",
      "% \n",
      "\n",
      "Reading this tutorial has probably reinforced your interest in using\n",
      "Python ---you should be eager to apply Python to solving your real-world\n",
      "problems. Where should you go to learn more?\n",
      "\n",
      "This tutorial is part of Python's documentation set. Some other\n",
      "documents in the set are:\n",
      "\n",
      "-   library-index:"
     ]
    },
    {
     "cell_type": "code",
     "collapsed": false,
     "input": [
      "You should browse through this manual, which gives complete (though\n",
      "terse) reference material about types, functions, and the modules in\n",
      "the standard library. The standard Python distribution includes a\n",
      "*lot* of additional code. There are modules to read Unix mailboxes,\n",
      "retrieve documents via HTTP, generate random numbers, parse\n",
      "command-line options, write CGI programs, compress data, and many\n",
      "other tasks. Skimming through the Library Reference will give you an\n",
      "idea of what's available."
     ],
     "language": "python",
     "metadata": {},
     "outputs": []
    },
    {
     "cell_type": "markdown",
     "metadata": {},
     "source": [
      "-   install-index explains how to install external modules written by"
     ]
    },
    {
     "cell_type": "code",
     "collapsed": false,
     "input": [
      "other Python users."
     ],
     "language": "python",
     "metadata": {},
     "outputs": []
    },
    {
     "cell_type": "markdown",
     "metadata": {},
     "source": [
      "-   reference-index: A detailed explanation of Python's syntax and"
     ]
    },
    {
     "cell_type": "code",
     "collapsed": false,
     "input": [
      "semantics. It's heavy reading, but is useful as a complete guide to\n",
      "the language itself."
     ],
     "language": "python",
     "metadata": {},
     "outputs": []
    },
    {
     "cell_type": "markdown",
     "metadata": {},
     "source": [
      "More Python resources:\n",
      "\n",
      "-   <http://www.python.org>: The major Python Web site. It contains"
     ]
    },
    {
     "cell_type": "code",
     "collapsed": false,
     "input": [
      "code, documentation, and pointers to Python-related pages around the\n",
      "Web. This Web site is mirrored in various places around the world,\n",
      "such as Europe, Japan, and Australia; a mirror may be faster than\n",
      "the main site, depending on your geographical location."
     ],
     "language": "python",
     "metadata": {},
     "outputs": []
    },
    {
     "cell_type": "markdown",
     "metadata": {},
     "source": [
      "-   <http://docs.python.org>: Fast access to Python's documentation.\n",
      "\n",
      "-   <http://pypi.python.org>: The Python Package Index, previously also"
     ]
    },
    {
     "cell_type": "code",
     "collapsed": false,
     "input": [
      "nicknamed the Cheese Shop, is an index of user-created Python\n",
      "modules that are available for download. Once you begin releasing\n",
      "code, you can register it here so that others can find it."
     ],
     "language": "python",
     "metadata": {},
     "outputs": []
    },
    {
     "cell_type": "markdown",
     "metadata": {},
     "source": [
      "-   <http://aspn.activestate.com/ASPN/Python/Cookbook/>: The Python"
     ]
    },
    {
     "cell_type": "code",
     "collapsed": false,
     "input": [
      "Cookbook is a sizable collection of code examples, larger modules,\n",
      "and useful scripts. Particularly notable contributions are collected\n",
      "in a book also titled Python Cookbook (O'Reilly & Associates, ISBN\n",
      "0-596-00797-3.)"
     ],
     "language": "python",
     "metadata": {},
     "outputs": []
    },
    {
     "cell_type": "markdown",
     "metadata": {},
     "source": [
      "For Python-related questions and problem reports, you can post to the\n",
      "newsgroup comp.lang.python, or send them to the mailing list at\n",
      "<python-list@python.org>. The newsgroup and mailing list are gatewayed,\n",
      "so messages posted to one will automatically be forwarded to the other.\n",
      "There are around 120 postings a day (with peaks up to several hundred),\n",
      "asking (and answering) questions, suggesting new features, and\n",
      "announcing new modules. Before posting, be sure to check the list of\n",
      "Frequently Asked Questions\n",
      "\\<faq-index\\> (also called the FAQ). Mailing list archives are available\n",
      "at <http://mail.python.org/pipermail/>. The FAQ answers many of the\n",
      "questions that come up again and again, and may already contain the\n",
      "solution for your problem.\n"
     ]
    }
   ],
   "metadata": {}
  }
 ]
}