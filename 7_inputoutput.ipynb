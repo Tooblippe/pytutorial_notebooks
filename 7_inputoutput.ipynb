{
 "metadata": {},
 "nbformat": 3,
 "nbformat_minor": 0,
 "worksheets": [
  {
   "cells": [
    {
     "cell_type": "markdown",
     "metadata": {},
     "source": [
      "% Input and Output\n",
      "% \n",
      "% \n",
      "\n",
      "There are several ways to present the output of a program; data can be\n",
      "printed in a human-readable form, or written to a file for future use.\n",
      "This chapter will discuss some of the possibilities.\n",
      "\n",
      "Fancier Output Formatting\n",
      "=========================\n",
      "\n",
      "So far we've encountered two ways of writing values: *expression\n",
      "statements* and the print statement. (A third way is using the write\n",
      "method of file objects; the standard output file can be referenced as\n",
      "`sys.stdout`. See the Library Reference for more information on this.)\n",
      "\n",
      "Often you'll want more control over the formatting of your output than\n",
      "simply printing space-separated values. There are two ways to format\n",
      "your output; the first way is to do all the string handling yourself;\n",
      "using string slicing and concatenation operations you can create any\n",
      "layout you can imagine. The string types have some methods that perform\n",
      "useful operations for padding strings to a given column width; these\n",
      "will be discussed shortly. The second way is to use the str.format\n",
      "method.\n",
      "\n",
      "The string module contains a \\~string.Template class which offers yet\n",
      "another way to substitute values into strings.\n",
      "\n",
      "One question remains, of course: how do you convert values to strings?\n",
      "Luckily, Python has ways to convert any value to a string: pass it to\n",
      "the repr or str functions.\n",
      "\n",
      "The str function is meant to return representations of values which are\n",
      "fairly human-readable, while repr is meant to generate representations\n",
      "which can be read by the interpreter (or will force a SyntaxError if\n",
      "there is no equivalent syntax). For objects which don't have a\n",
      "particular representation for human consumption, str will return the\n",
      "same value as repr. Many values, such as numbers or structures like\n",
      "lists and dictionaries, have the same representation using either\n",
      "function. Strings and floating point numbers, in particular, have two\n",
      "distinct representations.\n",
      "\n",
      "Some examples:"
     ]
    },
    {
     "cell_type": "code",
     "collapsed": false,
     "input": [
      ">>> s = 'Hello, world.'\n",
      ">>> str(s)\n",
      "'Hello, world.'\n",
      ">>> repr(s)\n",
      "\"'Hello, world.'\"\n",
      ">>> str(1.0/7.0)\n",
      "'0.142857142857'\n",
      ">>> repr(1.0/7.0)\n",
      "'0.14285714285714285'\n",
      ">>> x = 10 * 3.25\n",
      ">>> y = 200 * 200\n",
      ">>> s = 'The value of x is ' + repr(x) + ', and y is ' + repr(y) + '...'\n",
      ">>> print s\n",
      "The value of x is 32.5, and y is 40000...\n",
      ">>> # The repr() of a string adds string quotes and backslashes:\n",
      "... hello = 'hello, world\\n'\n",
      ">>> hellos = repr(hello)\n",
      ">>> print hellos\n",
      "'hello, world\\n'\n",
      ">>> # The argument to repr() may be any Python object:\n",
      "... repr((x, y, ('spam', 'eggs')))\n",
      "\"(32.5, 40000, ('spam', 'eggs'))\""
     ],
     "language": "python",
     "metadata": {},
     "outputs": []
    },
    {
     "cell_type": "markdown",
     "metadata": {},
     "source": [
      "Here are two ways to write a table of squares and cubes:"
     ]
    },
    {
     "cell_type": "code",
     "collapsed": false,
     "input": [
      ">>> for x in range(1, 11):\n",
      "...     print repr(x).rjust(2), repr(x*x).rjust(3),\n",
      "...     # Note trailing comma on previous line\n",
      "...     print repr(x*x*x).rjust(4)\n",
      "...\n",
      " 1   1    1\n",
      " 2   4    8\n",
      " 3   9   27\n",
      " 4  16   64\n",
      " 5  25  125\n",
      " 6  36  216\n",
      " 7  49  343\n",
      " 8  64  512\n",
      " 9  81  729\n",
      "10 100 1000"
     ],
     "language": "python",
     "metadata": {},
     "outputs": []
    },
    {
     "cell_type": "code",
     "collapsed": false,
     "input": [
      ">>> for x in range(1,11):\n",
      "...     print '{0:2d} {1:3d} {2:4d}'.format(x, x*x, x*x*x)\n",
      "...\n",
      " 1   1    1\n",
      " 2   4    8\n",
      " 3   9   27\n",
      " 4  16   64\n",
      " 5  25  125\n",
      " 6  36  216\n",
      " 7  49  343\n",
      " 8  64  512\n",
      " 9  81  729\n",
      "10 100 1000"
     ],
     "language": "python",
     "metadata": {},
     "outputs": []
    },
    {
     "cell_type": "markdown",
     "metadata": {},
     "source": [
      "(Note that in the first example, one space between each column was added\n",
      "by the way print works: it always adds spaces between its arguments.)\n",
      "\n",
      "This example demonstrates the str.rjust method of string objects, which\n",
      "right-justifies a string in a field of a given width by padding it with\n",
      "spaces on the left. There are similar methods str.ljust and str.center.\n",
      "These methods do not write anything, they just return a new string. If\n",
      "the input string is too long, they don't truncate it, but return it\n",
      "unchanged; this will mess up your column lay-out but that's usually\n",
      "better than the alternative, which would be lying about a value. (If you\n",
      "really want truncation you can always add a slice operation, as in\n",
      "`x.ljust(n)[:n]`.)\n",
      "\n",
      "There is another method, str.zfill, which pads a numeric string on the\n",
      "left with zeros. It understands about plus and minus signs:"
     ]
    },
    {
     "cell_type": "code",
     "collapsed": false,
     "input": [
      ">>> '12'.zfill(5)\n",
      "'00012'\n",
      ">>> '-3.14'.zfill(7)\n",
      "'-003.14'\n",
      ">>> '3.14159265359'.zfill(5)\n",
      "'3.14159265359'"
     ],
     "language": "python",
     "metadata": {},
     "outputs": []
    },
    {
     "cell_type": "markdown",
     "metadata": {},
     "source": [
      "Basic usage of the str.format method looks like this:"
     ]
    },
    {
     "cell_type": "code",
     "collapsed": false,
     "input": [
      ">>> print 'We are the {} who say \"{}!\"'.format('knights', 'Ni')\n",
      "We are the knights who say \"Ni!\""
     ],
     "language": "python",
     "metadata": {},
     "outputs": []
    },
    {
     "cell_type": "markdown",
     "metadata": {},
     "source": [
      "The brackets and characters within them (called format fields) are\n",
      "replaced with the objects passed into the str.format method. A number in\n",
      "the brackets refers to the position of the object passed into the\n",
      "str.format method. :"
     ]
    },
    {
     "cell_type": "code",
     "collapsed": false,
     "input": [
      ">>> print '{0} and {1}'.format('spam', 'eggs')\n",
      "spam and eggs\n",
      ">>> print '{1} and {0}'.format('spam', 'eggs')\n",
      "eggs and spam"
     ],
     "language": "python",
     "metadata": {},
     "outputs": []
    },
    {
     "cell_type": "markdown",
     "metadata": {},
     "source": [
      "If keyword arguments are used in the str.format method, their values are\n",
      "referred to by using the name of the argument. :"
     ]
    },
    {
     "cell_type": "code",
     "collapsed": false,
     "input": [
      ">>> print 'This {food} is {adjective}.'.format(\n",
      "...       food='spam', adjective='absolutely horrible')\n",
      "This spam is absolutely horrible."
     ],
     "language": "python",
     "metadata": {},
     "outputs": []
    },
    {
     "cell_type": "markdown",
     "metadata": {},
     "source": [
      "Positional and keyword arguments can be arbitrarily combined:"
     ]
    },
    {
     "cell_type": "code",
     "collapsed": false,
     "input": [
      ">>> print 'The story of {0}, {1}, and {other}.'.format('Bill', 'Manfred',\n",
      "...                                                    other='Georg')\n",
      "The story of Bill, Manfred, and Georg."
     ],
     "language": "python",
     "metadata": {},
     "outputs": []
    },
    {
     "cell_type": "markdown",
     "metadata": {},
     "source": [
      "`'!s'` (apply str) and `'!r'` (apply repr) can be used to convert the\n",
      "value before it is formatted. :"
     ]
    },
    {
     "cell_type": "code",
     "collapsed": false,
     "input": [
      ">>> import math\n",
      ">>> print 'The value of PI is approximately {}.'.format(math.pi)\n",
      "The value of PI is approximately 3.14159265359.\n",
      ">>> print 'The value of PI is approximately {!r}.'.format(math.pi)\n",
      "The value of PI is approximately 3.141592653589793."
     ],
     "language": "python",
     "metadata": {},
     "outputs": []
    },
    {
     "cell_type": "markdown",
     "metadata": {},
     "source": [
      "An optional `':'` and format specifier can follow the field name. This\n",
      "allows greater control over how the value is formatted. The following\n",
      "example rounds Pi to three places after the decimal.\n",
      "\n",
      "> \\>\\>\\> import math \\>\\>\\> print 'The value of PI is approximately\n",
      "> {0:.3f}.'.format(math.pi) The value of PI is approximately 3.142.\n",
      "\n",
      "Passing an integer after the `':'` will cause that field to be a minimum\n",
      "number of characters wide. This is useful for making tables pretty. :"
     ]
    },
    {
     "cell_type": "code",
     "collapsed": false,
     "input": [
      ">>> table = {'Sjoerd': 4127, 'Jack': 4098, 'Dcab': 7678}\n",
      ">>> for name, phone in table.items():\n",
      "...     print '{0:10} ==> {1:10d}'.format(name, phone)\n",
      "...\n",
      "Jack       ==>       4098\n",
      "Dcab       ==>       7678\n",
      "Sjoerd     ==>       4127"
     ],
     "language": "python",
     "metadata": {},
     "outputs": []
    },
    {
     "cell_type": "markdown",
     "metadata": {},
     "source": [
      "If you have a really long format string that you don't want to split up,\n",
      "it would be nice if you could reference the variables to be formatted by\n",
      "name instead of by position. This can be done by simply passing the dict\n",
      "and using square brackets `'[]'` to access the keys :"
     ]
    },
    {
     "cell_type": "code",
     "collapsed": false,
     "input": [
      ">>> table = {'Sjoerd': 4127, 'Jack': 4098, 'Dcab': 8637678}\n",
      ">>> print ('Jack: {0[Jack]:d}; Sjoerd: {0[Sjoerd]:d}; '\n",
      "...        'Dcab: {0[Dcab]:d}'.format(table))\n",
      "Jack: 4098; Sjoerd: 4127; Dcab: 8637678"
     ],
     "language": "python",
     "metadata": {},
     "outputs": []
    },
    {
     "cell_type": "markdown",
     "metadata": {},
     "source": [
      "This could also be done by passing the table as keyword arguments with\n",
      "the '\\*\\*' notation. :"
     ]
    },
    {
     "cell_type": "code",
     "collapsed": false,
     "input": [
      ">>> table = {'Sjoerd': 4127, 'Jack': 4098, 'Dcab': 8637678}\n",
      ">>> print 'Jack: {Jack:d}; Sjoerd: {Sjoerd:d}; Dcab: {Dcab:d}'.format(**table)\n",
      "Jack: 4098; Sjoerd: 4127; Dcab: 8637678"
     ],
     "language": "python",
     "metadata": {},
     "outputs": []
    },
    {
     "cell_type": "markdown",
     "metadata": {},
     "source": [
      "This is particularly useful in combination with the built-in function\n",
      "vars, which returns a dictionary containing all local variables.\n",
      "\n",
      "For a complete overview of string formatting with str.format, see\n",
      "formatstrings.\n",
      "\n",
      "Old string formatting\n",
      "---------------------\n",
      "\n",
      "The `%` operator can also be used for string formatting. It interprets\n",
      "the left argument much like a :csprintf-style format string to be\n",
      "applied to the right argument, and returns the string resulting from\n",
      "this formatting operation. For example:"
     ]
    },
    {
     "cell_type": "code",
     "collapsed": false,
     "input": [
      ">>> import math\n",
      ">>> print 'The value of PI is approximately %5.3f.' % math.pi\n",
      "The value of PI is approximately 3.142."
     ],
     "language": "python",
     "metadata": {},
     "outputs": []
    },
    {
     "cell_type": "markdown",
     "metadata": {},
     "source": [
      "More information can be found in the string-formatting section.\n",
      "\n",
      "Reading and Writing Files\n",
      "=========================\n",
      "\n",
      "open returns a file object, and is most commonly used with two\n",
      "arguments: `open(filename, mode)`."
     ]
    },
    {
     "cell_type": "code",
     "collapsed": false,
     "input": [
      ">>> f = open('workfile', 'w')\n",
      ">>> print f\n",
      "<open file 'workfile', mode 'w' at 80a0960>"
     ],
     "language": "python",
     "metadata": {},
     "outputs": []
    },
    {
     "cell_type": "markdown",
     "metadata": {},
     "source": [
      "The first argument is a string containing the filename. The second\n",
      "argument is another string containing a few characters describing the\n",
      "way in which the file will be used. *mode* can be `'r'` when the file\n",
      "will only be read, `'w'` for only writing (an existing file with the\n",
      "same name will be erased), and `'a'` opens the file for appending; any\n",
      "data written to the file is automatically added to the end. `'r+'` opens\n",
      "the file for both reading and writing. The *mode* argument is optional;\n",
      "`'r'` will be assumed if it's omitted.\n",
      "\n",
      "On Windows, `'b'` appended to the mode opens the file in binary mode, so\n",
      "there are also modes like `'rb'`, `'wb'`, and `'r+b'`. Python on Windows\n",
      "makes a distinction between text and binary files; the end-of-line\n",
      "characters in text files are automatically altered slightly when data is\n",
      "read or written. This behind-the-scenes modification to file data is\n",
      "fine for ASCII text files, but it'll corrupt binary data like that in\n",
      "JPEG or EXE files. Be very careful to use binary mode when reading and\n",
      "writing such files. On Unix, it doesn't hurt to append a `'b'` to the\n",
      "mode, so you can use it platform-independently for all binary files.\n",
      "\n",
      "Methods of File Objects\n",
      "-----------------------\n",
      "\n",
      "The rest of the examples in this section will assume that a file object\n",
      "called `f` has already been created.\n",
      "\n",
      "To read a file's contents, call `f.read(size)`, which reads some\n",
      "quantity of data and returns it as a string. *size* is an optional\n",
      "numeric argument. When *size* is omitted or negative, the entire\n",
      "contents of the file will be read and returned; it's your problem if the\n",
      "file is twice as large as your machine's memory. Otherwise, at most\n",
      "*size* bytes are read and returned. If the end of the file has been\n",
      "reached, `f.read()` will return an empty string (`\"\"`). :"
     ]
    },
    {
     "cell_type": "code",
     "collapsed": false,
     "input": [
      ">>> f.read()\n",
      "'This is the entire file.\\n'\n",
      ">>> f.read()\n",
      "''"
     ],
     "language": "python",
     "metadata": {},
     "outputs": []
    },
    {
     "cell_type": "markdown",
     "metadata": {},
     "source": [
      "`f.readline()` reads a single line from the file; a newline character\n",
      "(`\\n`) is left at the end of the string, and is only omitted on the last\n",
      "line of the file if the file doesn't end in a newline. This makes the\n",
      "return value unambiguous; if `f.readline()` returns an empty string, the\n",
      "end of the file has been reached, while a blank line is represented by\n",
      "`'\\n'`, a string containing only a single newline. :"
     ]
    },
    {
     "cell_type": "code",
     "collapsed": false,
     "input": [
      ">>> f.readline()\n",
      "'This is the first line of the file.\\n'\n",
      ">>> f.readline()\n",
      "'Second line of the file\\n'\n",
      ">>> f.readline()\n",
      "''"
     ],
     "language": "python",
     "metadata": {},
     "outputs": []
    },
    {
     "cell_type": "markdown",
     "metadata": {},
     "source": [
      "For reading lines from a file, you can loop over the file object. This\n",
      "is memory efficient, fast, and leads to simple code:"
     ]
    },
    {
     "cell_type": "code",
     "collapsed": false,
     "input": [
      ">>> for line in f:\n",
      "        print line,"
     ],
     "language": "python",
     "metadata": {},
     "outputs": []
    },
    {
     "cell_type": "code",
     "collapsed": false,
     "input": [
      "This is the first line of the file.\n",
      "Second line of the file"
     ],
     "language": "python",
     "metadata": {},
     "outputs": []
    },
    {
     "cell_type": "markdown",
     "metadata": {},
     "source": [
      "If you want to read all the lines of a file in a list you can also use\n",
      "`list(f)` or `f.readlines()`.\n",
      "\n",
      "`f.write(string)` writes the contents of *string* to the file, returning\n",
      "`None`. :"
     ]
    },
    {
     "cell_type": "code",
     "collapsed": false,
     "input": [
      ">>> f.write('This is a test\\n')"
     ],
     "language": "python",
     "metadata": {},
     "outputs": []
    },
    {
     "cell_type": "markdown",
     "metadata": {},
     "source": [
      "To write something other than a string, it needs to be converted to a\n",
      "string first:"
     ]
    },
    {
     "cell_type": "code",
     "collapsed": false,
     "input": [
      ">>> value = ('the answer', 42)\n",
      ">>> s = str(value)\n",
      ">>> f.write(s)"
     ],
     "language": "python",
     "metadata": {},
     "outputs": []
    },
    {
     "cell_type": "markdown",
     "metadata": {},
     "source": [
      "`f.tell()` returns an integer giving the file object's current position\n",
      "in the file, measured in bytes from the beginning of the file. To change\n",
      "the file object's position, use `f.seek(offset, from_what)`. The\n",
      "position is computed from adding *offset* to a reference point; the\n",
      "reference point is selected by the *from\\_what* argument. A *from\\_what*\n",
      "value of 0 measures from the beginning of the file, 1 uses the current\n",
      "file position, and 2 uses the end of the file as the reference point.\n",
      "*from\\_what* can be omitted and defaults to 0, using the beginning of\n",
      "the file as the reference point. :"
     ]
    },
    {
     "cell_type": "code",
     "collapsed": false,
     "input": [
      ">>> f = open('workfile', 'r+')\n",
      ">>> f.write('0123456789abcdef')\n",
      ">>> f.seek(5)     # Go to the 6th byte in the file\n",
      ">>> f.read(1)\n",
      "'5'\n",
      ">>> f.seek(-3, 2) # Go to the 3rd byte before the end\n",
      ">>> f.read(1)\n",
      "'d'"
     ],
     "language": "python",
     "metadata": {},
     "outputs": []
    },
    {
     "cell_type": "markdown",
     "metadata": {},
     "source": [
      "When you're done with a file, call `f.close()` to close it and free up\n",
      "any system resources taken up by the open file. After calling\n",
      "`f.close()`, attempts to use the file object will automatically fail. :"
     ]
    },
    {
     "cell_type": "code",
     "collapsed": false,
     "input": [
      ">>> f.close()\n",
      ">>> f.read()\n",
      "Traceback (most recent call last):\n",
      "  File \"<stdin>\", line 1, in ?\n",
      "ValueError: I/O operation on closed file"
     ],
     "language": "python",
     "metadata": {},
     "outputs": []
    },
    {
     "cell_type": "markdown",
     "metadata": {},
     "source": [
      "It is good practice to use the with keyword when dealing with file\n",
      "objects. This has the advantage that the file is properly closed after\n",
      "its suite finishes, even if an exception is raised on the way. It is\n",
      "also much shorter than writing equivalent try-finally blocks:"
     ]
    },
    {
     "cell_type": "code",
     "collapsed": false,
     "input": [
      ">>> with open('workfile', 'r') as f:\n",
      "...     read_data = f.read()\n",
      ">>> f.closed\n",
      "True"
     ],
     "language": "python",
     "metadata": {},
     "outputs": []
    },
    {
     "cell_type": "markdown",
     "metadata": {},
     "source": [
      "File objects have some additional methods, such as \\~file.isatty and\n",
      "\\~file.truncate which are less frequently used; consult the Library\n",
      "Reference for a complete guide to file objects.\n",
      "\n",
      "Saving structured data with json\n",
      "--------------------------------\n",
      "\n",
      "Strings can easily be written to and read from a file. Numbers take a\n",
      "bit more effort, since the read method only returns strings, which will\n",
      "have to be passed to a function like int, which takes a string like\n",
      "`'123'` and returns its numeric value 123. When you want to save more\n",
      "complex data types like nested lists and dictionaries, parsing and\n",
      "serializing by hand becomes complicated.\n",
      "\n",
      "Rather than having users constantly writing and debugging code to save\n",
      "complicated data types to files, Python allows you to use the popular\n",
      "data interchange format called [JSON (JavaScript Object\n",
      "Notation)](http://json.org). The standard module called json can take\n",
      "Python data hierarchies, and convert them to string representations;\n",
      "this process is called serializing. Reconstructing the data from the\n",
      "string representation is called deserializing. Between serializing and\n",
      "deserializing, the string representing the object may have been stored\n",
      "in a file or data, or sent over a network connection to some distant\n",
      "machine.\n",
      "\n",
      "> **note**\n",
      ">\n",
      "> The JSON format is commonly used by modern applications to allow for\n",
      "> data exchange. Many programmers are already familiar with it, which\n",
      "> makes it a good choice for interoperability.\n",
      "\n",
      "If you have an object `x`, you can view its JSON string representation\n",
      "with a simple line of code:"
     ]
    },
    {
     "cell_type": "code",
     "collapsed": false,
     "input": [
      ">>> json.dumps([1, 'simple', 'list'])\n",
      "'[1, \"simple\", \"list\"]'"
     ],
     "language": "python",
     "metadata": {},
     "outputs": []
    },
    {
     "cell_type": "markdown",
     "metadata": {},
     "source": [
      "Another variant of the \\~json.dumps function, called \\~json.dump, simply\n",
      "serializes the object to a file. So if `f` is a file object opened for\n",
      "writing, we can do this:"
     ]
    },
    {
     "cell_type": "code",
     "collapsed": false,
     "input": [
      "json.dump(x, f)"
     ],
     "language": "python",
     "metadata": {},
     "outputs": []
    },
    {
     "cell_type": "markdown",
     "metadata": {},
     "source": [
      "To decode the object again, if `f` is a file object which has been\n",
      "opened for reading:"
     ]
    },
    {
     "cell_type": "code",
     "collapsed": false,
     "input": [
      "x = json.load(f)"
     ],
     "language": "python",
     "metadata": {},
     "outputs": []
    },
    {
     "cell_type": "markdown",
     "metadata": {},
     "source": [
      "This simple serialization technique can handle lists and dictionaries,\n",
      "but serializing arbitrary class instances in JSON requires a bit of\n",
      "extra effort. The reference for the json module contains an explanation\n",
      "of this.\n"
     ]
    }
   ],
   "metadata": {}
  }
 ]
}