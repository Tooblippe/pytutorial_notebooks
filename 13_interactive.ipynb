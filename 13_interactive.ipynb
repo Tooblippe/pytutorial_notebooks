{
 "metadata": {},
 "nbformat": 3,
 "nbformat_minor": 0,
 "worksheets": [
  {
   "cells": [
    {
     "cell_type": "markdown",
     "metadata": {},
     "source": [
      "% Interactive Input Editing and History Substitution\n",
      "% \n",
      "% \n",
      "\n",
      "Some versions of the Python interpreter support editing of the current\n",
      "input line and history substitution, similar to facilities found in the\n",
      "Korn shell and the GNU Bash shell. This is implemented using the [GNU\n",
      "Readline](http://tiswww.case.edu/php/chet/readline/rltop.html) library,\n",
      "which supports Emacs-style and vi-style editing. This library has its\n",
      "own documentation which I won't duplicate here; however, the basics are\n",
      "easily explained. The interactive editing and history described here are\n",
      "optionally available in the Unix and Cygwin versions of the interpreter.\n",
      "\n",
      "This chapter does *not* document the editing facilities of Mark\n",
      "Hammond's PythonWin package or the Tk-based environment, IDLE,\n",
      "distributed with Python. The command line history recall which operates\n",
      "within DOS boxes on NT and some other DOS and Windows flavors is yet\n",
      "another beast.\n",
      "\n",
      "Line Editing\n",
      "============\n",
      "\n",
      "If supported, input line editing is active whenever the interpreter\n",
      "prints a primary or secondary prompt. The current line can be edited\n",
      "using the conventional Emacs control characters. The most important of\n",
      "these are: C-A (Control-A) moves the cursor to the beginning of the\n",
      "line, C-E to the end, C-B moves it one position to the left, C-F to the\n",
      "right. Backspace erases the character to the left of the cursor, C-D the\n",
      "character to its right. C-K kills (erases) the rest of the line to the\n",
      "right of the cursor, C-Y yanks back the last killed string. C-underscore\n",
      "undoes the last change you made; it can be repeated for cumulative\n",
      "effect.\n",
      "\n",
      "History Substitution\n",
      "====================\n",
      "\n",
      "History substitution works as follows. All non-empty input lines issued\n",
      "are saved in a history buffer, and when a new prompt is given you are\n",
      "positioned on a new line at the bottom of this buffer. C-P moves one\n",
      "line up (back) in the history buffer, C-N moves one down. Any line in\n",
      "the history buffer can be edited; an asterisk appears in front of the\n",
      "prompt to mark a line as modified. Pressing the Return key passes the\n",
      "current line to the interpreter. C-R starts an incremental reverse\n",
      "search; C-S starts a forward search.\n",
      "\n",
      "Key Bindings\n",
      "============\n",
      "\n",
      "The key bindings and some other parameters of the Readline library can\n",
      "be customized by placing commands in an initialization file called\n",
      "\\~/.inputrc. Key bindings have the form :"
     ]
    },
    {
     "cell_type": "code",
     "collapsed": false,
     "input": [
      "key-name: function-name"
     ],
     "language": "python",
     "metadata": {},
     "outputs": []
    },
    {
     "cell_type": "markdown",
     "metadata": {},
     "source": [
      "or :"
     ]
    },
    {
     "cell_type": "code",
     "collapsed": false,
     "input": [
      "\"string\": function-name"
     ],
     "language": "python",
     "metadata": {},
     "outputs": []
    },
    {
     "cell_type": "markdown",
     "metadata": {},
     "source": [
      "and options can be set with :"
     ]
    },
    {
     "cell_type": "code",
     "collapsed": false,
     "input": [
      "set option-name value"
     ],
     "language": "python",
     "metadata": {},
     "outputs": []
    },
    {
     "cell_type": "markdown",
     "metadata": {},
     "source": [
      "For example:"
     ]
    },
    {
     "cell_type": "code",
     "collapsed": false,
     "input": [
      "# I prefer vi-style editing:\n",
      "set editing-mode vi"
     ],
     "language": "python",
     "metadata": {},
     "outputs": []
    },
    {
     "cell_type": "code",
     "collapsed": false,
     "input": [
      "# Edit using a single line:\n",
      "set horizontal-scroll-mode On"
     ],
     "language": "python",
     "metadata": {},
     "outputs": []
    },
    {
     "cell_type": "code",
     "collapsed": false,
     "input": [
      "# Rebind some keys:\n",
      "Meta-h: backward-kill-word\n",
      "\"\\C-u\": universal-argument\n",
      "\"\\C-x\\C-r\": re-read-init-file"
     ],
     "language": "python",
     "metadata": {},
     "outputs": []
    },
    {
     "cell_type": "markdown",
     "metadata": {},
     "source": [
      "Note that the default binding for Tab in Python is to insert a Tab\n",
      "character instead of Readline's default filename completion function. If\n",
      "you insist, you can override this by putting :"
     ]
    },
    {
     "cell_type": "code",
     "collapsed": false,
     "input": [
      "Tab: complete"
     ],
     "language": "python",
     "metadata": {},
     "outputs": []
    },
    {
     "cell_type": "markdown",
     "metadata": {},
     "source": [
      "in your \\~/.inputrc. (Of course, this makes it harder to type indented\n",
      "continuation lines if you're accustomed to using Tab for that purpose.)\n",
      "\n",
      "Automatic completion of variable and module names is optionally\n",
      "available. To enable it in the interpreter's interactive mode, add the\n",
      "following to your startup file: [^1] :"
     ]
    },
    {
     "cell_type": "code",
     "collapsed": false,
     "input": [
      "import rlcompleter, readline\n",
      "readline.parse_and_bind('tab: complete')"
     ],
     "language": "python",
     "metadata": {},
     "outputs": []
    },
    {
     "cell_type": "markdown",
     "metadata": {},
     "source": [
      "This binds the Tab key to the completion function, so hitting the Tab\n",
      "key twice suggests completions; it looks at Python statement names, the\n",
      "current local variables, and the available module names. For dotted\n",
      "expressions such as `string.a`, it will evaluate the expression up to\n",
      "the final `'.'` and then suggest completions from the attributes of the\n",
      "resulting object. Note that this may execute application-defined code if\n",
      "an object with a \\_\\_getattr\\_\\_ method is part of the expression.\n",
      "\n",
      "A more capable startup file might look like this example. Note that this\n",
      "deletes the names it creates once they are no longer needed; this is\n",
      "done since the startup file is executed in the same namespace as the\n",
      "interactive commands, and removing the names avoids creating side\n",
      "effects in the interactive environment. You may find it convenient to\n",
      "keep some of the imported modules, such as os, which turn out to be\n",
      "needed in most sessions with the interpreter. :"
     ]
    },
    {
     "cell_type": "code",
     "collapsed": false,
     "input": [
      "# Add auto-completion and a stored history file of commands to your Python\n",
      "# interactive interpreter. Requires Python 2.0+, readline. Autocomplete is\n",
      "# bound to the Esc key by default (you can change it - see readline docs).\n",
      "#\n",
      "# Store the file in ~/.pystartup, and set an environment variable to point\n",
      "# to it:  \"export PYTHONSTARTUP=~/.pystartup\" in bash."
     ],
     "language": "python",
     "metadata": {},
     "outputs": []
    },
    {
     "cell_type": "code",
     "collapsed": false,
     "input": [
      "import atexit\n",
      "import os\n",
      "import readline\n",
      "import rlcompleter"
     ],
     "language": "python",
     "metadata": {},
     "outputs": []
    },
    {
     "cell_type": "code",
     "collapsed": false,
     "input": [
      "historyPath = os.path.expanduser(\"~/.pyhistory\")"
     ],
     "language": "python",
     "metadata": {},
     "outputs": []
    },
    {
     "cell_type": "code",
     "collapsed": false,
     "input": [
      "def save_history(historyPath=historyPath):\n",
      "    import readline\n",
      "    readline.write_history_file(historyPath)"
     ],
     "language": "python",
     "metadata": {},
     "outputs": []
    },
    {
     "cell_type": "code",
     "collapsed": false,
     "input": [
      "if os.path.exists(historyPath):\n",
      "    readline.read_history_file(historyPath)"
     ],
     "language": "python",
     "metadata": {},
     "outputs": []
    },
    {
     "cell_type": "code",
     "collapsed": false,
     "input": [
      "atexit.register(save_history)\n",
      "del os, atexit, readline, rlcompleter, save_history, historyPath"
     ],
     "language": "python",
     "metadata": {},
     "outputs": []
    },
    {
     "cell_type": "markdown",
     "metadata": {},
     "source": [
      "Alternatives to the Interactive Interpreter\n",
      "===========================================\n",
      "\n",
      "This facility is an enormous step forward compared to earlier versions\n",
      "of the interpreter; however, some wishes are left: It would be nice if\n",
      "the proper indentation were suggested on continuation lines (the parser\n",
      "knows if an indent token is required next). The completion mechanism\n",
      "might use the interpreter's symbol table. A command to check (or even\n",
      "suggest) matching parentheses, quotes, etc., would also be useful.\n",
      "\n",
      "One alternative enhanced interactive interpreter that has been around\n",
      "for quite some time is [IPython](http://ipython.scipy.org/), which\n",
      "features tab completion, object exploration and advanced history\n",
      "management. It can also be thoroughly customized and embedded into other\n",
      "applications. Another similar enhanced interactive environment is\n",
      "[bpython](http://www.bpython-interpreter.org/).\n",
      "\n",
      "**Footnotes**\n",
      "\n",
      "[^1]: Python will execute the contents of a file identified by the"
     ]
    },
    {
     "cell_type": "code",
     "collapsed": false,
     "input": [
      "PYTHONSTARTUP environment variable when you start an interactive\n",
      "interpreter. To customize Python even for non-interactive mode, see\n",
      "tut-customize."
     ],
     "language": "python",
     "metadata": {},
     "outputs": []
    }
   ],
   "metadata": {}
  }
 ]
}