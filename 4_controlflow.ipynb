{
 "metadata": {
  "signature": "sha256:9d4993ea6741e7db519b34d44569216e9a3b9ddd36a57d022689fb310189c361"
 },
 "nbformat": 3,
 "nbformat_minor": 0,
 "worksheets": [
  {
   "cells": [
    {
     "cell_type": "markdown",
     "metadata": {},
     "source": [
      "% More Control Flow Tools\n",
      "% \n",
      "% \n",
      "\n",
      "Besides the while statement just introduced, Python knows the usual\n",
      "control flow statements known from other languages, with some twists.\n",
      "\n",
      "if Statements\n",
      "=============\n",
      "\n",
      "Perhaps the most well-known statement type is the if statement. For\n",
      "example:"
     ]
    },
    {
     "cell_type": "code",
     "collapsed": false,
     "input": [
      ">>> x = int(raw_input(\"Please enter an integer: \"))\n",
      "Please enter an integer: 42\n",
      ">>> if x < 0:\n",
      "...     x = 0\n",
      "...     print 'Negative changed to zero'\n",
      "... elif x == 0:\n",
      "...     print 'Zero'\n",
      "... elif x == 1:\n",
      "...     print 'Single'\n",
      "... else:\n",
      "...     print 'More'\n",
      "...\n",
      "More"
     ],
     "language": "python",
     "metadata": {},
     "outputs": [
      {
       "ename": "SyntaxError",
       "evalue": "invalid syntax (<ipython-input-1-38b42a11ad89>, line 2)",
       "output_type": "pyerr",
       "traceback": [
        "\u001b[0;36m  File \u001b[0;32m\"<ipython-input-1-38b42a11ad89>\"\u001b[0;36m, line \u001b[0;32m2\u001b[0m\n\u001b[0;31m    Please enter an integer: 42\u001b[0m\n\u001b[0m               ^\u001b[0m\n\u001b[0;31mSyntaxError\u001b[0m\u001b[0;31m:\u001b[0m invalid syntax\n"
       ]
      }
     ],
     "prompt_number": 1
    },
    {
     "cell_type": "markdown",
     "metadata": {},
     "source": [
      "There can be zero or more elif parts, and the else part is optional. The\n",
      "keyword 'elif' is short for 'else if', and is useful to avoid excessive\n",
      "indentation. An if ... elif ... elif ... sequence is a substitute for\n",
      "the `switch` or `case` statements found in other languages.\n",
      "\n",
      "for Statements\n",
      "==============\n",
      "\n",
      "The for statement in Python differs a bit from what you may be used to\n",
      "in C or Pascal. Rather than always iterating over an arithmetic\n",
      "progression of numbers (like in Pascal), or giving the user the ability\n",
      "to define both the iteration step and halting condition (as C), Python's\n",
      "for statement iterates over the items of any sequence (a list or a\n",
      "string), in the order that they appear in the sequence. For example (no\n",
      "pun intended):"
     ]
    },
    {
     "cell_type": "code",
     "collapsed": false,
     "input": [
      ">>> # Measure some strings:\n",
      "... words = ['cat', 'window', 'defenestrate']\n",
      ">>> for w in words:\n",
      "...     print w, len(w)\n",
      "...\n",
      "cat 3\n",
      "window 6\n",
      "defenestrate 12"
     ],
     "language": "python",
     "metadata": {},
     "outputs": []
    },
    {
     "cell_type": "markdown",
     "metadata": {},
     "source": [
      "If you need to modify the sequence you are iterating over while inside\n",
      "the loop (for example to duplicate selected items), it is recommended\n",
      "that you first make a copy. Iterating over a sequence does not\n",
      "implicitly make a copy. The slice notation makes this especially\n",
      "convenient:"
     ]
    },
    {
     "cell_type": "code",
     "collapsed": false,
     "input": [
      ">>> for w in words[:]:  # Loop over a slice copy of the entire list.\n",
      "...     if len(w) > 6:\n",
      "...         words.insert(0, w)\n",
      "...\n",
      ">>> words\n",
      "['defenestrate', 'cat', 'window', 'defenestrate']"
     ],
     "language": "python",
     "metadata": {},
     "outputs": []
    },
    {
     "cell_type": "markdown",
     "metadata": {},
     "source": [
      "The range Function\n",
      "==================\n",
      "\n",
      "If you do need to iterate over a sequence of numbers, the built-in\n",
      "function range comes in handy. It generates lists containing arithmetic\n",
      "progressions:"
     ]
    },
    {
     "cell_type": "code",
     "collapsed": false,
     "input": [
      ">>> range(10)\n",
      "[0, 1, 2, 3, 4, 5, 6, 7, 8, 9]"
     ],
     "language": "python",
     "metadata": {},
     "outputs": []
    },
    {
     "cell_type": "markdown",
     "metadata": {},
     "source": [
      "The given end point is never part of the generated list; `range(10)`\n",
      "generates a list of 10 values, the legal indices for items of a sequence\n",
      "of length 10. It is possible to let the range start at another number,\n",
      "or to specify a different increment (even negative; sometimes this is\n",
      "called the 'step'):"
     ]
    },
    {
     "cell_type": "code",
     "collapsed": false,
     "input": [
      ">>> range(5, 10)\n",
      "[5, 6, 7, 8, 9]\n",
      ">>> range(0, 10, 3)\n",
      "[0, 3, 6, 9]\n",
      ">>> range(-10, -100, -30)\n",
      "[-10, -40, -70]"
     ],
     "language": "python",
     "metadata": {},
     "outputs": []
    },
    {
     "cell_type": "markdown",
     "metadata": {},
     "source": [
      "To iterate over the indices of a sequence, you can combine range and len\n",
      "as follows:"
     ]
    },
    {
     "cell_type": "code",
     "collapsed": false,
     "input": [
      ">>> a = ['Mary', 'had', 'a', 'little', 'lamb']\n",
      ">>> for i in range(len(a)):\n",
      "...     print i, a[i]\n",
      "...\n",
      "0 Mary\n",
      "1 had\n",
      "2 a\n",
      "3 little\n",
      "4 lamb"
     ],
     "language": "python",
     "metadata": {},
     "outputs": []
    },
    {
     "cell_type": "markdown",
     "metadata": {},
     "source": [
      "In most such cases, however, it is convenient to use the enumerate\n",
      "function, see tut-loopidioms.\n",
      "\n",
      "break and continue Statements, and else Clauses on Loops\n",
      "========================================================\n",
      "\n",
      "The break statement, like in C, breaks out of the smallest enclosing for\n",
      "or while loop.\n",
      "\n",
      "Loop statements may have an `else` clause; it is executed when the loop\n",
      "terminates through exhaustion of the list (with for) or when the\n",
      "condition becomes false (with while), but not when the loop is\n",
      "terminated by a break statement. This is exemplified by the following\n",
      "loop, which searches for prime numbers:"
     ]
    },
    {
     "cell_type": "code",
     "collapsed": false,
     "input": [
      ">>> for n in range(2, 10):\n",
      "...     for x in range(2, n):\n",
      "...         if n % x == 0:\n",
      "...             print n, 'equals', x, '*', n/x\n",
      "...             break\n",
      "...     else:\n",
      "...         # loop fell through without finding a factor\n",
      "...         print n, 'is a prime number'\n",
      "...\n",
      "2 is a prime number\n",
      "3 is a prime number\n",
      "4 equals 2 * 2\n",
      "5 is a prime number\n",
      "6 equals 2 * 3\n",
      "7 is a prime number\n",
      "8 equals 2 * 4\n",
      "9 equals 3 * 3"
     ],
     "language": "python",
     "metadata": {},
     "outputs": []
    },
    {
     "cell_type": "markdown",
     "metadata": {},
     "source": [
      "(Yes, this is the correct code. Look closely: the `else` clause belongs\n",
      "to the for loop, **not** the if statement.)\n",
      "\n",
      "When used with a loop, the `else` clause has more in common with the\n",
      "`else` clause of a try statement than it does that of if statements: a\n",
      "try statement's `else` clause runs when no exception occurs, and a\n",
      "loop's `else` clause runs when no `break` occurs. For more on the try\n",
      "statement and exceptions, see tut-handling.\n",
      "\n",
      "The continue statement, also borrowed from C, continues with the next\n",
      "iteration of the loop:"
     ]
    },
    {
     "cell_type": "code",
     "collapsed": false,
     "input": [
      ">>> for num in range(2, 10):\n",
      "...     if num % 2 == 0:\n",
      "...         print \"Found an even number\", num\n",
      "...         continue\n",
      "...     print \"Found a number\", num\n",
      "Found an even number 2\n",
      "Found a number 3\n",
      "Found an even number 4\n",
      "Found a number 5\n",
      "Found an even number 6\n",
      "Found a number 7\n",
      "Found an even number 8\n",
      "Found a number 9"
     ],
     "language": "python",
     "metadata": {},
     "outputs": []
    },
    {
     "cell_type": "markdown",
     "metadata": {},
     "source": [
      "pass Statements\n",
      "===============\n",
      "\n",
      "The pass statement does nothing. It can be used when a statement is\n",
      "required syntactically but the program requires no action. For example:"
     ]
    },
    {
     "cell_type": "code",
     "collapsed": false,
     "input": [
      ">>> while True:\n",
      "...     pass  # Busy-wait for keyboard interrupt (Ctrl+C)\n",
      "..."
     ],
     "language": "python",
     "metadata": {},
     "outputs": []
    },
    {
     "cell_type": "markdown",
     "metadata": {},
     "source": [
      "This is commonly used for creating minimal classes:"
     ]
    },
    {
     "cell_type": "code",
     "collapsed": false,
     "input": [
      ">>> class MyEmptyClass:\n",
      "...     pass\n",
      "..."
     ],
     "language": "python",
     "metadata": {},
     "outputs": []
    },
    {
     "cell_type": "markdown",
     "metadata": {},
     "source": [
      "Another place pass can be used is as a place-holder for a function or\n",
      "conditional body when you are working on new code, allowing you to keep\n",
      "thinking at a more abstract level. The pass is silently ignored:"
     ]
    },
    {
     "cell_type": "code",
     "collapsed": false,
     "input": [
      ">>> def initlog(*args):\n",
      "...     pass   # Remember to implement this!\n",
      "..."
     ],
     "language": "python",
     "metadata": {},
     "outputs": []
    },
    {
     "cell_type": "markdown",
     "metadata": {},
     "source": [
      "Defining Functions\n",
      "==================\n",
      "\n",
      "We can create a function that writes the Fibonacci series to an\n",
      "arbitrary boundary:"
     ]
    },
    {
     "cell_type": "code",
     "collapsed": false,
     "input": [
      ">>> def fib(n):    # write Fibonacci series up to n\n",
      "...     \"\"\"Print a Fibonacci series up to n.\"\"\"\n",
      "...     a, b = 0, 1\n",
      "...     while a < n:\n",
      "...         print a,\n",
      "...         a, b = b, a+b\n",
      "...\n",
      ">>> # Now call the function we just defined:\n",
      "... fib(2000)\n",
      "0 1 1 2 3 5 8 13 21 34 55 89 144 233 377 610 987 1597"
     ],
     "language": "python",
     "metadata": {},
     "outputs": []
    },
    {
     "cell_type": "markdown",
     "metadata": {},
     "source": [
      "The keyword def introduces a function *definition*. It must be followed\n",
      "by the function name and the parenthesized list of formal parameters.\n",
      "The statements that form the body of the function start at the next\n",
      "line, and must be indented.\n",
      "\n",
      "The first statement of the function body can optionally be a string\n",
      "literal; this string literal is the function's documentation string, or\n",
      "docstring. (More about docstrings can be found in the section\n",
      "tut-docstrings.) There are tools which use docstrings to automatically\n",
      "produce online or printed documentation, or to let the user\n",
      "interactively browse through code; it's good practice to include\n",
      "docstrings in code that you write, so make a habit of it.\n",
      "\n",
      "The *execution* of a function introduces a new symbol table used for the\n",
      "local variables of the function. More precisely, all variable\n",
      "assignments in a function store the value in the local symbol table;\n",
      "whereas variable references first look in the local symbol table, then\n",
      "in the local symbol tables of enclosing functions, then in the global\n",
      "symbol table, and finally in the table of built-in names. Thus, global\n",
      "variables cannot be directly assigned a value within a function (unless\n",
      "named in a global statement), although they may be referenced.\n",
      "\n",
      "The actual parameters (arguments) to a function call are introduced in\n",
      "the local symbol table of the called function when it is called; thus,\n",
      "arguments are passed using *call by value* (where the *value* is always\n",
      "an object *reference*, not the value of the object). [^1] When a\n",
      "function calls another function, a new local symbol table is created for\n",
      "that call.\n",
      "\n",
      "A function definition introduces the function name in the current symbol\n",
      "table. The value of the function name has a type that is recognized by\n",
      "the interpreter as a user-defined function. This value can be assigned\n",
      "to another name which can then also be used as a function. This serves\n",
      "as a general renaming mechanism:"
     ]
    },
    {
     "cell_type": "code",
     "collapsed": false,
     "input": [
      ">>> fib\n",
      "<function fib at 10042ed0>\n",
      ">>> f = fib\n",
      ">>> f(100)\n",
      "0 1 1 2 3 5 8 13 21 34 55 89"
     ],
     "language": "python",
     "metadata": {},
     "outputs": []
    },
    {
     "cell_type": "markdown",
     "metadata": {},
     "source": [
      "Coming from other languages, you might object that `fib` is not a\n",
      "function but a procedure since it doesn't return a value. In fact, even\n",
      "functions without a return statement do return a value, albeit a rather\n",
      "boring one. This value is called `None` (it's a built-in name). Writing\n",
      "the value `None` is normally suppressed by the interpreter if it would\n",
      "be the only value written. You can see it if you really want to using\n",
      "print:"
     ]
    },
    {
     "cell_type": "code",
     "collapsed": false,
     "input": [
      ">>> fib(0)\n",
      ">>> print fib(0)\n",
      "None"
     ],
     "language": "python",
     "metadata": {},
     "outputs": []
    },
    {
     "cell_type": "markdown",
     "metadata": {},
     "source": [
      "It is simple to write a function that returns a list of the numbers of\n",
      "the Fibonacci series, instead of printing it:"
     ]
    },
    {
     "cell_type": "code",
     "collapsed": false,
     "input": [
      ">>> def fib2(n): # return Fibonacci series up to n\n",
      "...     \"\"\"Return a list containing the Fibonacci series up to n.\"\"\"\n",
      "...     result = []\n",
      "...     a, b = 0, 1\n",
      "...     while a < n:\n",
      "...         result.append(a)    # see below\n",
      "...         a, b = b, a+b\n",
      "...     return result\n",
      "...\n",
      ">>> f100 = fib2(100)    # call it\n",
      ">>> f100                # write the result\n",
      "[0, 1, 1, 2, 3, 5, 8, 13, 21, 34, 55, 89]"
     ],
     "language": "python",
     "metadata": {},
     "outputs": []
    },
    {
     "cell_type": "markdown",
     "metadata": {},
     "source": [
      "This example, as usual, demonstrates some new Python features:\n",
      "\n",
      "-   The return statement returns with a value from a function. return"
     ]
    },
    {
     "cell_type": "code",
     "collapsed": false,
     "input": [
      "without an expression argument returns `None`. Falling off the end\n",
      "of a function also returns `None`."
     ],
     "language": "python",
     "metadata": {},
     "outputs": []
    },
    {
     "cell_type": "markdown",
     "metadata": {},
     "source": [
      "-   The statement `result.append(a)` calls a *method* of the list object"
     ]
    },
    {
     "cell_type": "code",
     "collapsed": false,
     "input": [
      "`result`. A method is a function that 'belongs' to an object and is\n",
      "named `obj.methodname`, where `obj` is some object (this may be an\n",
      "expression), and `methodname` is the name of a method that is\n",
      "defined by the object's type. Different types define different\n",
      "methods. Methods of different types may have the same name without\n",
      "causing ambiguity. (It is possible to define your own object types\n",
      "and methods, using *classes*, see tut-classes) The method append\n",
      "shown in the example is defined for list objects; it adds a new\n",
      "element at the end of the list. In this example it is equivalent to\n",
      "`result = result + [a]`, but more efficient."
     ],
     "language": "python",
     "metadata": {},
     "outputs": []
    },
    {
     "cell_type": "markdown",
     "metadata": {},
     "source": [
      "More on Defining Functions\n",
      "==========================\n",
      "\n",
      "It is also possible to define functions with a variable number of\n",
      "arguments. There are three forms, which can be combined.\n",
      "\n",
      "Default Argument Values\n",
      "-----------------------\n",
      "\n",
      "The most useful form is to specify a default value for one or more\n",
      "arguments. This creates a function that can be called with fewer\n",
      "arguments than it is defined to allow. For example:"
     ]
    },
    {
     "cell_type": "code",
     "collapsed": false,
     "input": [
      "def ask_ok(prompt, retries=4, complaint='Yes or no, please!'):\n",
      "    while True:\n",
      "        ok = raw_input(prompt)\n",
      "        if ok in ('y', 'ye', 'yes'):\n",
      "            return True\n",
      "        if ok in ('n', 'no', 'nop', 'nope'):\n",
      "            return False\n",
      "        retries = retries - 1\n",
      "        if retries < 0:\n",
      "            raise IOError('refusenik user')\n",
      "        print complaint"
     ],
     "language": "python",
     "metadata": {},
     "outputs": []
    },
    {
     "cell_type": "markdown",
     "metadata": {},
     "source": [
      "This function can be called in several ways:\n",
      "\n",
      "-   giving only the mandatory argument:"
     ]
    },
    {
     "cell_type": "code",
     "collapsed": false,
     "input": [
      "`ask_ok('Do you really want to quit?')`"
     ],
     "language": "python",
     "metadata": {},
     "outputs": []
    },
    {
     "cell_type": "markdown",
     "metadata": {},
     "source": [
      "-   giving one of the optional arguments:"
     ]
    },
    {
     "cell_type": "code",
     "collapsed": false,
     "input": [
      "`ask_ok('OK to overwrite the file?', 2)`"
     ],
     "language": "python",
     "metadata": {},
     "outputs": []
    },
    {
     "cell_type": "markdown",
     "metadata": {},
     "source": [
      "-   or even giving all arguments:"
     ]
    },
    {
     "cell_type": "code",
     "collapsed": false,
     "input": [
      "`ask_ok('OK to overwrite the file?', 2, 'Come on, only yes or no!')`"
     ],
     "language": "python",
     "metadata": {},
     "outputs": []
    },
    {
     "cell_type": "markdown",
     "metadata": {},
     "source": [
      "This example also introduces the in keyword. This tests whether or not a\n",
      "sequence contains a certain value.\n",
      "\n",
      "The default values are evaluated at the point of function definition in\n",
      "the *defining* scope, so that :"
     ]
    },
    {
     "cell_type": "code",
     "collapsed": false,
     "input": [
      "i = 5"
     ],
     "language": "python",
     "metadata": {},
     "outputs": []
    },
    {
     "cell_type": "code",
     "collapsed": false,
     "input": [
      "def f(arg=i):\n",
      "    print arg"
     ],
     "language": "python",
     "metadata": {},
     "outputs": []
    },
    {
     "cell_type": "code",
     "collapsed": false,
     "input": [
      "i = 6\n",
      "f()"
     ],
     "language": "python",
     "metadata": {},
     "outputs": []
    },
    {
     "cell_type": "markdown",
     "metadata": {},
     "source": [
      "will print `5`.\n",
      "\n",
      "**Important warning:** The default value is evaluated only once. This\n",
      "makes a difference when the default is a mutable object such as a list,\n",
      "dictionary, or instances of most classes. For example, the following\n",
      "function accumulates the arguments passed to it on subsequent calls:"
     ]
    },
    {
     "cell_type": "code",
     "collapsed": false,
     "input": [
      "def f(a, L=[]):\n",
      "    L.append(a)\n",
      "    return L"
     ],
     "language": "python",
     "metadata": {},
     "outputs": []
    },
    {
     "cell_type": "code",
     "collapsed": false,
     "input": [
      "print f(1)\n",
      "print f(2)\n",
      "print f(3)"
     ],
     "language": "python",
     "metadata": {},
     "outputs": []
    },
    {
     "cell_type": "markdown",
     "metadata": {},
     "source": [
      "This will print :"
     ]
    },
    {
     "cell_type": "code",
     "collapsed": false,
     "input": [
      "[1]\n",
      "[1, 2]\n",
      "[1, 2, 3]"
     ],
     "language": "python",
     "metadata": {},
     "outputs": []
    },
    {
     "cell_type": "markdown",
     "metadata": {},
     "source": [
      "If you don't want the default to be shared between subsequent calls, you\n",
      "can write the function like this instead:"
     ]
    },
    {
     "cell_type": "code",
     "collapsed": false,
     "input": [
      "def f(a, L=None):\n",
      "    if L is None:\n",
      "        L = []\n",
      "    L.append(a)\n",
      "    return L"
     ],
     "language": "python",
     "metadata": {},
     "outputs": []
    },
    {
     "cell_type": "markdown",
     "metadata": {},
     "source": [
      "Keyword Arguments\n",
      "-----------------\n",
      "\n",
      "Functions can also be called using\n",
      "keyword arguments \\<keyword argument\\> of the form `kwarg=value`. For\n",
      "instance, the following function:"
     ]
    },
    {
     "cell_type": "code",
     "collapsed": false,
     "input": [
      "def parrot(voltage, state='a stiff', action='voom', type='Norwegian Blue'):\n",
      "    print \"-- This parrot wouldn't\", action,\n",
      "    print \"if you put\", voltage, \"volts through it.\"\n",
      "    print \"-- Lovely plumage, the\", type\n",
      "    print \"-- It's\", state, \"!\""
     ],
     "language": "python",
     "metadata": {},
     "outputs": []
    },
    {
     "cell_type": "markdown",
     "metadata": {},
     "source": [
      "accepts one required argument (`voltage`) and three optional arguments\n",
      "(`state`, `action`, and `type`). This function can be called in any of\n",
      "the following ways:"
     ]
    },
    {
     "cell_type": "code",
     "collapsed": false,
     "input": [
      "parrot(1000)                                          # 1 positional argument\n",
      "parrot(voltage=1000)                                  # 1 keyword argument\n",
      "parrot(voltage=1000000, action='VOOOOOM')             # 2 keyword arguments\n",
      "parrot(action='VOOOOOM', voltage=1000000)             # 2 keyword arguments\n",
      "parrot('a million', 'bereft of life', 'jump')         # 3 positional arguments\n",
      "parrot('a thousand', state='pushing up the daisies')  # 1 positional, 1 keyword"
     ],
     "language": "python",
     "metadata": {},
     "outputs": []
    },
    {
     "cell_type": "markdown",
     "metadata": {},
     "source": [
      "but all the following calls would be invalid:"
     ]
    },
    {
     "cell_type": "code",
     "collapsed": false,
     "input": [
      "parrot()                     # required argument missing\n",
      "parrot(voltage=5.0, 'dead')  # non-keyword argument after a keyword argument\n",
      "parrot(110, voltage=220)     # duplicate value for the same argument\n",
      "parrot(actor='John Cleese')  # unknown keyword argument"
     ],
     "language": "python",
     "metadata": {},
     "outputs": []
    },
    {
     "cell_type": "markdown",
     "metadata": {},
     "source": [
      "In a function call, keyword arguments must follow positional arguments.\n",
      "All the keyword arguments passed must match one of the arguments\n",
      "accepted by the function (e.g. `actor` is not a valid argument for the\n",
      "`parrot` function), and their order is not important. This also includes\n",
      "non-optional arguments (e.g. `parrot(voltage=1000)` is valid too). No\n",
      "argument may receive a value more than once. Here's an example that\n",
      "fails due to this restriction:"
     ]
    },
    {
     "cell_type": "code",
     "collapsed": false,
     "input": [
      ">>> def function(a):\n",
      "...     pass\n",
      "...\n",
      ">>> function(0, a=0)\n",
      "Traceback (most recent call last):\n",
      "  File \"<stdin>\", line 1, in ?\n",
      "TypeError: function() got multiple values for keyword argument 'a'"
     ],
     "language": "python",
     "metadata": {},
     "outputs": []
    },
    {
     "cell_type": "markdown",
     "metadata": {},
     "source": [
      "When a final formal parameter of the form `**name` is present, it\n",
      "receives a dictionary (see typesmapping) containing all keyword\n",
      "arguments except for those corresponding to a formal parameter. This may\n",
      "be combined with a formal parameter of the form `*name` (described in\n",
      "the next subsection) which receives a tuple containing the positional\n",
      "arguments beyond the formal parameter list. (`*name` must occur before\n",
      "`**name`.) For example, if we define a function like this:"
     ]
    },
    {
     "cell_type": "code",
     "collapsed": false,
     "input": [
      "def cheeseshop(kind, *arguments, **keywords):\n",
      "    print \"-- Do you have any\", kind, \"?\"\n",
      "    print \"-- I'm sorry, we're all out of\", kind\n",
      "    for arg in arguments:\n",
      "        print arg\n",
      "    print \"-\" * 40\n",
      "    keys = sorted(keywords.keys())\n",
      "    for kw in keys:\n",
      "        print kw, \":\", keywords[kw]"
     ],
     "language": "python",
     "metadata": {},
     "outputs": []
    },
    {
     "cell_type": "markdown",
     "metadata": {},
     "source": [
      "It could be called like this:"
     ]
    },
    {
     "cell_type": "code",
     "collapsed": false,
     "input": [
      "cheeseshop(\"Limburger\", \"It's very runny, sir.\",\n",
      "           \"It's really very, VERY runny, sir.\",\n",
      "           shopkeeper='Michael Palin',\n",
      "           client=\"John Cleese\",\n",
      "           sketch=\"Cheese Shop Sketch\")"
     ],
     "language": "python",
     "metadata": {},
     "outputs": []
    },
    {
     "cell_type": "markdown",
     "metadata": {},
     "source": [
      "and of course it would print:"
     ]
    },
    {
     "cell_type": "code",
     "collapsed": false,
     "input": [
      "-- Do you have any Limburger ?\n",
      "-- I'm sorry, we're all out of Limburger\n",
      "It's very runny, sir.\n",
      "It's really very, VERY runny, sir.\n",
      "----------------------------------------\n",
      "client : John Cleese\n",
      "shopkeeper : Michael Palin\n",
      "sketch : Cheese Shop Sketch"
     ],
     "language": "python",
     "metadata": {},
     "outputs": []
    },
    {
     "cell_type": "markdown",
     "metadata": {},
     "source": [
      "Note that the list of keyword argument names is created by sorting the\n",
      "result of the keywords dictionary's `keys()` method before printing its\n",
      "contents; if this is not done, the order in which the arguments are\n",
      "printed is undefined.\n",
      "\n",
      "Arbitrary Argument Lists\n",
      "------------------------\n",
      "\n",
      "> statement: \\*\n",
      "\n",
      "Finally, the least frequently used option is to specify that a function\n",
      "can be called with an arbitrary number of arguments. These arguments\n",
      "will be wrapped up in a tuple (see tut-tuples). Before the variable\n",
      "number of arguments, zero or more normal arguments may occur. :"
     ]
    },
    {
     "cell_type": "code",
     "collapsed": false,
     "input": [
      "def write_multiple_items(file, separator, *args):\n",
      "    file.write(separator.join(args))"
     ],
     "language": "python",
     "metadata": {},
     "outputs": []
    },
    {
     "cell_type": "markdown",
     "metadata": {},
     "source": [
      "Unpacking Argument Lists\n",
      "------------------------\n",
      "\n",
      "The reverse situation occurs when the arguments are already in a list or\n",
      "tuple but need to be unpacked for a function call requiring separate\n",
      "positional arguments. For instance, the built-in range function expects\n",
      "separate *start* and *stop* arguments. If they are not available\n",
      "separately, write the function call with the `*`-operator to unpack the\n",
      "arguments out of a list or tuple:"
     ]
    },
    {
     "cell_type": "code",
     "collapsed": false,
     "input": [
      ">>> range(3, 6)             # normal call with separate arguments\n",
      "[3, 4, 5]\n",
      ">>> args = [3, 6]\n",
      ">>> range(*args)            # call with arguments unpacked from a list\n",
      "[3, 4, 5]"
     ],
     "language": "python",
     "metadata": {},
     "outputs": []
    },
    {
     "cell_type": "markdown",
     "metadata": {},
     "source": [
      "> statement: \\*\\*\n",
      "\n",
      "In the same fashion, dictionaries can deliver keyword arguments with the\n",
      "`**`\n",
      "-operator:"
     ]
    },
    {
     "cell_type": "code",
     "collapsed": false,
     "input": [
      ">>> def parrot(voltage, state='a stiff', action='voom'):\n",
      "...     print \"-- This parrot wouldn't\", action,\n",
      "...     print \"if you put\", voltage, \"volts through it.\",\n",
      "...     print \"E's\", state, \"!\"\n",
      "...\n",
      ">>> d = {\"voltage\": \"four million\", \"state\": \"bleedin' demised\", \"action\": \"VOOM\"}\n",
      ">>> parrot(**d)\n",
      "-- This parrot wouldn't VOOM if you put four million volts through it. E's bleedin' demised !"
     ],
     "language": "python",
     "metadata": {},
     "outputs": []
    },
    {
     "cell_type": "markdown",
     "metadata": {},
     "source": [
      "Lambda Expressions\n",
      "------------------\n",
      "\n",
      "Small anonymous functions can be created with the lambda keyword. This\n",
      "function returns the sum of its two arguments: `lambda a, b: a+b`.\n",
      "Lambda functions can be used wherever function objects are required.\n",
      "They are syntactically restricted to a single expression. Semantically,\n",
      "they are just syntactic sugar for a normal function definition. Like\n",
      "nested function definitions, lambda functions can reference variables\n",
      "from the containing scope:"
     ]
    },
    {
     "cell_type": "code",
     "collapsed": false,
     "input": [
      ">>> def make_incrementor(n):\n",
      "...     return lambda x: x + n\n",
      "...\n",
      ">>> f = make_incrementor(42)\n",
      ">>> f(0)\n",
      "42\n",
      ">>> f(1)\n",
      "43"
     ],
     "language": "python",
     "metadata": {},
     "outputs": []
    },
    {
     "cell_type": "markdown",
     "metadata": {},
     "source": [
      "The above example uses a lambda expression to return a function. Another\n",
      "use is to pass a small function as an argument:"
     ]
    },
    {
     "cell_type": "code",
     "collapsed": false,
     "input": [
      ">>> pairs = [(1, 'one'), (2, 'two'), (3, 'three'), (4, 'four')]\n",
      ">>> pairs.sort(key=lambda pair: pair[1])\n",
      ">>> pairs\n",
      "[(4, 'four'), (1, 'one'), (3, 'three'), (2, 'two')]"
     ],
     "language": "python",
     "metadata": {},
     "outputs": []
    },
    {
     "cell_type": "markdown",
     "metadata": {},
     "source": [
      "Documentation Strings\n",
      "---------------------\n",
      "\n",
      "There are emerging conventions about the content and formatting of\n",
      "documentation strings.\n",
      "\n",
      "The first line should always be a short, concise summary of the object's\n",
      "purpose. For brevity, it should not explicitly state the object's name\n",
      "or type, since these are available by other means (except if the name\n",
      "happens to be a verb describing a function's operation). This line\n",
      "should begin with a capital letter and end with a period.\n",
      "\n",
      "If there are more lines in the documentation string, the second line\n",
      "should be blank, visually separating the summary from the rest of the\n",
      "description. The following lines should be one or more paragraphs\n",
      "describing the object's calling conventions, its side effects, etc.\n",
      "\n",
      "The Python parser does not strip indentation from multi-line string\n",
      "literals in Python, so tools that process documentation have to strip\n",
      "indentation if desired. This is done using the following convention. The\n",
      "first non-blank line *after* the first line of the string determines the\n",
      "amount of indentation for the entire documentation string. (We can't use\n",
      "the first line since it is generally adjacent to the string's opening\n",
      "quotes so its indentation is not apparent in the string literal.)\n",
      "Whitespace \"equivalent\" to this indentation is then stripped from the\n",
      "start of all lines of the string. Lines that are indented less should\n",
      "not occur, but if they occur all their leading whitespace should be\n",
      "stripped. Equivalence of whitespace should be tested after expansion of\n",
      "tabs (to 8 spaces, normally).\n",
      "\n",
      "Here is an example of a multi-line docstring:"
     ]
    },
    {
     "cell_type": "code",
     "collapsed": false,
     "input": [
      ">>> def my_function():\n",
      "...     \"\"\"Do nothing, but document it.\n",
      "...\n",
      "...     No, really, it doesn't do anything.\n",
      "...     \"\"\"\n",
      "...     pass\n",
      "...\n",
      ">>> print my_function.__doc__\n",
      "Do nothing, but document it."
     ],
     "language": "python",
     "metadata": {},
     "outputs": []
    },
    {
     "cell_type": "code",
     "collapsed": false,
     "input": [
      "No, really, it doesn't do anything."
     ],
     "language": "python",
     "metadata": {},
     "outputs": []
    },
    {
     "cell_type": "markdown",
     "metadata": {},
     "source": [
      "Intermezzo: Coding Style\n",
      "========================\n",
      "\n",
      "Now that you are about to write longer, more complex pieces of Python,\n",
      "it is a good time to talk about *coding style*. Most languages can be\n",
      "written (or more concise, *formatted*) in different styles; some are\n",
      "more readable than others. Making it easy for others to read your code\n",
      "is always a good idea, and adopting a nice coding style helps\n",
      "tremendously for that.\n",
      "\n",
      "For Python, 8 has emerged as the style guide that most projects adhere\n",
      "to; it promotes a very readable and eye-pleasing coding style. Every\n",
      "Python developer should read it at some point; here are the most\n",
      "important points extracted for you:\n",
      "\n",
      "-   Use 4-space indentation, and no tabs."
     ]
    },
    {
     "cell_type": "code",
     "collapsed": false,
     "input": [
      "4 spaces are a good compromise between small indentation (allows\n",
      "greater nesting depth) and large indentation (easier to read). Tabs\n",
      "introduce confusion, and are best left out."
     ],
     "language": "python",
     "metadata": {},
     "outputs": []
    },
    {
     "cell_type": "markdown",
     "metadata": {},
     "source": [
      "-   Wrap lines so that they don't exceed 79 characters."
     ]
    },
    {
     "cell_type": "code",
     "collapsed": false,
     "input": [
      "This helps users with small displays and makes it possible to have\n",
      "several code files side-by-side on larger displays."
     ],
     "language": "python",
     "metadata": {},
     "outputs": []
    },
    {
     "cell_type": "markdown",
     "metadata": {},
     "source": [
      "-   Use blank lines to separate functions and classes, and larger blocks"
     ]
    },
    {
     "cell_type": "code",
     "collapsed": false,
     "input": [
      "of code inside functions."
     ],
     "language": "python",
     "metadata": {},
     "outputs": []
    },
    {
     "cell_type": "markdown",
     "metadata": {},
     "source": [
      "-   When possible, put comments on a line of their own.\n",
      "\n",
      "-   Use docstrings.\n",
      "\n",
      "-   Use spaces around operators and after commas, but not directly"
     ]
    },
    {
     "cell_type": "code",
     "collapsed": false,
     "input": [
      "inside bracketing constructs: `a = f(1, 2) + g(3, 4)`."
     ],
     "language": "python",
     "metadata": {},
     "outputs": []
    },
    {
     "cell_type": "markdown",
     "metadata": {},
     "source": [
      "-   Name your classes and functions consistently; the convention is to"
     ]
    },
    {
     "cell_type": "code",
     "collapsed": false,
     "input": [
      "use `CamelCase` for classes and `lower_case_with_underscores` for\n",
      "functions and methods. Always use `self` as the name for the first\n",
      "method argument (see tut-firstclasses for more on classes and\n",
      "methods)."
     ],
     "language": "python",
     "metadata": {},
     "outputs": []
    },
    {
     "cell_type": "markdown",
     "metadata": {},
     "source": [
      "-   Don't use fancy encodings if your code is meant to be used in"
     ]
    },
    {
     "cell_type": "code",
     "collapsed": false,
     "input": [
      "international environments. Plain ASCII works best in any case."
     ],
     "language": "python",
     "metadata": {},
     "outputs": []
    },
    {
     "cell_type": "markdown",
     "metadata": {},
     "source": [
      "**Footnotes**\n",
      "\n",
      "[^1]: Actually, *call by object reference* would be a better"
     ]
    },
    {
     "cell_type": "code",
     "collapsed": false,
     "input": [
      "description, since if a mutable object is passed, the caller will\n",
      "see any changes the callee makes to it (items inserted into a list)."
     ],
     "language": "python",
     "metadata": {},
     "outputs": []
    }
   ],
   "metadata": {}
  }
 ]
}