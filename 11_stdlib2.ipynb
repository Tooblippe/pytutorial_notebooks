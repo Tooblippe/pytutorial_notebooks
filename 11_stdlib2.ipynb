{
 "metadata": {},
 "nbformat": 3,
 "nbformat_minor": 0,
 "worksheets": [
  {
   "cells": [
    {
     "cell_type": "markdown",
     "metadata": {},
     "source": [
      "% Brief Tour of the Standard Library -- Part II\n",
      "% \n",
      "% \n",
      "\n",
      "This second tour covers more advanced modules that support professional\n",
      "programming needs. These modules rarely occur in small scripts.\n",
      "\n",
      "Output Formatting\n",
      "=================\n",
      "\n",
      "The repr module provides a version of repr customized for abbreviated\n",
      "displays of large or deeply nested containers:"
     ]
    },
    {
     "cell_type": "code",
     "collapsed": false,
     "input": [
      ">>> import repr\n",
      ">>> repr.repr(set('supercalifragilisticexpialidocious'))\n",
      "\"set(['a', 'c', 'd', 'e', 'f', 'g', ...])\""
     ],
     "language": "python",
     "metadata": {},
     "outputs": []
    },
    {
     "cell_type": "markdown",
     "metadata": {},
     "source": [
      "The pprint module offers more sophisticated control over printing both\n",
      "built-in and user defined objects in a way that is readable by the\n",
      "interpreter. When the result is longer than one line, the \"pretty\n",
      "printer\" adds line breaks and indentation to more clearly reveal data\n",
      "structure:"
     ]
    },
    {
     "cell_type": "code",
     "collapsed": false,
     "input": [
      ">>> import pprint\n",
      ">>> t = [[[['black', 'cyan'], 'white', ['green', 'red']], [['magenta',\n",
      "...     'yellow'], 'blue']]]\n",
      "...\n",
      ">>> pprint.pprint(t, width=30)\n",
      "[[[['black', 'cyan'],\n",
      "   'white',\n",
      "   ['green', 'red']],\n",
      "  [['magenta', 'yellow'],\n",
      "   'blue']]]"
     ],
     "language": "python",
     "metadata": {},
     "outputs": []
    },
    {
     "cell_type": "markdown",
     "metadata": {},
     "source": [
      "The textwrap module formats paragraphs of text to fit a given screen\n",
      "width:"
     ]
    },
    {
     "cell_type": "code",
     "collapsed": false,
     "input": [
      ">>> import textwrap\n",
      ">>> doc = \"\"\"The wrap() method is just like fill() except that it returns\n",
      "... a list of strings instead of one big string with newlines to separate\n",
      "... the wrapped lines.\"\"\"\n",
      "...\n",
      ">>> print textwrap.fill(doc, width=40)\n",
      "The wrap() method is just like fill()\n",
      "except that it returns a list of strings\n",
      "instead of one big string with newlines\n",
      "to separate the wrapped lines."
     ],
     "language": "python",
     "metadata": {},
     "outputs": []
    },
    {
     "cell_type": "markdown",
     "metadata": {},
     "source": [
      "The locale module accesses a database of culture specific data formats.\n",
      "The grouping attribute of locale's format function provides a direct way\n",
      "of formatting numbers with group separators:"
     ]
    },
    {
     "cell_type": "code",
     "collapsed": false,
     "input": [
      ">>> import locale\n",
      ">>> locale.setlocale(locale.LC_ALL, 'English_United States.1252')\n",
      "'English_United States.1252'\n",
      ">>> conv = locale.localeconv()          # get a mapping of conventions\n",
      ">>> x = 1234567.8\n",
      ">>> locale.format(\"%d\", x, grouping=True)\n",
      "'1,234,567'\n",
      ">>> locale.format_string(\"%s%.*f\", (conv['currency_symbol'],\n",
      "...                      conv['frac_digits'], x), grouping=True)\n",
      "'$1,234,567.80'"
     ],
     "language": "python",
     "metadata": {},
     "outputs": []
    },
    {
     "cell_type": "markdown",
     "metadata": {},
     "source": [
      "Templating\n",
      "==========\n",
      "\n",
      "The string module includes a versatile \\~string.Template class with a\n",
      "simplified syntax suitable for editing by end-users. This allows users\n",
      "to customize their applications without having to alter the application.\n",
      "\n",
      "The format uses placeholder names formed by `$` with valid Python\n",
      "identifiers (alphanumeric characters and underscores). Surrounding the\n",
      "placeholder with braces allows it to be followed by more alphanumeric\n",
      "letters with no intervening spaces. Writing `$$` creates a single\n",
      "escaped `$`:"
     ]
    },
    {
     "cell_type": "code",
     "collapsed": false,
     "input": [
      ">>> from string import Template\n",
      ">>> t = Template('${village}folk send $$10 to $cause.')\n",
      ">>> t.substitute(village='Nottingham', cause='the ditch fund')\n",
      "'Nottinghamfolk send $10 to the ditch fund.'"
     ],
     "language": "python",
     "metadata": {},
     "outputs": []
    },
    {
     "cell_type": "markdown",
     "metadata": {},
     "source": [
      "The \\~string.Template.substitute method raises a KeyError when a\n",
      "placeholder is not supplied in a dictionary or a keyword argument. For\n",
      "mail-merge style applications, user supplied data may be incomplete and\n",
      "the \\~string.Template.safe\\_substitute method may be more appropriate\n",
      "---it will leave placeholders unchanged if data is missing:"
     ]
    },
    {
     "cell_type": "code",
     "collapsed": false,
     "input": [
      ">>> t = Template('Return the $item to $owner.')\n",
      ">>> d = dict(item='unladen swallow')\n",
      ">>> t.substitute(d)\n",
      "Traceback (most recent call last):\n",
      "  ...\n",
      "KeyError: 'owner'\n",
      ">>> t.safe_substitute(d)\n",
      "'Return the unladen swallow to $owner.'"
     ],
     "language": "python",
     "metadata": {},
     "outputs": []
    },
    {
     "cell_type": "markdown",
     "metadata": {},
     "source": [
      "Template subclasses can specify a custom delimiter. For example, a batch\n",
      "renaming utility for a photo browser may elect to use percent signs for\n",
      "placeholders such as the current date, image sequence number, or file\n",
      "format:"
     ]
    },
    {
     "cell_type": "code",
     "collapsed": false,
     "input": [
      ">>> import time, os.path\n",
      ">>> photofiles = ['img_1074.jpg', 'img_1076.jpg', 'img_1077.jpg']\n",
      ">>> class BatchRename(Template):\n",
      "...     delimiter = '%'\n",
      ">>> fmt = raw_input('Enter rename style (%d-date %n-seqnum %f-format):  ')\n",
      "Enter rename style (%d-date %n-seqnum %f-format):  Ashley_%n%f"
     ],
     "language": "python",
     "metadata": {},
     "outputs": []
    },
    {
     "cell_type": "code",
     "collapsed": false,
     "input": [
      ">>> t = BatchRename(fmt)\n",
      ">>> date = time.strftime('%d%b%y')\n",
      ">>> for i, filename in enumerate(photofiles):\n",
      "...     base, ext = os.path.splitext(filename)\n",
      "...     newname = t.substitute(d=date, n=i, f=ext)\n",
      "...     print '{0} --> {1}'.format(filename, newname)"
     ],
     "language": "python",
     "metadata": {},
     "outputs": []
    },
    {
     "cell_type": "code",
     "collapsed": false,
     "input": [
      "img_1074.jpg --> Ashley_0.jpg\n",
      "img_1076.jpg --> Ashley_1.jpg\n",
      "img_1077.jpg --> Ashley_2.jpg"
     ],
     "language": "python",
     "metadata": {},
     "outputs": []
    },
    {
     "cell_type": "markdown",
     "metadata": {},
     "source": [
      "Another application for templating is separating program logic from the\n",
      "details of multiple output formats. This makes it possible to substitute\n",
      "custom templates for XML files, plain text reports, and HTML web\n",
      "reports.\n",
      "\n",
      "Working with Binary Data Record Layouts\n",
      "=======================================\n",
      "\n",
      "The struct module provides \\~struct.pack and \\~struct.unpack functions\n",
      "for working with variable length binary record formats. The following\n",
      "example shows how to loop through header information in a ZIP file\n",
      "without using the zipfile module. Pack codes `\"H\"` and `\"I\"` represent\n",
      "two and four byte unsigned numbers respectively. The `\"<\"` indicates\n",
      "that they are standard size and in little-endian byte order:"
     ]
    },
    {
     "cell_type": "code",
     "collapsed": false,
     "input": [
      "import struct"
     ],
     "language": "python",
     "metadata": {},
     "outputs": []
    },
    {
     "cell_type": "code",
     "collapsed": false,
     "input": [
      "data = open('myfile.zip', 'rb').read()\n",
      "start = 0\n",
      "for i in range(3):                      # show the first 3 file headers\n",
      "    start += 14\n",
      "    fields = struct.unpack('<IIIHH', data[start:start+16])\n",
      "    crc32, comp_size, uncomp_size, filenamesize, extra_size = fields"
     ],
     "language": "python",
     "metadata": {},
     "outputs": []
    },
    {
     "cell_type": "code",
     "collapsed": false,
     "input": [
      "start += 16\n",
      "filename = data[start:start+filenamesize]\n",
      "start += filenamesize\n",
      "extra = data[start:start+extra_size]\n",
      "print filename, hex(crc32), comp_size, uncomp_size"
     ],
     "language": "python",
     "metadata": {},
     "outputs": []
    },
    {
     "cell_type": "code",
     "collapsed": false,
     "input": [
      "start += extra_size + comp_size     # skip to the next header"
     ],
     "language": "python",
     "metadata": {},
     "outputs": []
    },
    {
     "cell_type": "markdown",
     "metadata": {},
     "source": [
      "Multi-threading\n",
      "===============\n",
      "\n",
      "Threading is a technique for decoupling tasks which are not sequentially\n",
      "dependent. Threads can be used to improve the responsiveness of\n",
      "applications that accept user input while other tasks run in the\n",
      "background. A related use case is running I/O in parallel with\n",
      "computations in another thread.\n",
      "\n",
      "The following code shows how the high level threading module can run\n",
      "tasks in background while the main program continues to run:"
     ]
    },
    {
     "cell_type": "code",
     "collapsed": false,
     "input": [
      "import threading, zipfile"
     ],
     "language": "python",
     "metadata": {},
     "outputs": []
    },
    {
     "cell_type": "code",
     "collapsed": false,
     "input": [
      "class AsyncZip(threading.Thread):\n",
      "    def __init__(self, infile, outfile):\n",
      "        threading.Thread.__init__(self)\n",
      "        self.infile = infile\n",
      "        self.outfile = outfile\n",
      "    def run(self):\n",
      "        f = zipfile.ZipFile(self.outfile, 'w', zipfile.ZIP_DEFLATED)\n",
      "        f.write(self.infile)\n",
      "        f.close()\n",
      "        print 'Finished background zip of: ', self.infile"
     ],
     "language": "python",
     "metadata": {},
     "outputs": []
    },
    {
     "cell_type": "code",
     "collapsed": false,
     "input": [
      "background = AsyncZip('mydata.txt', 'myarchive.zip')\n",
      "background.start()\n",
      "print 'The main program continues to run in foreground.'"
     ],
     "language": "python",
     "metadata": {},
     "outputs": []
    },
    {
     "cell_type": "code",
     "collapsed": false,
     "input": [
      "background.join()    # Wait for the background task to finish\n",
      "print 'Main program waited until background was done.'"
     ],
     "language": "python",
     "metadata": {},
     "outputs": []
    },
    {
     "cell_type": "markdown",
     "metadata": {},
     "source": [
      "The principal challenge of multi-threaded applications is coordinating\n",
      "threads that share data or other resources. To that end, the threading\n",
      "module provides a number of synchronization primitives including locks,\n",
      "events, condition variables, and semaphores.\n",
      "\n",
      "While those tools are powerful, minor design errors can result in\n",
      "problems that are difficult to reproduce. So, the preferred approach to\n",
      "task coordination is to concentrate all access to a resource in a single\n",
      "thread and then use the Queue module to feed that thread with requests\n",
      "from other threads. Applications using Queue.Queue objects for\n",
      "inter-thread communication and coordination are easier to design, more\n",
      "readable, and more reliable.\n",
      "\n",
      "Logging\n",
      "=======\n",
      "\n",
      "The logging module offers a full featured and flexible logging system.\n",
      "At its simplest, log messages are sent to a file or to `sys.stderr`:"
     ]
    },
    {
     "cell_type": "code",
     "collapsed": false,
     "input": [
      "import logging\n",
      "logging.debug('Debugging information')\n",
      "logging.info('Informational message')\n",
      "logging.warning('Warning:config file %s not found', 'server.conf')\n",
      "logging.error('Error occurred')\n",
      "logging.critical('Critical error -- shutting down')"
     ],
     "language": "python",
     "metadata": {},
     "outputs": []
    },
    {
     "cell_type": "markdown",
     "metadata": {},
     "source": [
      "This produces the following output:"
     ]
    },
    {
     "cell_type": "code",
     "collapsed": false,
     "input": [
      "WARNING:root:Warning:config file server.conf not found\n",
      "ERROR:root:Error occurred\n",
      "CRITICAL:root:Critical error -- shutting down"
     ],
     "language": "python",
     "metadata": {},
     "outputs": []
    },
    {
     "cell_type": "markdown",
     "metadata": {},
     "source": [
      "By default, informational and debugging messages are suppressed and the\n",
      "output is sent to standard error. Other output options include routing\n",
      "messages through email, datagrams, sockets, or to an HTTP Server. New\n",
      "filters can select different routing based on message priority:\n",
      "\\~logging.DEBUG, \\~logging.INFO, \\~logging.WARNING, \\~logging.ERROR, and\n",
      "\\~logging.CRITICAL.\n",
      "\n",
      "The logging system can be configured directly from Python or can be\n",
      "loaded from a user editable configuration file for customized logging\n",
      "without altering the application.\n",
      "\n",
      "Weak References\n",
      "===============\n",
      "\n",
      "Python does automatic memory management (reference counting for most\n",
      "objects and garbage collection to eliminate cycles). The memory is freed\n",
      "shortly after the last reference to it has been eliminated.\n",
      "\n",
      "This approach works fine for most applications but occasionally there is\n",
      "a need to track objects only as long as they are being used by something\n",
      "else. Unfortunately, just tracking them creates a reference that makes\n",
      "them permanent. The weakref module provides tools for tracking objects\n",
      "without creating a reference. When the object is no longer needed, it is\n",
      "automatically removed from a weakref table and a callback is triggered\n",
      "for weakref objects. Typical applications include caching objects that\n",
      "are expensive to create:"
     ]
    },
    {
     "cell_type": "code",
     "collapsed": false,
     "input": [
      ">>> import weakref, gc\n",
      ">>> class A:\n",
      "...     def __init__(self, value):\n",
      "...         self.value = value\n",
      "...     def __repr__(self):\n",
      "...         return str(self.value)\n",
      "...\n",
      ">>> a = A(10)                   # create a reference\n",
      ">>> d = weakref.WeakValueDictionary()\n",
      ">>> d['primary'] = a            # does not create a reference\n",
      ">>> d['primary']                # fetch the object if it is still alive\n",
      "10\n",
      ">>> del a                       # remove the one reference\n",
      ">>> gc.collect()                # run garbage collection right away\n",
      "0\n",
      ">>> d['primary']                # entry was automatically removed\n",
      "Traceback (most recent call last):\n",
      "  File \"<stdin>\", line 1, in <module>\n",
      "    d['primary']                # entry was automatically removed\n",
      "  File \"C:/python26/lib/weakref.py\", line 46, in __getitem__\n",
      "    o = self.data[key]()\n",
      "KeyError: 'primary'"
     ],
     "language": "python",
     "metadata": {},
     "outputs": []
    },
    {
     "cell_type": "markdown",
     "metadata": {},
     "source": [
      "Tools for Working with Lists\n",
      "============================\n",
      "\n",
      "Many data structure needs can be met with the built-in list type.\n",
      "However, sometimes there is a need for alternative implementations with\n",
      "different performance trade-offs.\n",
      "\n",
      "The array module provides an \\~array.array() object that is like a list\n",
      "that stores only homogeneous data and stores it more compactly. The\n",
      "following example shows an array of numbers stored as two byte unsigned\n",
      "binary numbers (typecode `\"H\"`) rather than the usual 16 bytes per entry\n",
      "for regular lists of Python int objects:"
     ]
    },
    {
     "cell_type": "code",
     "collapsed": false,
     "input": [
      ">>> from array import array\n",
      ">>> a = array('H', [4000, 10, 700, 22222])\n",
      ">>> sum(a)\n",
      "26932\n",
      ">>> a[1:3]\n",
      "array('H', [10, 700])"
     ],
     "language": "python",
     "metadata": {},
     "outputs": []
    },
    {
     "cell_type": "markdown",
     "metadata": {},
     "source": [
      "The collections module provides a \\~collections.deque() object that is\n",
      "like a list with faster appends and pops from the left side but slower\n",
      "lookups in the middle. These objects are well suited for implementing\n",
      "queues and breadth first tree searches:"
     ]
    },
    {
     "cell_type": "code",
     "collapsed": false,
     "input": [
      ">>> from collections import deque\n",
      ">>> d = deque([\"task1\", \"task2\", \"task3\"])\n",
      ">>> d.append(\"task4\")\n",
      ">>> print \"Handling\", d.popleft()\n",
      "Handling task1"
     ],
     "language": "python",
     "metadata": {},
     "outputs": []
    },
    {
     "cell_type": "code",
     "collapsed": false,
     "input": [
      "unsearched = deque([starting_node])\n",
      "def breadth_first_search(unsearched):\n",
      "    node = unsearched.popleft()\n",
      "    for m in gen_moves(node):\n",
      "        if is_goal(m):\n",
      "            return m\n",
      "        unsearched.append(m)"
     ],
     "language": "python",
     "metadata": {},
     "outputs": []
    },
    {
     "cell_type": "markdown",
     "metadata": {},
     "source": [
      "In addition to alternative list implementations, the library also offers\n",
      "other tools such as the bisect module with functions for manipulating\n",
      "sorted lists:"
     ]
    },
    {
     "cell_type": "code",
     "collapsed": false,
     "input": [
      ">>> import bisect\n",
      ">>> scores = [(100, 'perl'), (200, 'tcl'), (400, 'lua'), (500, 'python')]\n",
      ">>> bisect.insort(scores, (300, 'ruby'))\n",
      ">>> scores\n",
      "[(100, 'perl'), (200, 'tcl'), (300, 'ruby'), (400, 'lua'), (500, 'python')]"
     ],
     "language": "python",
     "metadata": {},
     "outputs": []
    },
    {
     "cell_type": "markdown",
     "metadata": {},
     "source": [
      "The heapq module provides functions for implementing heaps based on\n",
      "regular lists. The lowest valued entry is always kept at position zero.\n",
      "This is useful for applications which repeatedly access the smallest\n",
      "element but do not want to run a full list sort:"
     ]
    },
    {
     "cell_type": "code",
     "collapsed": false,
     "input": [
      ">>> from heapq import heapify, heappop, heappush\n",
      ">>> data = [1, 3, 5, 7, 9, 2, 4, 6, 8, 0]\n",
      ">>> heapify(data)                      # rearrange the list into heap order\n",
      ">>> heappush(data, -5)                 # add a new entry\n",
      ">>> [heappop(data) for i in range(3)]  # fetch the three smallest entries\n",
      "[-5, 0, 1]"
     ],
     "language": "python",
     "metadata": {},
     "outputs": []
    },
    {
     "cell_type": "markdown",
     "metadata": {},
     "source": [
      "Decimal Floating Point Arithmetic\n",
      "=================================\n",
      "\n",
      "The decimal module offers a \\~decimal.Decimal datatype for decimal\n",
      "floating point arithmetic. Compared to the built-in float implementation\n",
      "of binary floating point, the class is especially helpful for\n",
      "\n",
      "-   financial applications and other uses which require exact decimal"
     ]
    },
    {
     "cell_type": "code",
     "collapsed": false,
     "input": [
      "representation,"
     ],
     "language": "python",
     "metadata": {},
     "outputs": []
    },
    {
     "cell_type": "markdown",
     "metadata": {},
     "source": [
      "-   control over precision,\n",
      "-   control over rounding to meet legal or regulatory requirements,\n",
      "-   tracking of significant decimal places, or\n",
      "-   applications where the user expects the results to match"
     ]
    },
    {
     "cell_type": "code",
     "collapsed": false,
     "input": [
      "calculations done by hand."
     ],
     "language": "python",
     "metadata": {},
     "outputs": []
    },
    {
     "cell_type": "markdown",
     "metadata": {},
     "source": [
      "For example, calculating a 5% tax on a 70 cent phone charge gives\n",
      "different results in decimal floating point and binary floating point.\n",
      "The difference becomes significant if the results are rounded to the\n",
      "nearest cent:"
     ]
    },
    {
     "cell_type": "code",
     "collapsed": false,
     "input": [
      ">>> from decimal import *\n",
      ">>> x = Decimal('0.70') * Decimal('1.05')\n",
      ">>> x\n",
      "Decimal('0.7350')\n",
      ">>> x.quantize(Decimal('0.01'))  # round to nearest cent\n",
      "Decimal('0.74')\n",
      ">>> round(.70 * 1.05, 2)         # same calculation with floats\n",
      "0.73"
     ],
     "language": "python",
     "metadata": {},
     "outputs": []
    },
    {
     "cell_type": "markdown",
     "metadata": {},
     "source": [
      "The \\~decimal.Decimal result keeps a trailing zero, automatically\n",
      "inferring four place significance from multiplicands with two place\n",
      "significance. Decimal reproduces mathematics as done by hand and avoids\n",
      "issues that can arise when binary floating point cannot exactly\n",
      "represent decimal quantities.\n",
      "\n",
      "Exact representation enables the \\~decimal.Decimal class to perform\n",
      "modulo calculations and equality tests that are unsuitable for binary\n",
      "floating point:"
     ]
    },
    {
     "cell_type": "code",
     "collapsed": false,
     "input": [
      ">>> Decimal('1.00') % Decimal('.10')\n",
      "Decimal('0.00')\n",
      ">>> 1.00 % 0.10\n",
      "0.09999999999999995"
     ],
     "language": "python",
     "metadata": {},
     "outputs": []
    },
    {
     "cell_type": "code",
     "collapsed": false,
     "input": [
      ">>> sum([Decimal('0.1')]*10) == Decimal('1.0')\n",
      "True\n",
      ">>> sum([0.1]*10) == 1.0\n",
      "False"
     ],
     "language": "python",
     "metadata": {},
     "outputs": []
    },
    {
     "cell_type": "markdown",
     "metadata": {},
     "source": [
      "The decimal module provides arithmetic with as much precision as needed:"
     ]
    },
    {
     "cell_type": "code",
     "collapsed": false,
     "input": [
      ">>> getcontext().prec = 36\n",
      ">>> Decimal(1) / Decimal(7)\n",
      "Decimal('0.142857142857142857142857142857142857')"
     ],
     "language": "python",
     "metadata": {},
     "outputs": []
    }
   ],
   "metadata": {}
  }
 ]
}