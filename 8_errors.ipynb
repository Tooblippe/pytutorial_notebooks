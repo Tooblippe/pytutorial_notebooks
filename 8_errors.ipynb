{
 "metadata": {},
 "nbformat": 3,
 "nbformat_minor": 0,
 "worksheets": [
  {
   "cells": [
    {
     "cell_type": "markdown",
     "metadata": {},
     "source": [
      "% Errors and Exceptions\n",
      "% \n",
      "% \n",
      "\n",
      "Until now error messages haven't been more than mentioned, but if you\n",
      "have tried out the examples you have probably seen some. There are (at\n",
      "least) two distinguishable kinds of errors: *syntax errors* and\n",
      "*exceptions*.\n",
      "\n",
      "Syntax Errors\n",
      "=============\n",
      "\n",
      "Syntax errors, also known as parsing errors, are perhaps the most common\n",
      "kind of complaint you get while you are still learning Python:"
     ]
    },
    {
     "cell_type": "code",
     "collapsed": false,
     "input": [
      ">>> while True print 'Hello world'\n",
      "  File \"<stdin>\", line 1, in ?\n",
      "    while True print 'Hello world'\n",
      "                   ^\n",
      "SyntaxError: invalid syntax"
     ],
     "language": "python",
     "metadata": {},
     "outputs": []
    },
    {
     "cell_type": "markdown",
     "metadata": {},
     "source": [
      "The parser repeats the offending line and displays a little 'arrow'\n",
      "pointing at the earliest point in the line where the error was detected.\n",
      "The error is caused by (or at least detected at) the token *preceding*\n",
      "the arrow: in the example, the error is detected at the keyword print,\n",
      "since a colon (`':'`) is missing before it. File name and line number\n",
      "are printed so you know where to look in case the input came from a\n",
      "script.\n",
      "\n",
      "Exceptions\n",
      "==========\n",
      "\n",
      "Even if a statement or expression is syntactically correct, it may cause\n",
      "an error when an attempt is made to execute it. Errors detected during\n",
      "execution are called *exceptions* and are not unconditionally fatal: you\n",
      "will soon learn how to handle them in Python programs. Most exceptions\n",
      "are not handled by programs, however, and result in error messages as\n",
      "shown here:"
     ]
    },
    {
     "cell_type": "code",
     "collapsed": false,
     "input": [
      ">>> 10 * (1/0)\n",
      "Traceback (most recent call last):\n",
      "  File \"<stdin>\", line 1, in ?\n",
      "ZeroDivisionError: integer division or modulo by zero\n",
      ">>> 4 + spam*3\n",
      "Traceback (most recent call last):\n",
      "  File \"<stdin>\", line 1, in ?\n",
      "NameError: name 'spam' is not defined\n",
      ">>> '2' + 2\n",
      "Traceback (most recent call last):\n",
      "  File \"<stdin>\", line 1, in ?\n",
      "TypeError: cannot concatenate 'str' and 'int' objects"
     ],
     "language": "python",
     "metadata": {},
     "outputs": []
    },
    {
     "cell_type": "markdown",
     "metadata": {},
     "source": [
      "The last line of the error message indicates what happened. Exceptions\n",
      "come in different types, and the type is printed as part of the message:\n",
      "the types in the example are ZeroDivisionError, NameError and TypeError.\n",
      "The string printed as the exception type is the name of the built-in\n",
      "exception that occurred. This is true for all built-in exceptions, but\n",
      "need not be true for user-defined exceptions (although it is a useful\n",
      "convention). Standard exception names are built-in identifiers (not\n",
      "reserved keywords).\n",
      "\n",
      "The rest of the line provides detail based on the type of exception and\n",
      "what caused it.\n",
      "\n",
      "The preceding part of the error message shows the context where the\n",
      "exception happened, in the form of a stack traceback. In general it\n",
      "contains a stack traceback listing source lines; however, it will not\n",
      "display lines read from standard input.\n",
      "\n",
      "bltin-exceptions lists the built-in exceptions and their meanings.\n",
      "\n",
      "Handling Exceptions\n",
      "===================\n",
      "\n",
      "It is possible to write programs that handle selected exceptions. Look\n",
      "at the following example, which asks the user for input until a valid\n",
      "integer has been entered, but allows the user to interrupt the program\n",
      "(using Control-C or whatever the operating system supports); note that a\n",
      "user-generated interruption is signalled by raising the\n",
      "KeyboardInterrupt exception. :"
     ]
    },
    {
     "cell_type": "code",
     "collapsed": false,
     "input": [
      ">>> while True:\n",
      "...     try:\n",
      "...         x = int(raw_input(\"Please enter a number: \"))\n",
      "...         break\n",
      "...     except ValueError:\n",
      "...         print \"Oops!  That was no valid number.  Try again...\"\n",
      "..."
     ],
     "language": "python",
     "metadata": {},
     "outputs": []
    },
    {
     "cell_type": "markdown",
     "metadata": {},
     "source": [
      "The try statement works as follows.\n",
      "\n",
      "-   First, the *try clause* (the statement(s) between the try and except"
     ]
    },
    {
     "cell_type": "code",
     "collapsed": false,
     "input": [
      "keywords) is executed."
     ],
     "language": "python",
     "metadata": {},
     "outputs": []
    },
    {
     "cell_type": "markdown",
     "metadata": {},
     "source": [
      "-   If no exception occurs, the *except clause* is skipped and execution"
     ]
    },
    {
     "cell_type": "code",
     "collapsed": false,
     "input": [
      "of the try statement is finished."
     ],
     "language": "python",
     "metadata": {},
     "outputs": []
    },
    {
     "cell_type": "markdown",
     "metadata": {},
     "source": [
      "-   If an exception occurs during execution of the try clause, the rest"
     ]
    },
    {
     "cell_type": "code",
     "collapsed": false,
     "input": [
      "of the clause is skipped. Then if its type matches the exception\n",
      "named after the except keyword, the except clause is executed, and\n",
      "then execution continues after the try statement."
     ],
     "language": "python",
     "metadata": {},
     "outputs": []
    },
    {
     "cell_type": "markdown",
     "metadata": {},
     "source": [
      "-   If an exception occurs which does not match the exception named in"
     ]
    },
    {
     "cell_type": "code",
     "collapsed": false,
     "input": [
      "the except clause, it is passed on to outer try statements; if no\n",
      "handler is found, it is an *unhandled exception* and execution stops\n",
      "with a message as shown above."
     ],
     "language": "python",
     "metadata": {},
     "outputs": []
    },
    {
     "cell_type": "markdown",
     "metadata": {},
     "source": [
      "A try statement may have more than one except clause, to specify\n",
      "handlers for different exceptions. At most one handler will be executed.\n",
      "Handlers only handle exceptions that occur in the corresponding try\n",
      "clause, not in other handlers of the same try statement. An except\n",
      "clause may name multiple exceptions as a parenthesized tuple, for\n",
      "example:"
     ]
    },
    {
     "cell_type": "code",
     "collapsed": false,
     "input": [
      "... except (RuntimeError, TypeError, NameError):\n",
      "...     pass"
     ],
     "language": "python",
     "metadata": {},
     "outputs": []
    },
    {
     "cell_type": "markdown",
     "metadata": {},
     "source": [
      "Note that the parentheses around this tuple are required, because\n",
      "`except ValueError, e:` was the syntax used for what is normally written\n",
      "as `except ValueError as e:` in modern Python (described below). The old\n",
      "syntax is still supported for backwards compatibility. This means\n",
      "`except RuntimeError, TypeError` is not equivalent to\n",
      "`except (RuntimeError, TypeError):` but to\n",
      "`except RuntimeError as TypeError:` which is not what you want.\n",
      "\n",
      "The last except clause may omit the exception name(s), to serve as a\n",
      "wildcard. Use this with extreme caution, since it is easy to mask a real\n",
      "programming error in this way! It can also be used to print an error\n",
      "message and then re-raise the exception (allowing a caller to handle the\n",
      "exception as well):"
     ]
    },
    {
     "cell_type": "code",
     "collapsed": false,
     "input": [
      "import sys"
     ],
     "language": "python",
     "metadata": {},
     "outputs": []
    },
    {
     "cell_type": "code",
     "collapsed": false,
     "input": [
      "try:\n",
      "    f = open('myfile.txt')\n",
      "    s = f.readline()\n",
      "    i = int(s.strip())\n",
      "except IOError as e:\n",
      "    print \"I/O error({0}): {1}\".format(e.errno, e.strerror)\n",
      "except ValueError:\n",
      "    print \"Could not convert data to an integer.\"\n",
      "except:\n",
      "    print \"Unexpected error:\", sys.exc_info()[0]\n",
      "    raise"
     ],
     "language": "python",
     "metadata": {},
     "outputs": []
    },
    {
     "cell_type": "markdown",
     "metadata": {},
     "source": [
      "The try ... except statement has an optional *else clause*, which, when\n",
      "present, must follow all except clauses. It is useful for code that must\n",
      "be executed if the try clause does not raise an exception. For example:"
     ]
    },
    {
     "cell_type": "code",
     "collapsed": false,
     "input": [
      "for arg in sys.argv[1:]:\n",
      "    try:\n",
      "        f = open(arg, 'r')\n",
      "    except IOError:\n",
      "        print 'cannot open', arg\n",
      "    else:\n",
      "        print arg, 'has', len(f.readlines()), 'lines'\n",
      "        f.close()"
     ],
     "language": "python",
     "metadata": {},
     "outputs": []
    },
    {
     "cell_type": "markdown",
     "metadata": {},
     "source": [
      "The use of the else clause is better than adding additional code to the\n",
      "try clause because it avoids accidentally catching an exception that\n",
      "wasn't raised by the code being protected by the try ... except\n",
      "statement.\n",
      "\n",
      "When an exception occurs, it may have an associated value, also known as\n",
      "the exception's *argument*. The presence and type of the argument depend\n",
      "on the exception type.\n",
      "\n",
      "The except clause may specify a variable after the exception name (or\n",
      "tuple). The variable is bound to an exception instance with the\n",
      "arguments stored in `instance.args`. For convenience, the exception\n",
      "instance defines \\_\\_str\\_\\_ so the arguments can be printed directly\n",
      "without having to reference `.args`.\n",
      "\n",
      "One may also instantiate an exception first before raising it and add\n",
      "any attributes to it as desired. :"
     ]
    },
    {
     "cell_type": "code",
     "collapsed": false,
     "input": [
      ">>> try:\n",
      "...    raise Exception('spam', 'eggs')\n",
      "... except Exception as inst:\n",
      "...    print type(inst)     # the exception instance\n",
      "...    print inst.args      # arguments stored in .args\n",
      "...    print inst           # __str__ allows args to printed directly\n",
      "...    x, y = inst.args\n",
      "...    print 'x =', x\n",
      "...    print 'y =', y\n",
      "...\n",
      "<type 'exceptions.Exception'>\n",
      "('spam', 'eggs')\n",
      "('spam', 'eggs')\n",
      "x = spam\n",
      "y = eggs"
     ],
     "language": "python",
     "metadata": {},
     "outputs": []
    },
    {
     "cell_type": "markdown",
     "metadata": {},
     "source": [
      "If an exception has an argument, it is printed as the last part\n",
      "('detail') of the message for unhandled exceptions.\n",
      "\n",
      "Exception handlers don't just handle exceptions if they occur\n",
      "immediately in the try clause, but also if they occur inside functions\n",
      "that are called (even indirectly) in the try clause. For example:"
     ]
    },
    {
     "cell_type": "code",
     "collapsed": false,
     "input": [
      ">>> def this_fails():\n",
      "...     x = 1/0\n",
      "...\n",
      ">>> try:\n",
      "...     this_fails()\n",
      "... except ZeroDivisionError as detail:\n",
      "...     print 'Handling run-time error:', detail\n",
      "...\n",
      "Handling run-time error: integer division or modulo by zero"
     ],
     "language": "python",
     "metadata": {},
     "outputs": []
    },
    {
     "cell_type": "markdown",
     "metadata": {},
     "source": [
      "Raising Exceptions\n",
      "==================\n",
      "\n",
      "The raise statement allows the programmer to force a specified exception\n",
      "to occur. For example:"
     ]
    },
    {
     "cell_type": "code",
     "collapsed": false,
     "input": [
      ">>> raise NameError('HiThere')\n",
      "Traceback (most recent call last):\n",
      "  File \"<stdin>\", line 1, in ?\n",
      "NameError: HiThere"
     ],
     "language": "python",
     "metadata": {},
     "outputs": []
    },
    {
     "cell_type": "markdown",
     "metadata": {},
     "source": [
      "The sole argument to raise indicates the exception to be raised. This\n",
      "must be either an exception instance or an exception class (a class that\n",
      "derives from Exception).\n",
      "\n",
      "If you need to determine whether an exception was raised but don't\n",
      "intend to handle it, a simpler form of the raise statement allows you to\n",
      "re-raise the exception:"
     ]
    },
    {
     "cell_type": "code",
     "collapsed": false,
     "input": [
      ">>> try:\n",
      "...     raise NameError('HiThere')\n",
      "... except NameError:\n",
      "...     print 'An exception flew by!'\n",
      "...     raise\n",
      "...\n",
      "An exception flew by!\n",
      "Traceback (most recent call last):\n",
      "  File \"<stdin>\", line 2, in ?\n",
      "NameError: HiThere"
     ],
     "language": "python",
     "metadata": {},
     "outputs": []
    },
    {
     "cell_type": "markdown",
     "metadata": {},
     "source": [
      "User-defined Exceptions\n",
      "=======================\n",
      "\n",
      "Programs may name their own exceptions by creating a new exception class\n",
      "(see tut-classes for more about Python classes). Exceptions should\n",
      "typically be derived from the Exception class, either directly or\n",
      "indirectly. For example:"
     ]
    },
    {
     "cell_type": "code",
     "collapsed": false,
     "input": [
      ">>> class MyError(Exception):\n",
      "...     def __init__(self, value):\n",
      "...         self.value = value\n",
      "...     def __str__(self):\n",
      "...         return repr(self.value)\n",
      "...\n",
      ">>> try:\n",
      "...     raise MyError(2*2)\n",
      "... except MyError as e:\n",
      "...     print 'My exception occurred, value:', e.value\n",
      "...\n",
      "My exception occurred, value: 4\n",
      ">>> raise MyError('oops!')\n",
      "Traceback (most recent call last):\n",
      "  File \"<stdin>\", line 1, in ?\n",
      "__main__.MyError: 'oops!'"
     ],
     "language": "python",
     "metadata": {},
     "outputs": []
    },
    {
     "cell_type": "markdown",
     "metadata": {},
     "source": [
      "In this example, the default \\_\\_init\\_\\_ of Exception has been\n",
      "overridden. The new behavior simply creates the *value* attribute. This\n",
      "replaces the default behavior of creating the *args* attribute.\n",
      "\n",
      "Exception classes can be defined which do anything any other class can\n",
      "do, but are usually kept simple, often only offering a number of\n",
      "attributes that allow information about the error to be extracted by\n",
      "handlers for the exception. When creating a module that can raise\n",
      "several distinct errors, a common practice is to create a base class for\n",
      "exceptions defined by that module, and subclass that to create specific\n",
      "exception classes for different error conditions:"
     ]
    },
    {
     "cell_type": "code",
     "collapsed": false,
     "input": [
      "class Error(Exception):\n",
      "    \"\"\"Base class for exceptions in this module.\"\"\"\n",
      "    pass"
     ],
     "language": "python",
     "metadata": {},
     "outputs": []
    },
    {
     "cell_type": "code",
     "collapsed": false,
     "input": [
      "class InputError(Error):\n",
      "    \"\"\"Exception raised for errors in the input."
     ],
     "language": "python",
     "metadata": {},
     "outputs": []
    },
    {
     "cell_type": "code",
     "collapsed": false,
     "input": [
      "Attributes:\n",
      "    expr -- input expression in which the error occurred\n",
      "    msg  -- explanation of the error\n",
      "\"\"\""
     ],
     "language": "python",
     "metadata": {},
     "outputs": []
    },
    {
     "cell_type": "code",
     "collapsed": false,
     "input": [
      "def __init__(self, expr, msg):\n",
      "    self.expr = expr\n",
      "    self.msg = msg"
     ],
     "language": "python",
     "metadata": {},
     "outputs": []
    },
    {
     "cell_type": "code",
     "collapsed": false,
     "input": [
      "class TransitionError(Error):\n",
      "    \"\"\"Raised when an operation attempts a state transition that's not\n",
      "    allowed."
     ],
     "language": "python",
     "metadata": {},
     "outputs": []
    },
    {
     "cell_type": "code",
     "collapsed": false,
     "input": [
      "Attributes:\n",
      "    prev -- state at beginning of transition\n",
      "    next -- attempted new state\n",
      "    msg  -- explanation of why the specific transition is not allowed\n",
      "\"\"\""
     ],
     "language": "python",
     "metadata": {},
     "outputs": []
    },
    {
     "cell_type": "code",
     "collapsed": false,
     "input": [
      "def __init__(self, prev, next, msg):\n",
      "    self.prev = prev\n",
      "    self.next = next\n",
      "    self.msg = msg"
     ],
     "language": "python",
     "metadata": {},
     "outputs": []
    },
    {
     "cell_type": "markdown",
     "metadata": {},
     "source": [
      "Most exceptions are defined with names that end in \"Error,\" similar to\n",
      "the naming of the standard exceptions.\n",
      "\n",
      "Many standard modules define their own exceptions to report errors that\n",
      "may occur in functions they define. More information on classes is\n",
      "presented in chapter tut-classes.\n",
      "\n",
      "Defining Clean-up Actions\n",
      "=========================\n",
      "\n",
      "The try statement has another optional clause which is intended to\n",
      "define clean-up actions that must be executed under all circumstances.\n",
      "For example:"
     ]
    },
    {
     "cell_type": "code",
     "collapsed": false,
     "input": [
      ">>> try:\n",
      "...     raise KeyboardInterrupt\n",
      "... finally:\n",
      "...     print 'Goodbye, world!'\n",
      "...\n",
      "Goodbye, world!\n",
      "Traceback (most recent call last):\n",
      "  File \"<stdin>\", line 2, in ?\n",
      "KeyboardInterrupt"
     ],
     "language": "python",
     "metadata": {},
     "outputs": []
    },
    {
     "cell_type": "markdown",
     "metadata": {},
     "source": [
      "A *finally clause* is always executed before leaving the try statement,\n",
      "whether an exception has occurred or not. When an exception has occurred\n",
      "in the try clause and has not been handled by an except clause (or it\n",
      "has occurred in a except or else clause), it is re-raised after the\n",
      "finally clause has been executed. The finally clause is also executed\n",
      "\"on the way out\" when any other clause of the try statement is left via\n",
      "a break, continue or return statement. A more complicated example\n",
      "(having except and finally clauses in the same try statement works as of\n",
      "Python 2.5):"
     ]
    },
    {
     "cell_type": "code",
     "collapsed": false,
     "input": [
      ">>> def divide(x, y):\n",
      "...     try:\n",
      "...         result = x / y\n",
      "...     except ZeroDivisionError:\n",
      "...         print \"division by zero!\"\n",
      "...     else:\n",
      "...         print \"result is\", result\n",
      "...     finally:\n",
      "...         print \"executing finally clause\"\n",
      "...\n",
      ">>> divide(2, 1)\n",
      "result is 2\n",
      "executing finally clause\n",
      ">>> divide(2, 0)\n",
      "division by zero!\n",
      "executing finally clause\n",
      ">>> divide(\"2\", \"1\")\n",
      "executing finally clause\n",
      "Traceback (most recent call last):\n",
      "  File \"<stdin>\", line 1, in ?\n",
      "  File \"<stdin>\", line 3, in divide\n",
      "TypeError: unsupported operand type(s) for /: 'str' and 'str'"
     ],
     "language": "python",
     "metadata": {},
     "outputs": []
    },
    {
     "cell_type": "markdown",
     "metadata": {},
     "source": [
      "As you can see, the finally clause is executed in any event. The\n",
      "TypeError raised by dividing two strings is not handled by the except\n",
      "clause and therefore re-raised after the finally clause has been\n",
      "executed.\n",
      "\n",
      "In real world applications, the finally clause is useful for releasing\n",
      "external resources (such as files or network connections), regardless of\n",
      "whether the use of the resource was successful.\n",
      "\n",
      "Predefined Clean-up Actions\n",
      "===========================\n",
      "\n",
      "Some objects define standard clean-up actions to be undertaken when the\n",
      "object is no longer needed, regardless of whether or not the operation\n",
      "using the object succeeded or failed. Look at the following example,\n",
      "which tries to open a file and print its contents to the screen. :"
     ]
    },
    {
     "cell_type": "code",
     "collapsed": false,
     "input": [
      "for line in open(\"myfile.txt\"):\n",
      "    print line,"
     ],
     "language": "python",
     "metadata": {},
     "outputs": []
    },
    {
     "cell_type": "markdown",
     "metadata": {},
     "source": [
      "The problem with this code is that it leaves the file open for an\n",
      "indeterminate amount of time after the code has finished executing. This\n",
      "is not an issue in simple scripts, but can be a problem for larger\n",
      "applications. The with statement allows objects like files to be used in\n",
      "a way that ensures they are always cleaned up promptly and correctly. :"
     ]
    },
    {
     "cell_type": "code",
     "collapsed": false,
     "input": [
      "with open(\"myfile.txt\") as f:\n",
      "    for line in f:\n",
      "        print line,"
     ],
     "language": "python",
     "metadata": {},
     "outputs": []
    },
    {
     "cell_type": "markdown",
     "metadata": {},
     "source": [
      "After the statement is executed, the file *f* is always closed, even if\n",
      "a problem was encountered while processing the lines. Other objects\n",
      "which provide predefined clean-up actions will indicate this in their\n",
      "documentation.\n"
     ]
    }
   ],
   "metadata": {}
  }
 ]
}