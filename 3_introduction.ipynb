{
 "metadata": {},
 "nbformat": 3,
 "nbformat_minor": 0,
 "worksheets": [
  {
   "cells": [
    {
     "cell_type": "markdown",
     "metadata": {},
     "source": [
      "% An Informal Introduction to Python\n",
      "% \n",
      "% \n",
      "\n",
      "In the following examples, input and output are distinguished by the\n",
      "presence or absence of prompts (`>>>` and `...`): to repeat the example,\n",
      "you must type everything after the prompt, when the prompt appears;\n",
      "lines that do not begin with a prompt are output from the interpreter.\n",
      "Note that a secondary prompt on a line by itself in an example means you\n",
      "must type a blank line; this is used to end a multi-line command.\n",
      "\n",
      "Many of the examples in this manual, even those entered at the\n",
      "interactive prompt, include comments. Comments in Python start with the\n",
      "hash character, `#`, and extend to the end of the physical line. A\n",
      "comment may appear at the start of a line or following whitespace or\n",
      "code, but not within a string literal. A hash character within a string\n",
      "literal is just a hash character. Since comments are to clarify code and\n",
      "are not interpreted by Python, they may be omitted when typing in\n",
      "examples.\n",
      "\n",
      "Some examples:"
     ]
    },
    {
     "cell_type": "code",
     "collapsed": false,
     "input": [
      "# this is the first comment\n",
      "SPAM = 1                 # and this is the second comment\n",
      "                         # ... and now a third!\n",
      "STRING = \"# This is not a comment.\""
     ],
     "language": "python",
     "metadata": {},
     "outputs": []
    },
    {
     "cell_type": "markdown",
     "metadata": {},
     "source": [
      "Using Python as a Calculator\n",
      "============================\n",
      "\n",
      "Let's try some simple Python commands. Start the interpreter and wait\n",
      "for the primary prompt, `>>>`. (It shouldn't take long.)\n",
      "\n",
      "Numbers\n",
      "-------\n",
      "\n",
      "The interpreter acts as a simple calculator: you can type an expression\n",
      "at it and it will write the value. Expression syntax is straightforward:\n",
      "the operators `+`, `-`, `*` and `/` work just like in most other\n",
      "languages (for example, Pascal or C); parentheses can be used for\n",
      "grouping. For example:"
     ]
    },
    {
     "cell_type": "code",
     "collapsed": false,
     "input": [
      ">>> 2+2\n",
      "4\n",
      ">>> # This is a comment\n",
      "... 2+2\n",
      "4\n",
      ">>> 2+2  # and a comment on the same line as code\n",
      "4\n",
      ">>> (50-5*6)/4\n",
      "5\n",
      ">>> # Integer division returns the floor:\n",
      "... 7/3\n",
      "2\n",
      ">>> 7/-3\n",
      "-3"
     ],
     "language": "python",
     "metadata": {},
     "outputs": []
    },
    {
     "cell_type": "markdown",
     "metadata": {},
     "source": [
      "The equal sign (`'='`) is used to assign a value to a variable.\n",
      "Afterwards, no result is displayed before the next interactive prompt:"
     ]
    },
    {
     "cell_type": "code",
     "collapsed": false,
     "input": [
      ">>> width = 20\n",
      ">>> height = 5*9\n",
      ">>> width * height\n",
      "900"
     ],
     "language": "python",
     "metadata": {},
     "outputs": []
    },
    {
     "cell_type": "markdown",
     "metadata": {},
     "source": [
      "A value can be assigned to several variables simultaneously:"
     ]
    },
    {
     "cell_type": "code",
     "collapsed": false,
     "input": [
      ">>> x = y = z = 0  # Zero x, y and z\n",
      ">>> x\n",
      "0\n",
      ">>> y\n",
      "0\n",
      ">>> z\n",
      "0"
     ],
     "language": "python",
     "metadata": {},
     "outputs": []
    },
    {
     "cell_type": "markdown",
     "metadata": {},
     "source": [
      "Variables must be \"defined\" (assigned a value) before they can be used,\n",
      "or an error will occur:"
     ]
    },
    {
     "cell_type": "code",
     "collapsed": false,
     "input": [
      ">>> n  # try to access an undefined variable\n",
      "Traceback (most recent call last):\n",
      "  File \"<stdin>\", line 1, in <module>\n",
      "NameError: name 'n' is not defined"
     ],
     "language": "python",
     "metadata": {},
     "outputs": []
    },
    {
     "cell_type": "markdown",
     "metadata": {},
     "source": [
      "There is full support for floating point; operators with mixed type\n",
      "operands convert the integer operand to floating point:"
     ]
    },
    {
     "cell_type": "code",
     "collapsed": false,
     "input": [
      ">>> 3 * 3.75 / 1.5\n",
      "7.5\n",
      ">>> 7.0 / 2\n",
      "3.5"
     ],
     "language": "python",
     "metadata": {},
     "outputs": []
    },
    {
     "cell_type": "markdown",
     "metadata": {},
     "source": [
      "Complex numbers are also supported; imaginary numbers are written with a\n",
      "suffix of `j` or `J`. Complex numbers with a nonzero real component are\n",
      "written as `(real+imagj)`, or can be created with the\n",
      "`complex(real, imag)` function. :"
     ]
    },
    {
     "cell_type": "code",
     "collapsed": false,
     "input": [
      ">>> 1j * 1J\n",
      "(-1+0j)\n",
      ">>> 1j * complex(0,1)\n",
      "(-1+0j)\n",
      ">>> 3+1j*3\n",
      "(3+3j)\n",
      ">>> (3+1j)*3\n",
      "(9+3j)\n",
      ">>> (1+2j)/(1+1j)\n",
      "(1.5+0.5j)"
     ],
     "language": "python",
     "metadata": {},
     "outputs": []
    },
    {
     "cell_type": "markdown",
     "metadata": {},
     "source": [
      "Complex numbers are always represented as two floating point numbers,\n",
      "the real and imaginary part. To extract these parts from a complex\n",
      "number *z*, use `z.real` and `z.imag`. :"
     ]
    },
    {
     "cell_type": "code",
     "collapsed": false,
     "input": [
      ">>> a=1.5+0.5j\n",
      ">>> a.real\n",
      "1.5\n",
      ">>> a.imag\n",
      "0.5"
     ],
     "language": "python",
     "metadata": {},
     "outputs": []
    },
    {
     "cell_type": "markdown",
     "metadata": {},
     "source": [
      "The conversion functions to floating point and integer (float, int and\n",
      "long) don't work for complex numbers --- there is no one correct way to\n",
      "convert a complex number to a real number. Use `abs(z)` to get its\n",
      "magnitude (as a float) or `z.real` to get its real part. :"
     ]
    },
    {
     "cell_type": "code",
     "collapsed": false,
     "input": [
      ">>> a=3.0+4.0j\n",
      ">>> float(a)\n",
      "Traceback (most recent call last):\n",
      "  File \"<stdin>\", line 1, in ?\n",
      "TypeError: can't convert complex to float; use abs(z)\n",
      ">>> a.real\n",
      "3.0\n",
      ">>> a.imag\n",
      "4.0\n",
      ">>> abs(a)  # sqrt(a.real**2 + a.imag**2)\n",
      "5.0"
     ],
     "language": "python",
     "metadata": {},
     "outputs": []
    },
    {
     "cell_type": "markdown",
     "metadata": {},
     "source": [
      "In interactive mode, the last printed expression is assigned to the\n",
      "variable `_`. This means that when you are using Python as a desk\n",
      "calculator, it is somewhat easier to continue calculations, for example:"
     ]
    },
    {
     "cell_type": "code",
     "collapsed": false,
     "input": [
      ">>> tax = 12.5 / 100\n",
      ">>> price = 100.50\n",
      ">>> price * tax\n",
      "12.5625\n",
      ">>> price + _\n",
      "113.0625\n",
      ">>> round(_, 2)\n",
      "113.06"
     ],
     "language": "python",
     "metadata": {},
     "outputs": []
    },
    {
     "cell_type": "markdown",
     "metadata": {},
     "source": [
      "This variable should be treated as read-only by the user. Don't\n",
      "explicitly assign a value to it --- you would create an independent\n",
      "local variable with the same name masking the built-in variable with its\n",
      "magic behavior.\n",
      "\n",
      "Strings\n",
      "-------\n",
      "\n",
      "Besides numbers, Python can also manipulate strings, which can be\n",
      "expressed in several ways. They can be enclosed in single quotes or\n",
      "double quotes:"
     ]
    },
    {
     "cell_type": "code",
     "collapsed": false,
     "input": [
      ">>> 'spam eggs'\n",
      "'spam eggs'\n",
      ">>> 'doesn\\'t'\n",
      "\"doesn't\"\n",
      ">>> \"doesn't\"\n",
      "\"doesn't\"\n",
      ">>> '\"Yes,\" he said.'\n",
      "'\"Yes,\" he said.'\n",
      ">>> \"\\\"Yes,\\\" he said.\"\n",
      "'\"Yes,\" he said.'\n",
      ">>> '\"Isn\\'t,\" she said.'\n",
      "'\"Isn\\'t,\" she said.'"
     ],
     "language": "python",
     "metadata": {},
     "outputs": []
    },
    {
     "cell_type": "markdown",
     "metadata": {},
     "source": [
      "The interpreter prints the result of string operations in the same way\n",
      "as they are typed for input: inside quotes, and with quotes and other\n",
      "funny characters escaped by backslashes, to show the precise value. The\n",
      "string is enclosed in double quotes if the string contains a single\n",
      "quote and no double quotes, else it's enclosed in single quotes. The\n",
      "print statement produces a more readable output for such input strings.\n",
      "\n",
      "String literals can span multiple lines in several ways. Continuation\n",
      "lines can be used, with a backslash as the last character on the line\n",
      "indicating that the next line is a logical continuation of the line:"
     ]
    },
    {
     "cell_type": "code",
     "collapsed": false,
     "input": [
      "hello = \"This is a rather long string containing\\n\\\n",
      "several lines of text just as you would do in C.\\n\\\n",
      "    Note that whitespace at the beginning of the line is\\\n",
      " significant.\""
     ],
     "language": "python",
     "metadata": {},
     "outputs": []
    },
    {
     "cell_type": "code",
     "collapsed": false,
     "input": [
      "print hello"
     ],
     "language": "python",
     "metadata": {},
     "outputs": []
    },
    {
     "cell_type": "markdown",
     "metadata": {},
     "source": [
      "Note that newlines still need to be embedded in the string using `\\n` --\n",
      "the newline following the trailing backslash is discarded. This example\n",
      "would print the following:"
     ]
    },
    {
     "cell_type": "code",
     "collapsed": false,
     "input": [
      "This is a rather long string containing\n",
      "several lines of text just as you would do in C.\n",
      "    Note that whitespace at the beginning of the line is significant."
     ],
     "language": "python",
     "metadata": {},
     "outputs": []
    },
    {
     "cell_type": "markdown",
     "metadata": {},
     "source": [
      "Or, strings can be surrounded in a pair of matching triple-quotes: `\"\"\"`\n",
      "or `'''`. End of lines do not need to be escaped when using\n",
      "triple-quotes, but they will be included in the string. :"
     ]
    },
    {
     "cell_type": "code",
     "collapsed": false,
     "input": [
      "print \"\"\"\n",
      "Usage: thingy [OPTIONS]\n",
      "     -h                        Display this usage message\n",
      "     -H hostname               Hostname to connect to\n",
      "\"\"\""
     ],
     "language": "python",
     "metadata": {},
     "outputs": []
    },
    {
     "cell_type": "markdown",
     "metadata": {},
     "source": [
      "produces the following output:"
     ]
    },
    {
     "cell_type": "code",
     "collapsed": false,
     "input": [
      "Usage: thingy [OPTIONS]\n",
      "     -h                        Display this usage message\n",
      "     -H hostname               Hostname to connect to"
     ],
     "language": "python",
     "metadata": {},
     "outputs": []
    },
    {
     "cell_type": "markdown",
     "metadata": {},
     "source": [
      "If we make the string literal a \"raw\" string, `\\n` sequences are not\n",
      "converted to newlines, but the backslash at the end of the line, and the\n",
      "newline character in the source, are both included in the string as\n",
      "data. Thus, the example:"
     ]
    },
    {
     "cell_type": "code",
     "collapsed": false,
     "input": [
      "hello = r\"This is a rather long string containing\\n\\\n",
      "several lines of text much as you would do in C.\""
     ],
     "language": "python",
     "metadata": {},
     "outputs": []
    },
    {
     "cell_type": "code",
     "collapsed": false,
     "input": [
      "print hello"
     ],
     "language": "python",
     "metadata": {},
     "outputs": []
    },
    {
     "cell_type": "markdown",
     "metadata": {},
     "source": [
      "would print:"
     ]
    },
    {
     "cell_type": "code",
     "collapsed": false,
     "input": [
      "This is a rather long string containing\\n\\\n",
      "several lines of text much as you would do in C."
     ],
     "language": "python",
     "metadata": {},
     "outputs": []
    },
    {
     "cell_type": "markdown",
     "metadata": {},
     "source": [
      "Strings can be concatenated (glued together) with the `+` operator, and\n",
      "repeated with `*`:"
     ]
    },
    {
     "cell_type": "code",
     "collapsed": false,
     "input": [
      ">>> word = 'Help' + 'A'\n",
      ">>> word\n",
      "'HelpA'\n",
      ">>> '<' + word*5 + '>'\n",
      "'<HelpAHelpAHelpAHelpAHelpA>'"
     ],
     "language": "python",
     "metadata": {},
     "outputs": []
    },
    {
     "cell_type": "markdown",
     "metadata": {},
     "source": [
      "Two string literals next to each other are automatically concatenated;\n",
      "the first line above could also have been written `word = 'Help' 'A'`;\n",
      "this only works with two literals, not with arbitrary string\n",
      "expressions:"
     ]
    },
    {
     "cell_type": "code",
     "collapsed": false,
     "input": [
      ">>> 'str' 'ing'                   #  <-  This is ok\n",
      "'string'\n",
      ">>> 'str'.strip() + 'ing'   #  <-  This is ok\n",
      "'string'\n",
      ">>> 'str'.strip() 'ing'     #  <-  This is invalid\n",
      "  File \"<stdin>\", line 1, in ?\n",
      "    'str'.strip() 'ing'\n",
      "                      ^\n",
      "SyntaxError: invalid syntax"
     ],
     "language": "python",
     "metadata": {},
     "outputs": []
    },
    {
     "cell_type": "markdown",
     "metadata": {},
     "source": [
      "Strings can be subscripted (indexed); like in C, the first character of\n",
      "a string has subscript (index) 0. There is no separate character type; a\n",
      "character is simply a string of size one. Like in Icon, substrings can\n",
      "be specified with the *slice notation*: two indices separated by a\n",
      "colon. :"
     ]
    },
    {
     "cell_type": "code",
     "collapsed": false,
     "input": [
      ">>> word[4]\n",
      "'A'\n",
      ">>> word[0:2]\n",
      "'He'\n",
      ">>> word[2:4]\n",
      "'lp'"
     ],
     "language": "python",
     "metadata": {},
     "outputs": []
    },
    {
     "cell_type": "markdown",
     "metadata": {},
     "source": [
      "Slice indices have useful defaults; an omitted first index defaults to\n",
      "zero, an omitted second index defaults to the size of the string being\n",
      "sliced. :"
     ]
    },
    {
     "cell_type": "code",
     "collapsed": false,
     "input": [
      ">>> word[:2]    # The first two characters\n",
      "'He'\n",
      ">>> word[2:]    # Everything except the first two characters\n",
      "'lpA'"
     ],
     "language": "python",
     "metadata": {},
     "outputs": []
    },
    {
     "cell_type": "markdown",
     "metadata": {},
     "source": [
      "Unlike a C string, Python strings cannot be changed. Assigning to an\n",
      "indexed position in the string results in an error:"
     ]
    },
    {
     "cell_type": "code",
     "collapsed": false,
     "input": [
      ">>> word[0] = 'x'\n",
      "Traceback (most recent call last):\n",
      "  File \"<stdin>\", line 1, in ?\n",
      "TypeError: object does not support item assignment\n",
      ">>> word[:1] = 'Splat'\n",
      "Traceback (most recent call last):\n",
      "  File \"<stdin>\", line 1, in ?\n",
      "TypeError: object does not support slice assignment"
     ],
     "language": "python",
     "metadata": {},
     "outputs": []
    },
    {
     "cell_type": "markdown",
     "metadata": {},
     "source": [
      "However, creating a new string with the combined content is easy and\n",
      "efficient:"
     ]
    },
    {
     "cell_type": "code",
     "collapsed": false,
     "input": [
      ">>> 'x' + word[1:]\n",
      "'xelpA'\n",
      ">>> 'Splat' + word[4]\n",
      "'SplatA'"
     ],
     "language": "python",
     "metadata": {},
     "outputs": []
    },
    {
     "cell_type": "markdown",
     "metadata": {},
     "source": [
      "Here's a useful invariant of slice operations: `s[:i] + s[i:]` equals\n",
      "`s`. :"
     ]
    },
    {
     "cell_type": "code",
     "collapsed": false,
     "input": [
      ">>> word[:2] + word[2:]\n",
      "'HelpA'\n",
      ">>> word[:3] + word[3:]\n",
      "'HelpA'"
     ],
     "language": "python",
     "metadata": {},
     "outputs": []
    },
    {
     "cell_type": "markdown",
     "metadata": {},
     "source": [
      "Degenerate slice indices are handled gracefully: an index that is too\n",
      "large is replaced by the string size, an upper bound smaller than the\n",
      "lower bound returns an empty string. :"
     ]
    },
    {
     "cell_type": "code",
     "collapsed": false,
     "input": [
      ">>> word[1:100]\n",
      "'elpA'\n",
      ">>> word[10:]\n",
      "''\n",
      ">>> word[2:1]\n",
      "''"
     ],
     "language": "python",
     "metadata": {},
     "outputs": []
    },
    {
     "cell_type": "markdown",
     "metadata": {},
     "source": [
      "Indices may be negative numbers, to start counting from the right. For\n",
      "example:"
     ]
    },
    {
     "cell_type": "code",
     "collapsed": false,
     "input": [
      ">>> word[-1]     # The last character\n",
      "'A'\n",
      ">>> word[-2]     # The last-but-one character\n",
      "'p'\n",
      ">>> word[-2:]    # The last two characters\n",
      "'pA'\n",
      ">>> word[:-2]    # Everything except the last two characters\n",
      "'Hel'"
     ],
     "language": "python",
     "metadata": {},
     "outputs": []
    },
    {
     "cell_type": "markdown",
     "metadata": {},
     "source": [
      "But note that -0 is really the same as 0, so it does not count from the\n",
      "right! :"
     ]
    },
    {
     "cell_type": "code",
     "collapsed": false,
     "input": [
      ">>> word[-0]     # (since -0 equals 0)\n",
      "'H'"
     ],
     "language": "python",
     "metadata": {},
     "outputs": []
    },
    {
     "cell_type": "markdown",
     "metadata": {},
     "source": [
      "Out-of-range negative slice indices are truncated, but don't try this\n",
      "for single-element (non-slice) indices:"
     ]
    },
    {
     "cell_type": "code",
     "collapsed": false,
     "input": [
      ">>> word[-100:]\n",
      "'HelpA'\n",
      ">>> word[-10]    # error\n",
      "Traceback (most recent call last):\n",
      "  File \"<stdin>\", line 1, in ?\n",
      "IndexError: string index out of range"
     ],
     "language": "python",
     "metadata": {},
     "outputs": []
    },
    {
     "cell_type": "markdown",
     "metadata": {},
     "source": [
      "One way to remember how slices work is to think of the indices as\n",
      "pointing *between* characters, with the left edge of the first character\n",
      "numbered 0. Then the right edge of the last character of a string of *n*\n",
      "characters has index *n*, for example:"
     ]
    },
    {
     "cell_type": "code",
     "collapsed": false,
     "input": [
      "+---+---+---+---+---+\n",
      "| H | e | l | p | A |\n",
      "+---+---+---+---+---+\n",
      "0   1   2   3   4   5"
     ],
     "language": "python",
     "metadata": {},
     "outputs": []
    },
    {
     "cell_type": "markdown",
     "metadata": {},
     "source": [
      "> -5 -4 -3 -2 -1\n",
      "\n",
      "The first row of numbers gives the position of the indices 0...5 in the\n",
      "string; the second row gives the corresponding negative indices. The\n",
      "slice from *i* to *j* consists of all characters between the edges\n",
      "labeled *i* and *j*, respectively.\n",
      "\n",
      "For non-negative indices, the length of a slice is the difference of the\n",
      "indices, if both are within bounds. For example, the length of\n",
      "`word[1:3]` is 2.\n",
      "\n",
      "The built-in function len returns the length of a string:"
     ]
    },
    {
     "cell_type": "code",
     "collapsed": false,
     "input": [
      ">>> s = 'supercalifragilisticexpialidocious'\n",
      ">>> len(s)\n",
      "34"
     ],
     "language": "python",
     "metadata": {},
     "outputs": []
    },
    {
     "cell_type": "markdown",
     "metadata": {},
     "source": [
      "Unicode Strings\n",
      "---------------\n",
      "\n",
      "Starting with Python 2.0 a new data type for storing text data is\n",
      "available to the programmer: the Unicode object. It can be used to store\n",
      "and manipulate Unicode data (see <http://www.unicode.org/>) and\n",
      "integrates well with the existing string objects, providing\n",
      "auto-conversions where necessary.\n",
      "\n",
      "Unicode has the advantage of providing one ordinal for every character\n",
      "in every script used in modern and ancient texts. Previously, there were\n",
      "only 256 possible ordinals for script characters. Texts were typically\n",
      "bound to a code page which mapped the ordinals to script characters.\n",
      "This lead to very much confusion especially with respect to\n",
      "internationalization (usually written as `i18n` --- `'i'` + 18\n",
      "characters + `'n'`) of software. Unicode solves these problems by\n",
      "defining one code page for all scripts.\n",
      "\n",
      "Creating Unicode strings in Python is just as simple as creating normal\n",
      "strings:"
     ]
    },
    {
     "cell_type": "code",
     "collapsed": false,
     "input": [
      ">>> u'Hello World !'\n",
      "u'Hello World !'"
     ],
     "language": "python",
     "metadata": {},
     "outputs": []
    },
    {
     "cell_type": "markdown",
     "metadata": {},
     "source": [
      "The small `'u'` in front of the quote indicates that a Unicode string is\n",
      "supposed to be created. If you want to include special characters in the\n",
      "string, you can do so by using the Python *Unicode-Escape* encoding. The\n",
      "following example shows how:"
     ]
    },
    {
     "cell_type": "code",
     "collapsed": false,
     "input": [
      ">>> u'Hello\\u0020World !'\n",
      "u'Hello World !'"
     ],
     "language": "python",
     "metadata": {},
     "outputs": []
    },
    {
     "cell_type": "markdown",
     "metadata": {},
     "source": [
      "The escape sequence `\\u0020` indicates to insert the Unicode character\n",
      "with the ordinal value 0x0020 (the space character) at the given\n",
      "position.\n",
      "\n",
      "Other characters are interpreted by using their respective ordinal\n",
      "values directly as Unicode ordinals. If you have literal strings in the\n",
      "standard Latin-1 encoding that is used in many Western countries, you\n",
      "will find it convenient that the lower 256 characters of Unicode are the\n",
      "same as the 256 characters of Latin-1.\n",
      "\n",
      "For experts, there is also a raw mode just like the one for normal\n",
      "strings. You have to prefix the opening quote with 'ur' to have Python\n",
      "use the *Raw-Unicode-Escape* encoding. It will only apply the above\n",
      "`\\uXXXX` conversion if there is an uneven number of backslashes in front\n",
      "of the small 'u'. :"
     ]
    },
    {
     "cell_type": "code",
     "collapsed": false,
     "input": [
      ">>> ur'Hello\\u0020World !'\n",
      "u'Hello World !'\n",
      ">>> ur'Hello\\\\u0020World !'\n",
      "u'Hello\\\\\\\\u0020World !'"
     ],
     "language": "python",
     "metadata": {},
     "outputs": []
    },
    {
     "cell_type": "markdown",
     "metadata": {},
     "source": [
      "The raw mode is most useful when you have to enter lots of backslashes,\n",
      "as can be necessary in regular expressions.\n",
      "\n",
      "Apart from these standard encodings, Python provides a whole set of\n",
      "other ways of creating Unicode strings on the basis of a known encoding.\n",
      "\n",
      "The built-in function unicode provides access to all registered Unicode\n",
      "codecs (COders and DECoders). Some of the more well known encodings\n",
      "which these codecs can convert are *Latin-1*, *ASCII*, *UTF-8*, and\n",
      "*UTF-16*. The latter two are variable-length encodings that store each\n",
      "Unicode character in one or more bytes. The default encoding is normally\n",
      "set to ASCII, which passes through characters in the range 0 to 127 and\n",
      "rejects any other characters with an error. When a Unicode string is\n",
      "printed, written to a file, or converted with str, conversion takes\n",
      "place using this default encoding. :"
     ]
    },
    {
     "cell_type": "code",
     "collapsed": false,
     "input": [
      ">>> u\"abc\"\n",
      "u'abc'\n",
      ">>> str(u\"abc\")\n",
      "'abc'\n",
      ">>> u\"\u00e4\u00f6\u00fc\"\n",
      "u'\\xe4\\xf6\\xfc'\n",
      ">>> str(u\"\u00e4\u00f6\u00fc\")\n",
      "Traceback (most recent call last):\n",
      "  File \"<stdin>\", line 1, in ?\n",
      "UnicodeEncodeError: 'ascii' codec can't encode characters in position 0-2: ordinal not in range(128)"
     ],
     "language": "python",
     "metadata": {},
     "outputs": []
    },
    {
     "cell_type": "markdown",
     "metadata": {},
     "source": [
      "To convert a Unicode string into an 8-bit string using a specific\n",
      "encoding, Unicode objects provide an encode method that takes one\n",
      "argument, the name of the encoding. Lowercase names for encodings are\n",
      "preferred. :"
     ]
    },
    {
     "cell_type": "code",
     "collapsed": false,
     "input": [
      ">>> u\"\u00e4\u00f6\u00fc\".encode('utf-8')\n",
      "'\\xc3\\xa4\\xc3\\xb6\\xc3\\xbc'"
     ],
     "language": "python",
     "metadata": {},
     "outputs": []
    },
    {
     "cell_type": "markdown",
     "metadata": {},
     "source": [
      "If you have data in a specific encoding and want to produce a\n",
      "corresponding Unicode string from it, you can use the unicode function\n",
      "with the encoding name as the second argument. :"
     ]
    },
    {
     "cell_type": "code",
     "collapsed": false,
     "input": [
      ">>> unicode('\\xc3\\xa4\\xc3\\xb6\\xc3\\xbc', 'utf-8')\n",
      "u'\\xe4\\xf6\\xfc'"
     ],
     "language": "python",
     "metadata": {},
     "outputs": []
    },
    {
     "cell_type": "markdown",
     "metadata": {},
     "source": [
      "Lists\n",
      "-----\n",
      "\n",
      "Python knows a number of *compound* data types, used to group together\n",
      "other values. The most versatile is the *list*, which can be written as\n",
      "a list of comma-separated values (items) between square brackets. List\n",
      "items need not all have the same type. :"
     ]
    },
    {
     "cell_type": "code",
     "collapsed": false,
     "input": [
      ">>> a = ['spam', 'eggs', 100, 1234]\n",
      ">>> a\n",
      "['spam', 'eggs', 100, 1234]"
     ],
     "language": "python",
     "metadata": {},
     "outputs": []
    },
    {
     "cell_type": "markdown",
     "metadata": {},
     "source": [
      "Like string indices, list indices start at 0, and lists can be sliced,\n",
      "concatenated and so on:"
     ]
    },
    {
     "cell_type": "code",
     "collapsed": false,
     "input": [
      ">>> a[0]\n",
      "'spam'\n",
      ">>> a[3]\n",
      "1234\n",
      ">>> a[-2]\n",
      "100\n",
      ">>> a[1:-1]\n",
      "['eggs', 100]\n",
      ">>> a[:2] + ['bacon', 2*2]\n",
      "['spam', 'eggs', 'bacon', 4]\n",
      ">>> 3*a[:3] + ['Boo!']\n",
      "['spam', 'eggs', 100, 'spam', 'eggs', 100, 'spam', 'eggs', 100, 'Boo!']"
     ],
     "language": "python",
     "metadata": {},
     "outputs": []
    },
    {
     "cell_type": "markdown",
     "metadata": {},
     "source": [
      "All slice operations return a new list containing the requested\n",
      "elements. This means that the following slice returns a shallow copy of\n",
      "the list *a*:"
     ]
    },
    {
     "cell_type": "code",
     "collapsed": false,
     "input": [
      ">>> a[:]\n",
      "['spam', 'eggs', 100, 1234]"
     ],
     "language": "python",
     "metadata": {},
     "outputs": []
    },
    {
     "cell_type": "markdown",
     "metadata": {},
     "source": [
      "Unlike strings, which are *immutable*, it is possible to change\n",
      "individual elements of a list:"
     ]
    },
    {
     "cell_type": "code",
     "collapsed": false,
     "input": [
      ">>> a\n",
      "['spam', 'eggs', 100, 1234]\n",
      ">>> a[2] = a[2] + 23\n",
      ">>> a\n",
      "['spam', 'eggs', 123, 1234]"
     ],
     "language": "python",
     "metadata": {},
     "outputs": []
    },
    {
     "cell_type": "markdown",
     "metadata": {},
     "source": [
      "Assignment to slices is also possible, and this can even change the size\n",
      "of the list or clear it entirely:"
     ]
    },
    {
     "cell_type": "code",
     "collapsed": false,
     "input": [
      ">>> # Replace some items:\n",
      "... a[0:2] = [1, 12]\n",
      ">>> a\n",
      "[1, 12, 123, 1234]\n",
      ">>> # Remove some:\n",
      "... a[0:2] = []\n",
      ">>> a\n",
      "[123, 1234]\n",
      ">>> # Insert some:\n",
      "... a[1:1] = ['bletch', 'xyzzy']\n",
      ">>> a\n",
      "[123, 'bletch', 'xyzzy', 1234]\n",
      ">>> # Insert (a copy of) itself at the beginning\n",
      ">>> a[:0] = a\n",
      ">>> a\n",
      "[123, 'bletch', 'xyzzy', 1234, 123, 'bletch', 'xyzzy', 1234]\n",
      ">>> # Clear the list: replace all items with an empty list\n",
      ">>> a[:] = []\n",
      ">>> a\n",
      "[]"
     ],
     "language": "python",
     "metadata": {},
     "outputs": []
    },
    {
     "cell_type": "markdown",
     "metadata": {},
     "source": [
      "The built-in function len also applies to lists:"
     ]
    },
    {
     "cell_type": "code",
     "collapsed": false,
     "input": [
      ">>> a = ['a', 'b', 'c', 'd']\n",
      ">>> len(a)\n",
      "4"
     ],
     "language": "python",
     "metadata": {},
     "outputs": []
    },
    {
     "cell_type": "markdown",
     "metadata": {},
     "source": [
      "It is possible to nest lists (create lists containing other lists), for\n",
      "example:"
     ]
    },
    {
     "cell_type": "code",
     "collapsed": false,
     "input": [
      ">>> q = [2, 3]\n",
      ">>> p = [1, q, 4]\n",
      ">>> len(p)\n",
      "3\n",
      ">>> p[1]\n",
      "[2, 3]\n",
      ">>> p[1][0]\n",
      "2\n",
      ">>> p[1].append('xtra')     # See section 5.1\n",
      ">>> p\n",
      "[1, [2, 3, 'xtra'], 4]\n",
      ">>> q\n",
      "[2, 3, 'xtra']"
     ],
     "language": "python",
     "metadata": {},
     "outputs": []
    },
    {
     "cell_type": "markdown",
     "metadata": {},
     "source": [
      "Note that in the last example, `p[1]` and `q` really refer to the same\n",
      "object! We'll come back to *object semantics* later.\n",
      "\n",
      "First Steps Towards Programming\n",
      "===============================\n",
      "\n",
      "Of course, we can use Python for more complicated tasks than adding two\n",
      "and two together. For instance, we can write an initial sub-sequence of\n",
      "the *Fibonacci* series as follows:"
     ]
    },
    {
     "cell_type": "code",
     "collapsed": false,
     "input": [
      ">>> # Fibonacci series:\n",
      "... # the sum of two elements defines the next\n",
      "... a, b = 0, 1\n",
      ">>> while b < 10:\n",
      "...     print b\n",
      "...     a, b = b, a+b\n",
      "...\n",
      "1\n",
      "1\n",
      "2\n",
      "3\n",
      "5\n",
      "8"
     ],
     "language": "python",
     "metadata": {},
     "outputs": []
    },
    {
     "cell_type": "markdown",
     "metadata": {},
     "source": [
      "This example introduces several new features.\n",
      "\n",
      "-   The first line contains a *multiple assignment*: the variables `a`"
     ]
    },
    {
     "cell_type": "code",
     "collapsed": false,
     "input": [
      "and `b` simultaneously get the new values 0 and 1. On the last line\n",
      "this is used again, demonstrating that the expressions on the\n",
      "right-hand side are all evaluated first before any of the\n",
      "assignments take place. The right-hand side expressions are\n",
      "evaluated from the left to the right."
     ],
     "language": "python",
     "metadata": {},
     "outputs": []
    },
    {
     "cell_type": "markdown",
     "metadata": {},
     "source": [
      "-   The while loop executes as long as the condition (here: `b < 10`)"
     ]
    },
    {
     "cell_type": "code",
     "collapsed": false,
     "input": [
      "remains true. In Python, like in C, any non-zero integer value is\n",
      "true; zero is false. The condition may also be a string or list\n",
      "value, in fact any sequence; anything with a non-zero length is\n",
      "true, empty sequences are false. The test used in the example is a\n",
      "simple comparison. The standard comparison operators are written the\n",
      "same as in C: `<` (less than), `>` (greater than), `==` (equal to),\n",
      "`<=` (less than or equal to), `>=` (greater than or equal to) and\n",
      "`!=` (not equal to)."
     ],
     "language": "python",
     "metadata": {},
     "outputs": []
    },
    {
     "cell_type": "markdown",
     "metadata": {},
     "source": [
      "-   The *body* of the loop is *indented*: indentation is Python's way of"
     ]
    },
    {
     "cell_type": "code",
     "collapsed": false,
     "input": [
      "grouping statements. At the interactive prompt, you have to type a\n",
      "tab or space(s) for each indented line. In practice you will prepare\n",
      "more complicated input for Python with a text editor; all decent\n",
      "text editors have an auto-indent facility. When a compound statement\n",
      "is entered interactively, it must be followed by a blank line to\n",
      "indicate completion (since the parser cannot guess when you have\n",
      "typed the last line). Note that each line within a basic block must\n",
      "be indented by the same amount."
     ],
     "language": "python",
     "metadata": {},
     "outputs": []
    },
    {
     "cell_type": "markdown",
     "metadata": {},
     "source": [
      "-   The print statement writes the value of the expression(s) it is"
     ]
    },
    {
     "cell_type": "code",
     "collapsed": false,
     "input": [
      "given. It differs from just writing the expression you want to write\n",
      "(as we did earlier in the calculator examples) in the way it handles\n",
      "multiple expressions and strings. Strings are printed without\n",
      "quotes, and a space is inserted between items, so you can format\n",
      "things nicely, like this:"
     ],
     "language": "python",
     "metadata": {},
     "outputs": []
    },
    {
     "cell_type": "code",
     "collapsed": false,
     "input": [
      ">>> i = 256*256\n",
      ">>> print 'The value of i is', i\n",
      "The value of i is 65536"
     ],
     "language": "python",
     "metadata": {},
     "outputs": []
    },
    {
     "cell_type": "code",
     "collapsed": false,
     "input": [
      "A trailing comma avoids the newline after the output:"
     ],
     "language": "python",
     "metadata": {},
     "outputs": []
    },
    {
     "cell_type": "code",
     "collapsed": false,
     "input": [
      ">>> a, b = 0, 1\n",
      ">>> while b < 1000:\n",
      "...     print b,\n",
      "...     a, b = b, a+b\n",
      "...\n",
      "1 1 2 3 5 8 13 21 34 55 89 144 233 377 610 987"
     ],
     "language": "python",
     "metadata": {},
     "outputs": []
    },
    {
     "cell_type": "code",
     "collapsed": false,
     "input": [
      "Note that the interpreter inserts a newline before it prints the\n",
      "next prompt if the last line was not completed."
     ],
     "language": "python",
     "metadata": {},
     "outputs": []
    }
   ],
   "metadata": {}
  }
 ]
}