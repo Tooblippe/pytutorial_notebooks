{
 "metadata": {},
 "nbformat": 3,
 "nbformat_minor": 0,
 "worksheets": [
  {
   "cells": [
    {
     "cell_type": "markdown",
     "metadata": {},
     "source": [
      "% Using the Python Interpreter\n",
      "% \n",
      "% \n",
      "\n",
      "Invoking the Interpreter\n",
      "========================\n",
      "\n",
      "The Python interpreter is usually installed as /usr/local/bin/python on\n",
      "those machines where it is available; putting /usr/local/bin in your\n",
      "Unix shell's search path makes it possible to start it by typing the\n",
      "command :"
     ]
    },
    {
     "cell_type": "code",
     "collapsed": false,
     "input": [
      "python"
     ],
     "language": "python",
     "metadata": {},
     "outputs": []
    },
    {
     "cell_type": "markdown",
     "metadata": {},
     "source": [
      "to the shell. Since the choice of the directory where the interpreter\n",
      "lives is an installation option, other places are possible; check with\n",
      "your local Python guru or system administrator. (E.g., /usr/local/python\n",
      "is a popular alternative location.)\n",
      "\n",
      "On Windows machines, the Python installation is usually placed in\n",
      "C:\\\\\\\\Python27, though you can change this when you're running the\n",
      "installer. To add this directory to your path, you can type the\n",
      "following command into the command prompt in a DOS box:"
     ]
    },
    {
     "cell_type": "code",
     "collapsed": false,
     "input": [
      "set path=%path%;C:\\python27"
     ],
     "language": "python",
     "metadata": {},
     "outputs": []
    },
    {
     "cell_type": "markdown",
     "metadata": {},
     "source": [
      "Typing an end-of-file character (Control-D on Unix, Control-Z on\n",
      "Windows) at the primary prompt causes the interpreter to exit with a\n",
      "zero exit status. If that doesn't work, you can exit the interpreter by\n",
      "typing the following command: `quit()`.\n",
      "\n",
      "The interpreter's line-editing features usually aren't very\n",
      "sophisticated. On Unix, whoever installed the interpreter may have\n",
      "enabled support for the GNU readline library, which adds more elaborate\n",
      "interactive editing and history features. Perhaps the quickest check to\n",
      "see whether command line editing is supported is typing Control-P to the\n",
      "first Python prompt you get. If it beeps, you have command line editing;\n",
      "see Appendix tut-interacting for an introduction to the keys. If nothing\n",
      "appears to happen, or if `^P` is echoed, command line editing isn't\n",
      "available; you'll only be able to use backspace to remove characters\n",
      "from the current line.\n",
      "\n",
      "The interpreter operates somewhat like the Unix shell: when called with\n",
      "standard input connected to a tty device, it reads and executes commands\n",
      "interactively; when called with a file name argument or with a file as\n",
      "standard input, it reads and executes a *script* from that file.\n",
      "\n",
      "A second way of starting the interpreter is\n",
      "`python -c command [arg] ...`, which executes the statement(s) in\n",
      "*command*, analogous to the shell's -c option. Since Python statements\n",
      "often contain spaces or other characters that are special to the shell,\n",
      "it is usually advised to quote *command* in its entirety with single\n",
      "quotes.\n",
      "\n",
      "Some Python modules are also useful as scripts. These can be invoked\n",
      "using `python -m module [arg] ...`, which executes the source file for\n",
      "*module* as if you had spelled out its full name on the command line.\n",
      "\n",
      "When a script file is used, it is sometimes useful to be able to run the\n",
      "script and enter interactive mode afterwards. This can be done by\n",
      "passing -i before the script.\n",
      "\n",
      "Argument Passing\n",
      "----------------\n",
      "\n",
      "When known to the interpreter, the script name and additional arguments\n",
      "thereafter are turned into a list of strings and assigned to the `argv`\n",
      "variable in the `sys` module. You can access this list by executing\n",
      "`import sys`. The length of the list is at least one; when no script and\n",
      "no arguments are given, `sys.argv[0]` is an empty string. When the\n",
      "script name is given as `'-'` (meaning standard input), `sys.argv[0]` is\n",
      "set to `'-'`. When -c *command* is used, `sys.argv[0]` is set to `'-c'`.\n",
      "When -m *module* is used, `sys.argv[0]` is set to the full name of the\n",
      "located module. Options found after -c *command* or -m *module* are not\n",
      "consumed by the Python interpreter's option processing but left in\n",
      "`sys.argv` for the command or module to handle.\n",
      "\n",
      "Interactive Mode\n",
      "----------------\n",
      "\n",
      "When commands are read from a tty, the interpreter is said to be in\n",
      "*interactive mode*. In this mode it prompts for the next command with\n",
      "the *primary prompt*, usually three greater-than signs (`>>>`); for\n",
      "continuation lines it prompts with the *secondary prompt*, by default\n",
      "three dots (`...`). The interpreter prints a welcome message stating its\n",
      "version number and a copyright notice before printing the first prompt:"
     ]
    },
    {
     "cell_type": "code",
     "collapsed": false,
     "input": [
      "python\n",
      "Python 2.7 (#1, Feb 28 2010, 00:02:06)\n",
      "Type \"help\", \"copyright\", \"credits\" or \"license\" for more information.\n",
      ">>>"
     ],
     "language": "python",
     "metadata": {},
     "outputs": []
    },
    {
     "cell_type": "markdown",
     "metadata": {},
     "source": [
      "Continuation lines are needed when entering a multi-line construct. As\n",
      "an example, take a look at this if statement:"
     ]
    },
    {
     "cell_type": "code",
     "collapsed": false,
     "input": [
      ">>> the_world_is_flat = 1\n",
      ">>> if the_world_is_flat:\n",
      "...     print \"Be careful not to fall off!\"\n",
      "...\n",
      "Be careful not to fall off!"
     ],
     "language": "python",
     "metadata": {},
     "outputs": []
    },
    {
     "cell_type": "markdown",
     "metadata": {},
     "source": [
      "The Interpreter and Its Environment\n",
      "===================================\n",
      "\n",
      "Error Handling\n",
      "--------------\n",
      "\n",
      "When an error occurs, the interpreter prints an error message and a\n",
      "stack trace. In interactive mode, it then returns to the primary prompt;\n",
      "when input came from a file, it exits with a nonzero exit status after\n",
      "printing the stack trace. (Exceptions handled by an except clause in a\n",
      "try statement are not errors in this context.) Some errors are\n",
      "unconditionally fatal and cause an exit with a nonzero exit; this\n",
      "applies to internal inconsistencies and some cases of running out of\n",
      "memory. All error messages are written to the standard error stream;\n",
      "normal output from executed commands is written to standard output.\n",
      "\n",
      "Typing the interrupt character (usually Control-C or DEL) to the primary\n",
      "or secondary prompt cancels the input and returns to the primary prompt.\n",
      "[^1] Typing an interrupt while a command is executing raises the\n",
      "KeyboardInterrupt exception, which may be handled by a try statement.\n",
      "\n",
      "Executable Python Scripts\n",
      "-------------------------\n",
      "\n",
      "On BSD'ish Unix systems, Python scripts can be made directly executable,\n",
      "like shell scripts, by putting the line :"
     ]
    },
    {
     "cell_type": "code",
     "collapsed": false,
     "input": [
      "#! /usr/bin/env python"
     ],
     "language": "python",
     "metadata": {},
     "outputs": []
    },
    {
     "cell_type": "markdown",
     "metadata": {},
     "source": [
      "(assuming that the interpreter is on the user's PATH) at the beginning\n",
      "of the script and giving the file an executable mode. The `#!` must be\n",
      "the first two characters of the file. On some platforms, this first line\n",
      "must end with a Unix-style line ending (`'\\n'`), not a Windows\n",
      "(`'\\r\\n'`) line ending. Note that the hash, or pound, character, `'#'`,\n",
      "is used to start a comment in Python.\n",
      "\n",
      "The script can be given an executable mode, or permission, using the\n",
      "chmod command:"
     ]
    },
    {
     "cell_type": "code",
     "collapsed": false,
     "input": [
      "$ chmod +x myscript.py"
     ],
     "language": "python",
     "metadata": {},
     "outputs": []
    },
    {
     "cell_type": "markdown",
     "metadata": {},
     "source": [
      "On Windows systems, there is no notion of an \"executable mode\". The\n",
      "Python installer automatically associates `.py` files with `python.exe`\n",
      "so that a double-click on a Python file will run it as a script. The\n",
      "extension can also be `.pyw`, in that case, the console window that\n",
      "normally appears is suppressed.\n",
      "\n",
      "Source Code Encoding\n",
      "--------------------\n",
      "\n",
      "It is possible to use encodings different than ASCII in Python source\n",
      "files. The best way to do it is to put one more special comment line\n",
      "right after the `#!` line to define the source file encoding:"
     ]
    },
    {
     "cell_type": "code",
     "collapsed": false,
     "input": [
      "# -*- coding: encoding -*-"
     ],
     "language": "python",
     "metadata": {},
     "outputs": []
    },
    {
     "cell_type": "markdown",
     "metadata": {},
     "source": [
      "With that declaration, all characters in the source file will be treated\n",
      "as having the encoding *encoding*, and it will be possible to directly\n",
      "write Unicode string literals in the selected encoding. The list of\n",
      "possible encodings can be found in the Python Library Reference, in the\n",
      "section on codecs.\n",
      "\n",
      "For example, to write Unicode literals including the Euro currency\n",
      "symbol, the ISO-8859-15 encoding can be used, with the Euro symbol\n",
      "having the ordinal value 164. This script, when saved in the ISO-8859-15\n",
      "encoding, will print the value 8364 (the Unicode codepoint corresponding\n",
      "to the Euro symbol) and then exit:"
     ]
    },
    {
     "cell_type": "code",
     "collapsed": false,
     "input": [
      "# -*- coding: iso-8859-15 -*-"
     ],
     "language": "python",
     "metadata": {},
     "outputs": []
    },
    {
     "cell_type": "code",
     "collapsed": false,
     "input": [
      "currency = u\"\u20ac\"\n",
      "print ord(currency)"
     ],
     "language": "python",
     "metadata": {},
     "outputs": []
    },
    {
     "cell_type": "markdown",
     "metadata": {},
     "source": [
      "If your editor supports saving files as `UTF-8` with a UTF-8 *byte order\n",
      "mark* (aka BOM), you can use that instead of an encoding declaration.\n",
      "IDLE supports this capability if\n",
      "`Options/General/Default Source Encoding/UTF-8` is set. Notice that this\n",
      "signature is not understood in older Python releases (2.2 and earlier),\n",
      "and also not understood by the operating system for script files with\n",
      "`#!` lines (only used on Unix systems).\n",
      "\n",
      "By using UTF-8 (either through the signature or an encoding\n",
      "declaration), characters of most languages in the world can be used\n",
      "simultaneously in string literals and comments. Using non-ASCII\n",
      "characters in identifiers is not supported. To display all these\n",
      "characters properly, your editor must recognize that the file is UTF-8,\n",
      "and it must use a font that supports all the characters in the file.\n",
      "\n",
      "The Interactive Startup File\n",
      "----------------------------\n",
      "\n",
      "When you use Python interactively, it is frequently handy to have some\n",
      "standard commands executed every time the interpreter is started. You\n",
      "can do this by setting an environment variable named PYTHONSTARTUP to\n",
      "the name of a file containing your start-up commands. This is similar to\n",
      "the .profile feature of the Unix shells.\n",
      "\n",
      "This file is only read in interactive sessions, not when Python reads\n",
      "commands from a script, and not when /dev/tty is given as the explicit\n",
      "source of commands (which otherwise behaves like an interactive\n",
      "session). It is executed in the same namespace where interactive\n",
      "commands are executed, so that objects that it defines or imports can be\n",
      "used without qualification in the interactive session. You can also\n",
      "change the prompts `sys.ps1` and `sys.ps2` in this file.\n",
      "\n",
      "If you want to read an additional start-up file from the current\n",
      "directory, you can program this in the global start-up file using code\n",
      "like `if os.path.isfile('.pythonrc.py'): execfile('.pythonrc.py')`. If\n",
      "you want to use the startup file in a script, you must do this\n",
      "explicitly in the script:"
     ]
    },
    {
     "cell_type": "code",
     "collapsed": false,
     "input": [
      "import os\n",
      "filename = os.environ.get('PYTHONSTARTUP')\n",
      "if filename and os.path.isfile(filename):\n",
      "    execfile(filename)"
     ],
     "language": "python",
     "metadata": {},
     "outputs": []
    },
    {
     "cell_type": "markdown",
     "metadata": {},
     "source": [
      "The Customization Modules\n",
      "-------------------------\n",
      "\n",
      "Python provides two hooks to let you customize it: sitecustomize and\n",
      "usercustomize. To see how it works, you need first to find the location\n",
      "of your user site-packages directory. Start Python and run this code:\n",
      "\n",
      "> \\>\\>\\> import site \\>\\>\\> site.getusersitepackages()\n",
      "> '/home/user/.local/lib/python2.7/site-packages'\n",
      "\n",
      "Now you can create a file named usercustomize.py in that directory and\n",
      "put anything you want in it. It will affect every invocation of Python,\n",
      "unless it is started with the -s option to disable the automatic import.\n",
      "\n",
      "sitecustomize works in the same way, but is typically created by an\n",
      "administrator of the computer in the global site-packages directory, and\n",
      "is imported before usercustomize. See the documentation of the site\n",
      "module for more details.\n",
      "\n",
      "**Footnotes**\n",
      "\n",
      "[^1]: A problem with the GNU Readline package may prevent this.\n"
     ]
    }
   ],
   "metadata": {}
  }
 ]
}