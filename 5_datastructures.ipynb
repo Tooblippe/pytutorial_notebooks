{
 "metadata": {},
 "nbformat": 3,
 "nbformat_minor": 0,
 "worksheets": [
  {
   "cells": [
    {
     "cell_type": "markdown",
     "metadata": {},
     "source": [
      "% Data Structures\n",
      "% \n",
      "% \n",
      "\n",
      "This chapter describes some things you've learned about already in more\n",
      "detail, and adds some new things as well.\n",
      "\n",
      "More on Lists\n",
      "=============\n",
      "\n",
      "The list data type has some more methods. Here are all of the methods of\n",
      "list objects:\n",
      "\n",
      "An example that uses most of the list methods:"
     ]
    },
    {
     "cell_type": "code",
     "collapsed": false,
     "input": [
      ">>> a = [66.25, 333, 333, 1, 1234.5]\n",
      ">>> print a.count(333), a.count(66.25), a.count('x')\n",
      "2 1 0\n",
      ">>> a.insert(2, -1)\n",
      ">>> a.append(333)\n",
      ">>> a\n",
      "[66.25, 333, -1, 333, 1, 1234.5, 333]\n",
      ">>> a.index(333)\n",
      "1\n",
      ">>> a.remove(333)\n",
      ">>> a\n",
      "[66.25, -1, 333, 1, 1234.5, 333]\n",
      ">>> a.reverse()\n",
      ">>> a\n",
      "[333, 1234.5, 1, 333, -1, 66.25]\n",
      ">>> a.sort()\n",
      ">>> a\n",
      "[-1, 1, 66.25, 333, 333, 1234.5]"
     ],
     "language": "python",
     "metadata": {},
     "outputs": []
    },
    {
     "cell_type": "markdown",
     "metadata": {},
     "source": [
      "Using Lists as Stacks\n",
      "---------------------\n",
      "\n",
      "The list methods make it very easy to use a list as a stack, where the\n",
      "last element added is the first element retrieved (\"last-in,\n",
      "first-out\"). To add an item to the top of the stack, use append. To\n",
      "retrieve an item from the top of the stack, use pop without an explicit\n",
      "index. For example:"
     ]
    },
    {
     "cell_type": "code",
     "collapsed": false,
     "input": [
      ">>> stack = [3, 4, 5]\n",
      ">>> stack.append(6)\n",
      ">>> stack.append(7)\n",
      ">>> stack\n",
      "[3, 4, 5, 6, 7]\n",
      ">>> stack.pop()\n",
      "7\n",
      ">>> stack\n",
      "[3, 4, 5, 6]\n",
      ">>> stack.pop()\n",
      "6\n",
      ">>> stack.pop()\n",
      "5\n",
      ">>> stack\n",
      "[3, 4]"
     ],
     "language": "python",
     "metadata": {},
     "outputs": []
    },
    {
     "cell_type": "markdown",
     "metadata": {},
     "source": [
      "Using Lists as Queues\n",
      "---------------------\n",
      "\n",
      "It is also possible to use a list as a queue, where the first element\n",
      "added is the first element retrieved (\"first-in, first-out\"); however,\n",
      "lists are not efficient for this purpose. While appends and pops from\n",
      "the end of list are fast, doing inserts or pops from the beginning of a\n",
      "list is slow (because all of the other elements have to be shifted by\n",
      "one).\n",
      "\n",
      "To implement a queue, use collections.deque which was designed to have\n",
      "fast appends and pops from both ends. For example:"
     ]
    },
    {
     "cell_type": "code",
     "collapsed": false,
     "input": [
      ">>> from collections import deque\n",
      ">>> queue = deque([\"Eric\", \"John\", \"Michael\"])\n",
      ">>> queue.append(\"Terry\")           # Terry arrives\n",
      ">>> queue.append(\"Graham\")          # Graham arrives\n",
      ">>> queue.popleft()                 # The first to arrive now leaves\n",
      "'Eric'\n",
      ">>> queue.popleft()                 # The second to arrive now leaves\n",
      "'John'\n",
      ">>> queue                           # Remaining queue in order of arrival\n",
      "deque(['Michael', 'Terry', 'Graham'])"
     ],
     "language": "python",
     "metadata": {},
     "outputs": []
    },
    {
     "cell_type": "markdown",
     "metadata": {},
     "source": [
      "Functional Programming Tools\n",
      "----------------------------\n",
      "\n",
      "There are three built-in functions that are very useful when used with\n",
      "lists: filter, map, and reduce.\n",
      "\n",
      "`filter(function, sequence)` returns a sequence consisting of those\n",
      "items from the sequence for which `function(item)` is true. If\n",
      "*sequence* is a string or tuple, the result will be of the same type;\n",
      "otherwise, it is always a list. For example, to compute a sequence of\n",
      "numbers not divisible by 2 or 3:"
     ]
    },
    {
     "cell_type": "code",
     "collapsed": false,
     "input": [
      ">>> def f(x): return x % 2 != 0 and x % 3 != 0\n",
      "...\n",
      ">>> filter(f, range(2, 25))\n",
      "[5, 7, 11, 13, 17, 19, 23]"
     ],
     "language": "python",
     "metadata": {},
     "outputs": []
    },
    {
     "cell_type": "markdown",
     "metadata": {},
     "source": [
      "`map(function, sequence)` calls `function(item)` for each of the\n",
      "sequence's items and returns a list of the return values. For example,\n",
      "to compute some cubes:"
     ]
    },
    {
     "cell_type": "code",
     "collapsed": false,
     "input": [
      ">>> def cube(x): return x*x*x\n",
      "...\n",
      ">>> map(cube, range(1, 11))\n",
      "[1, 8, 27, 64, 125, 216, 343, 512, 729, 1000]"
     ],
     "language": "python",
     "metadata": {},
     "outputs": []
    },
    {
     "cell_type": "markdown",
     "metadata": {},
     "source": [
      "More than one sequence may be passed; the function must then have as\n",
      "many arguments as there are sequences and is called with the\n",
      "corresponding item from each sequence (or `None` if some sequence is\n",
      "shorter than another). For example:"
     ]
    },
    {
     "cell_type": "code",
     "collapsed": false,
     "input": [
      ">>> seq = range(8)\n",
      ">>> def add(x, y): return x+y\n",
      "...\n",
      ">>> map(add, seq, seq)\n",
      "[0, 2, 4, 6, 8, 10, 12, 14]"
     ],
     "language": "python",
     "metadata": {},
     "outputs": []
    },
    {
     "cell_type": "markdown",
     "metadata": {},
     "source": [
      "`reduce(function, sequence)` returns a single value constructed by\n",
      "calling the binary function *function* on the first two items of the\n",
      "sequence, then on the result and the next item, and so on. For example,\n",
      "to compute the sum of the numbers 1 through 10:"
     ]
    },
    {
     "cell_type": "code",
     "collapsed": false,
     "input": [
      ">>> def add(x,y): return x+y\n",
      "...\n",
      ">>> reduce(add, range(1, 11))\n",
      "55"
     ],
     "language": "python",
     "metadata": {},
     "outputs": []
    },
    {
     "cell_type": "markdown",
     "metadata": {},
     "source": [
      "If there's only one item in the sequence, its value is returned; if the\n",
      "sequence is empty, an exception is raised.\n",
      "\n",
      "A third argument can be passed to indicate the starting value. In this\n",
      "case the starting value is returned for an empty sequence, and the\n",
      "function is first applied to the starting value and the first sequence\n",
      "item, then to the result and the next item, and so on. For example, :"
     ]
    },
    {
     "cell_type": "code",
     "collapsed": false,
     "input": [
      ">>> def sum(seq):\n",
      "...     def add(x,y): return x+y\n",
      "...     return reduce(add, seq, 0)\n",
      "...\n",
      ">>> sum(range(1, 11))\n",
      "55\n",
      ">>> sum([])\n",
      "0"
     ],
     "language": "python",
     "metadata": {},
     "outputs": []
    },
    {
     "cell_type": "markdown",
     "metadata": {},
     "source": [
      "Don't use this example's definition of sum: since summing numbers is\n",
      "such a common need, a built-in function `sum(sequence)` is already\n",
      "provided, and works exactly like this.\n",
      "\n",
      "List Comprehensions\n",
      "-------------------\n",
      "\n",
      "List comprehensions provide a concise way to create lists. Common\n",
      "applications are to make new lists where each element is the result of\n",
      "some operations applied to each member of another sequence or iterable,\n",
      "or to create a subsequence of those elements that satisfy a certain\n",
      "condition.\n",
      "\n",
      "For example, assume we want to create a list of squares, like:"
     ]
    },
    {
     "cell_type": "code",
     "collapsed": false,
     "input": [
      ">>> squares = []\n",
      ">>> for x in range(10):\n",
      "...     squares.append(x**2)\n",
      "...\n",
      ">>> squares\n",
      "[0, 1, 4, 9, 16, 25, 36, 49, 64, 81]"
     ],
     "language": "python",
     "metadata": {},
     "outputs": []
    },
    {
     "cell_type": "markdown",
     "metadata": {},
     "source": [
      "We can obtain the same result with:"
     ]
    },
    {
     "cell_type": "code",
     "collapsed": false,
     "input": [
      "squares = [x**2 for x in range(10)]"
     ],
     "language": "python",
     "metadata": {},
     "outputs": []
    },
    {
     "cell_type": "markdown",
     "metadata": {},
     "source": [
      "This is also equivalent to `squares = map(lambda x: x**2, range(10))`,\n",
      "but it's more concise and readable.\n",
      "\n",
      "A list comprehension consists of brackets containing an expression\n",
      "followed by a for clause, then zero or more for or if clauses. The\n",
      "result will be a new list resulting from evaluating the expression in\n",
      "the context of the for and if clauses which follow it. For example, this\n",
      "listcomp combines the elements of two lists if they are not equal:"
     ]
    },
    {
     "cell_type": "code",
     "collapsed": false,
     "input": [
      ">>> [(x, y) for x in [1,2,3] for y in [3,1,4] if x != y]\n",
      "[(1, 3), (1, 4), (2, 3), (2, 1), (2, 4), (3, 1), (3, 4)]"
     ],
     "language": "python",
     "metadata": {},
     "outputs": []
    },
    {
     "cell_type": "markdown",
     "metadata": {},
     "source": [
      "and it's equivalent to:\n",
      "\n",
      "> \\>\\>\\> combs = [] \\>\\>\\> for x in [1,2,3]: ... for y in [3,1,4]: ...\n",
      "> if x != y: ... combs.append((x, y)) ... \\>\\>\\> combs [(1, 3), (1, 4),\n",
      "> (2, 3), (2, 1), (2, 4), (3, 1), (3, 4)]\n",
      "\n",
      "Note how the order of the for and if statements is the same in both\n",
      "these snippets.\n",
      "\n",
      "If the expression is a tuple (e.g. the `(x, y)` in the previous\n",
      "example), it must be parenthesized. :"
     ]
    },
    {
     "cell_type": "code",
     "collapsed": false,
     "input": [
      ">>> vec = [-4, -2, 0, 2, 4]\n",
      ">>> # create a new list with the values doubled\n",
      ">>> [x*2 for x in vec]\n",
      "[-8, -4, 0, 4, 8]\n",
      ">>> # filter the list to exclude negative numbers\n",
      ">>> [x for x in vec if x >= 0]\n",
      "[0, 2, 4]\n",
      ">>> # apply a function to all the elements\n",
      ">>> [abs(x) for x in vec]\n",
      "[4, 2, 0, 2, 4]\n",
      ">>> # call a method on each element\n",
      ">>> freshfruit = ['  banana', '  loganberry ', 'passion fruit  ']\n",
      ">>> [weapon.strip() for weapon in freshfruit]\n",
      "['banana', 'loganberry', 'passion fruit']\n",
      ">>> # create a list of 2-tuples like (number, square)\n",
      ">>> [(x, x**2) for x in range(6)]\n",
      "[(0, 0), (1, 1), (2, 4), (3, 9), (4, 16), (5, 25)]\n",
      ">>> # the tuple must be parenthesized, otherwise an error is raised\n",
      ">>> [x, x**2 for x in range(6)]\n",
      "  File \"<stdin>\", line 1\n",
      "    [x, x**2 for x in range(6)]\n",
      "               ^\n",
      "SyntaxError: invalid syntax\n",
      ">>> # flatten a list using a listcomp with two 'for'\n",
      ">>> vec = [[1,2,3], [4,5,6], [7,8,9]]\n",
      ">>> [num for elem in vec for num in elem]\n",
      "[1, 2, 3, 4, 5, 6, 7, 8, 9]"
     ],
     "language": "python",
     "metadata": {},
     "outputs": []
    },
    {
     "cell_type": "markdown",
     "metadata": {},
     "source": [
      "List comprehensions can contain complex expressions and nested\n",
      "functions:"
     ]
    },
    {
     "cell_type": "code",
     "collapsed": false,
     "input": [
      ">>> from math import pi\n",
      ">>> [str(round(pi, i)) for i in range(1, 6)]\n",
      "['3.1', '3.14', '3.142', '3.1416', '3.14159']"
     ],
     "language": "python",
     "metadata": {},
     "outputs": []
    },
    {
     "cell_type": "markdown",
     "metadata": {},
     "source": [
      "### Nested List Comprehensions\n",
      "\n",
      "The initial expression in a list comprehension can be any arbitrary\n",
      "expression, including another list comprehension.\n",
      "\n",
      "Consider the following example of a 3x4 matrix implemented as a list of\n",
      "3 lists of length 4:"
     ]
    },
    {
     "cell_type": "code",
     "collapsed": false,
     "input": [
      ">>> matrix = [\n",
      "...     [1, 2, 3, 4],\n",
      "...     [5, 6, 7, 8],\n",
      "...     [9, 10, 11, 12],\n",
      "... ]"
     ],
     "language": "python",
     "metadata": {},
     "outputs": []
    },
    {
     "cell_type": "markdown",
     "metadata": {},
     "source": [
      "The following list comprehension will transpose rows and columns:"
     ]
    },
    {
     "cell_type": "code",
     "collapsed": false,
     "input": [
      ">>> [[row[i] for row in matrix] for i in range(4)]\n",
      "[[1, 5, 9], [2, 6, 10], [3, 7, 11], [4, 8, 12]]"
     ],
     "language": "python",
     "metadata": {},
     "outputs": []
    },
    {
     "cell_type": "markdown",
     "metadata": {},
     "source": [
      "As we saw in the previous section, the nested listcomp is evaluated in\n",
      "the context of the for that follows it, so this example is equivalent\n",
      "to:"
     ]
    },
    {
     "cell_type": "code",
     "collapsed": false,
     "input": [
      ">>> transposed = []\n",
      ">>> for i in range(4):\n",
      "...     transposed.append([row[i] for row in matrix])\n",
      "...\n",
      ">>> transposed\n",
      "[[1, 5, 9], [2, 6, 10], [3, 7, 11], [4, 8, 12]]"
     ],
     "language": "python",
     "metadata": {},
     "outputs": []
    },
    {
     "cell_type": "markdown",
     "metadata": {},
     "source": [
      "which, in turn, is the same as:"
     ]
    },
    {
     "cell_type": "code",
     "collapsed": false,
     "input": [
      ">>> transposed = []\n",
      ">>> for i in range(4):\n",
      "...     # the following 3 lines implement the nested listcomp\n",
      "...     transposed_row = []\n",
      "...     for row in matrix:\n",
      "...         transposed_row.append(row[i])\n",
      "...     transposed.append(transposed_row)\n",
      "...\n",
      ">>> transposed\n",
      "[[1, 5, 9], [2, 6, 10], [3, 7, 11], [4, 8, 12]]"
     ],
     "language": "python",
     "metadata": {},
     "outputs": []
    },
    {
     "cell_type": "markdown",
     "metadata": {},
     "source": [
      "In the real world, you should prefer built-in functions to complex flow\n",
      "statements. The zip function would do a great job for this use case:"
     ]
    },
    {
     "cell_type": "code",
     "collapsed": false,
     "input": [
      ">>> zip(*matrix)\n",
      "[(1, 5, 9), (2, 6, 10), (3, 7, 11), (4, 8, 12)]"
     ],
     "language": "python",
     "metadata": {},
     "outputs": []
    },
    {
     "cell_type": "markdown",
     "metadata": {},
     "source": [
      "See tut-unpacking-arguments for details on the asterisk in this line.\n",
      "\n",
      "The del statement\n",
      "=================\n",
      "\n",
      "There is a way to remove an item from a list given its index instead of\n",
      "its value: the del statement. This differs from the pop method which\n",
      "returns a value. The del statement can also be used to remove slices\n",
      "from a list or clear the entire list (which we did earlier by assignment\n",
      "of an empty list to the slice). For example:"
     ]
    },
    {
     "cell_type": "code",
     "collapsed": false,
     "input": [
      ">>> a = [-1, 1, 66.25, 333, 333, 1234.5]\n",
      ">>> del a[0]\n",
      ">>> a\n",
      "[1, 66.25, 333, 333, 1234.5]\n",
      ">>> del a[2:4]\n",
      ">>> a\n",
      "[1, 66.25, 1234.5]\n",
      ">>> del a[:]\n",
      ">>> a\n",
      "[]"
     ],
     "language": "python",
     "metadata": {},
     "outputs": []
    },
    {
     "cell_type": "markdown",
     "metadata": {},
     "source": [
      "del can also be used to delete entire variables:"
     ]
    },
    {
     "cell_type": "code",
     "collapsed": false,
     "input": [
      ">>> del a"
     ],
     "language": "python",
     "metadata": {},
     "outputs": []
    },
    {
     "cell_type": "markdown",
     "metadata": {},
     "source": [
      "Referencing the name `a` hereafter is an error (at least until another\n",
      "value is assigned to it). We'll find other uses for del later.\n",
      "\n",
      "Tuples and Sequences\n",
      "====================\n",
      "\n",
      "We saw that lists and strings have many common properties, such as\n",
      "indexing and slicing operations. They are two examples of *sequence*\n",
      "data types (see typesseq). Since Python is an evolving language, other\n",
      "sequence data types may be added. There is also another standard\n",
      "sequence data type: the *tuple*.\n",
      "\n",
      "A tuple consists of a number of values separated by commas, for\n",
      "instance:"
     ]
    },
    {
     "cell_type": "code",
     "collapsed": false,
     "input": [
      ">>> t = 12345, 54321, 'hello!'\n",
      ">>> t[0]\n",
      "12345\n",
      ">>> t\n",
      "(12345, 54321, 'hello!')\n",
      ">>> # Tuples may be nested:\n",
      "... u = t, (1, 2, 3, 4, 5)\n",
      ">>> u\n",
      "((12345, 54321, 'hello!'), (1, 2, 3, 4, 5))\n",
      ">>> # Tuples are immutable:\n",
      "... t[0] = 88888\n",
      "Traceback (most recent call last):\n",
      "  File \"<stdin>\", line 1, in <module>\n",
      "TypeError: 'tuple' object does not support item assignment\n",
      ">>> # but they can contain mutable objects:\n",
      "... v = ([1, 2, 3], [3, 2, 1])\n",
      ">>> v\n",
      "([1, 2, 3], [3, 2, 1])"
     ],
     "language": "python",
     "metadata": {},
     "outputs": []
    },
    {
     "cell_type": "markdown",
     "metadata": {},
     "source": [
      "As you see, on output tuples are always enclosed in parentheses, so that\n",
      "nested tuples are interpreted correctly; they may be input with or\n",
      "without surrounding parentheses, although often parentheses are\n",
      "necessary anyway (if the tuple is part of a larger expression). It is\n",
      "not possible to assign to the individual items of a tuple, however it is\n",
      "possible to create tuples which contain mutable objects, such as lists.\n",
      "\n",
      "Though tuples may seem similar to lists, they are often used in\n",
      "different situations and for different purposes. Tuples are immutable,\n",
      "and usually contain an heterogeneous sequence of elements that are\n",
      "accessed via unpacking (see later in this section) or indexing (or even\n",
      "by attribute in the case of namedtuples \\<collections.namedtuple\\>).\n",
      "Lists are mutable, and their elements are usually homogeneous and are\n",
      "accessed by iterating over the list.\n",
      "\n",
      "A special problem is the construction of tuples containing 0 or 1 items:\n",
      "the syntax has some extra quirks to accommodate these. Empty tuples are\n",
      "constructed by an empty pair of parentheses; a tuple with one item is\n",
      "constructed by following a value with a comma (it is not sufficient to\n",
      "enclose a single value in parentheses). Ugly, but effective. For\n",
      "example:"
     ]
    },
    {
     "cell_type": "code",
     "collapsed": false,
     "input": [
      ">>> empty = ()\n",
      ">>> singleton = 'hello',    # <-- note trailing comma\n",
      ">>> len(empty)\n",
      "0\n",
      ">>> len(singleton)\n",
      "1\n",
      ">>> singleton\n",
      "('hello',)"
     ],
     "language": "python",
     "metadata": {},
     "outputs": []
    },
    {
     "cell_type": "markdown",
     "metadata": {},
     "source": [
      "The statement `t = 12345, 54321, 'hello!'` is an example of *tuple\n",
      "packing*: the values `12345`, `54321` and `'hello!'` are packed together\n",
      "in a tuple. The reverse operation is also possible:"
     ]
    },
    {
     "cell_type": "code",
     "collapsed": false,
     "input": [
      ">>> x, y, z = t"
     ],
     "language": "python",
     "metadata": {},
     "outputs": []
    },
    {
     "cell_type": "markdown",
     "metadata": {},
     "source": [
      "This is called, appropriately enough, *sequence unpacking* and works for\n",
      "any sequence on the right-hand side. Sequence unpacking requires the\n",
      "list of variables on the left to have the same number of elements as the\n",
      "length of the sequence. Note that multiple assignment is really just a\n",
      "combination of tuple packing and sequence unpacking.\n",
      "\n",
      "Sets\n",
      "====\n",
      "\n",
      "Python also includes a data type for *sets*. A set is an unordered\n",
      "collection with no duplicate elements. Basic uses include membership\n",
      "testing and eliminating duplicate entries. Set objects also support\n",
      "mathematical operations like union, intersection, difference, and\n",
      "symmetric difference.\n",
      "\n",
      "Curly braces or the set function can be used to create sets. Note: to\n",
      "create an empty set you have to use `set()`, not `{}`; the latter\n",
      "creates an empty dictionary, a data structure that we discuss in the\n",
      "next section.\n",
      "\n",
      "Here is a brief demonstration:"
     ]
    },
    {
     "cell_type": "code",
     "collapsed": false,
     "input": [
      ">>> basket = ['apple', 'orange', 'apple', 'pear', 'orange', 'banana']\n",
      ">>> fruit = set(basket)               # create a set without duplicates\n",
      ">>> fruit\n",
      "set(['orange', 'pear', 'apple', 'banana'])\n",
      ">>> 'orange' in fruit                 # fast membership testing\n",
      "True\n",
      ">>> 'crabgrass' in fruit\n",
      "False"
     ],
     "language": "python",
     "metadata": {},
     "outputs": []
    },
    {
     "cell_type": "code",
     "collapsed": false,
     "input": [
      ">>> # Demonstrate set operations on unique letters from two words\n",
      "...\n",
      ">>> a = set('abracadabra')\n",
      ">>> b = set('alacazam')\n",
      ">>> a                                  # unique letters in a\n",
      "set(['a', 'r', 'b', 'c', 'd'])\n",
      ">>> a - b                              # letters in a but not in b\n",
      "set(['r', 'd', 'b'])\n",
      ">>> a | b                              # letters in either a or b\n",
      "set(['a', 'c', 'r', 'd', 'b', 'm', 'z', 'l'])\n",
      ">>> a & b                              # letters in both a and b\n",
      "set(['a', 'c'])\n",
      ">>> a ^ b                              # letters in a or b but not both\n",
      "set(['r', 'd', 'b', 'm', 'z', 'l'])"
     ],
     "language": "python",
     "metadata": {},
     "outputs": []
    },
    {
     "cell_type": "markdown",
     "metadata": {},
     "source": [
      "Similarly to list comprehensions \\<tut-listcomps\\>, set comprehensions\n",
      "are also supported:"
     ]
    },
    {
     "cell_type": "code",
     "collapsed": false,
     "input": [
      ">>> a = {x for x in 'abracadabra' if x not in 'abc'}\n",
      ">>> a\n",
      "set(['r', 'd'])"
     ],
     "language": "python",
     "metadata": {},
     "outputs": []
    },
    {
     "cell_type": "markdown",
     "metadata": {},
     "source": [
      "Dictionaries\n",
      "============\n",
      "\n",
      "Another useful data type built into Python is the *dictionary* (see\n",
      "typesmapping). Dictionaries are sometimes found in other languages as\n",
      "\"associative memories\" or \"associative arrays\". Unlike sequences, which\n",
      "are indexed by a range of numbers, dictionaries are indexed by *keys*,\n",
      "which can be any immutable type; strings and numbers can always be keys.\n",
      "Tuples can be used as keys if they contain only strings, numbers, or\n",
      "tuples; if a tuple contains any mutable object either directly or\n",
      "indirectly, it cannot be used as a key. You can't use lists as keys,\n",
      "since lists can be modified in place using index assignments, slice\n",
      "assignments, or methods like append and extend.\n",
      "\n",
      "It is best to think of a dictionary as an unordered set of *key: value*\n",
      "pairs, with the requirement that the keys are unique (within one\n",
      "dictionary). A pair of braces creates an empty dictionary: `{}`. Placing\n",
      "a comma-separated list of key:value pairs within the braces adds initial\n",
      "key:value pairs to the dictionary; this is also the way dictionaries are\n",
      "written on output.\n",
      "\n",
      "The main operations on a dictionary are storing a value with some key\n",
      "and extracting the value given the key. It is also possible to delete a\n",
      "key:value pair with `del`. If you store using a key that is already in\n",
      "use, the old value associated with that key is forgotten. It is an error\n",
      "to extract a value using a non-existent key.\n",
      "\n",
      "The keys method of a dictionary object returns a list of all the keys\n",
      "used in the dictionary, in arbitrary order (if you want it sorted, just\n",
      "apply the sorted function to it). To check whether a single key is in\n",
      "the dictionary, use the in keyword.\n",
      "\n",
      "Here is a small example using a dictionary:"
     ]
    },
    {
     "cell_type": "code",
     "collapsed": false,
     "input": [
      ">>> tel = {'jack': 4098, 'sape': 4139}\n",
      ">>> tel['guido'] = 4127\n",
      ">>> tel\n",
      "{'sape': 4139, 'guido': 4127, 'jack': 4098}\n",
      ">>> tel['jack']\n",
      "4098\n",
      ">>> del tel['sape']\n",
      ">>> tel['irv'] = 4127\n",
      ">>> tel\n",
      "{'guido': 4127, 'irv': 4127, 'jack': 4098}\n",
      ">>> tel.keys()\n",
      "['guido', 'irv', 'jack']\n",
      ">>> 'guido' in tel\n",
      "True"
     ],
     "language": "python",
     "metadata": {},
     "outputs": []
    },
    {
     "cell_type": "markdown",
     "metadata": {},
     "source": [
      "The dict constructor builds dictionaries directly from sequences of\n",
      "key-value pairs:"
     ]
    },
    {
     "cell_type": "code",
     "collapsed": false,
     "input": [
      ">>> dict([('sape', 4139), ('guido', 4127), ('jack', 4098)])\n",
      "{'sape': 4139, 'jack': 4098, 'guido': 4127}"
     ],
     "language": "python",
     "metadata": {},
     "outputs": []
    },
    {
     "cell_type": "markdown",
     "metadata": {},
     "source": [
      "In addition, dict comprehensions can be used to create dictionaries from\n",
      "arbitrary key and value expressions:"
     ]
    },
    {
     "cell_type": "code",
     "collapsed": false,
     "input": [
      ">>> {x: x**2 for x in (2, 4, 6)}\n",
      "{2: 4, 4: 16, 6: 36}"
     ],
     "language": "python",
     "metadata": {},
     "outputs": []
    },
    {
     "cell_type": "markdown",
     "metadata": {},
     "source": [
      "When the keys are simple strings, it is sometimes easier to specify\n",
      "pairs using keyword arguments:"
     ]
    },
    {
     "cell_type": "code",
     "collapsed": false,
     "input": [
      ">>> dict(sape=4139, guido=4127, jack=4098)\n",
      "{'sape': 4139, 'jack': 4098, 'guido': 4127}"
     ],
     "language": "python",
     "metadata": {},
     "outputs": []
    },
    {
     "cell_type": "markdown",
     "metadata": {},
     "source": [
      "Looping Techniques\n",
      "==================\n",
      "\n",
      "When looping through a sequence, the position index and corresponding\n",
      "value can be retrieved at the same time using the enumerate function. :"
     ]
    },
    {
     "cell_type": "code",
     "collapsed": false,
     "input": [
      ">>> for i, v in enumerate(['tic', 'tac', 'toe']):\n",
      "...     print i, v\n",
      "...\n",
      "0 tic\n",
      "1 tac\n",
      "2 toe"
     ],
     "language": "python",
     "metadata": {},
     "outputs": []
    },
    {
     "cell_type": "markdown",
     "metadata": {},
     "source": [
      "To loop over two or more sequences at the same time, the entries can be\n",
      "paired with the zip function. :"
     ]
    },
    {
     "cell_type": "code",
     "collapsed": false,
     "input": [
      ">>> questions = ['name', 'quest', 'favorite color']\n",
      ">>> answers = ['lancelot', 'the holy grail', 'blue']\n",
      ">>> for q, a in zip(questions, answers):\n",
      "...     print 'What is your {0}?  It is {1}.'.format(q, a)\n",
      "...\n",
      "What is your name?  It is lancelot.\n",
      "What is your quest?  It is the holy grail.\n",
      "What is your favorite color?  It is blue."
     ],
     "language": "python",
     "metadata": {},
     "outputs": []
    },
    {
     "cell_type": "markdown",
     "metadata": {},
     "source": [
      "To loop over a sequence in reverse, first specify the sequence in a\n",
      "forward direction and then call the reversed function. :"
     ]
    },
    {
     "cell_type": "code",
     "collapsed": false,
     "input": [
      ">>> for i in reversed(xrange(1,10,2)):\n",
      "...     print i\n",
      "...\n",
      "9\n",
      "7\n",
      "5\n",
      "3\n",
      "1"
     ],
     "language": "python",
     "metadata": {},
     "outputs": []
    },
    {
     "cell_type": "markdown",
     "metadata": {},
     "source": [
      "To loop over a sequence in sorted order, use the sorted function which\n",
      "returns a new sorted list while leaving the source unaltered. :"
     ]
    },
    {
     "cell_type": "code",
     "collapsed": false,
     "input": [
      ">>> basket = ['apple', 'orange', 'apple', 'pear', 'orange', 'banana']\n",
      ">>> for f in sorted(set(basket)):\n",
      "...     print f\n",
      "...\n",
      "apple\n",
      "banana\n",
      "orange\n",
      "pear"
     ],
     "language": "python",
     "metadata": {},
     "outputs": []
    },
    {
     "cell_type": "markdown",
     "metadata": {},
     "source": [
      "When looping through dictionaries, the key and corresponding value can\n",
      "be retrieved at the same time using the iteritems method. :"
     ]
    },
    {
     "cell_type": "code",
     "collapsed": false,
     "input": [
      ">>> knights = {'gallahad': 'the pure', 'robin': 'the brave'}\n",
      ">>> for k, v in knights.iteritems():\n",
      "...     print k, v\n",
      "...\n",
      "gallahad the pure\n",
      "robin the brave"
     ],
     "language": "python",
     "metadata": {},
     "outputs": []
    },
    {
     "cell_type": "markdown",
     "metadata": {},
     "source": [
      "To change a sequence you are iterating over while inside the loop (for\n",
      "example to duplicate certain items), it is recommended that you first\n",
      "make a copy. Looping over a sequence does not implicitly make a copy.\n",
      "The slice notation makes this especially convenient:"
     ]
    },
    {
     "cell_type": "code",
     "collapsed": false,
     "input": [
      ">>> words = ['cat', 'window', 'defenestrate']\n",
      ">>> for w in words[:]:  # Loop over a slice copy of the entire list.\n",
      "...     if len(w) > 6:\n",
      "...         words.insert(0, w)\n",
      "...\n",
      ">>> words\n",
      "['defenestrate', 'cat', 'window', 'defenestrate']"
     ],
     "language": "python",
     "metadata": {},
     "outputs": []
    },
    {
     "cell_type": "markdown",
     "metadata": {},
     "source": [
      "More on Conditions\n",
      "==================\n",
      "\n",
      "The conditions used in `while` and `if` statements can contain any\n",
      "operators, not just comparisons.\n",
      "\n",
      "The comparison operators `in` and `not in` check whether a value occurs\n",
      "(does not occur) in a sequence. The operators `is` and `is not` compare\n",
      "whether two objects are really the same object; this only matters for\n",
      "mutable objects like lists. All comparison operators have the same\n",
      "priority, which is lower than that of all numerical operators.\n",
      "\n",
      "Comparisons can be chained. For example, `a < b == c` tests whether `a`\n",
      "is less than `b` and moreover `b` equals `c`.\n",
      "\n",
      "Comparisons may be combined using the Boolean operators `and` and `or`,\n",
      "and the outcome of a comparison (or of any other Boolean expression) may\n",
      "be negated with `not`. These have lower priorities than comparison\n",
      "operators; between them, `not` has the highest priority and `or` the\n",
      "lowest, so that `A and not B or C` is equivalent to\n",
      "`(A and (not B)) or C`. As always, parentheses can be used to express\n",
      "the desired composition.\n",
      "\n",
      "The Boolean operators `and` and `or` are so-called *short-circuit*\n",
      "operators: their arguments are evaluated from left to right, and\n",
      "evaluation stops as soon as the outcome is determined. For example, if\n",
      "`A` and `C` are true but `B` is false, `A and B and C` does not evaluate\n",
      "the expression `C`. When used as a general value and not as a Boolean,\n",
      "the return value of a short-circuit operator is the last evaluated\n",
      "argument.\n",
      "\n",
      "It is possible to assign the result of a comparison or other Boolean\n",
      "expression to a variable. For example, :"
     ]
    },
    {
     "cell_type": "code",
     "collapsed": false,
     "input": [
      ">>> string1, string2, string3 = '', 'Trondheim', 'Hammer Dance'\n",
      ">>> non_null = string1 or string2 or string3\n",
      ">>> non_null\n",
      "'Trondheim'"
     ],
     "language": "python",
     "metadata": {},
     "outputs": []
    },
    {
     "cell_type": "markdown",
     "metadata": {},
     "source": [
      "Note that in Python, unlike C, assignment cannot occur inside\n",
      "expressions. C programmers may grumble about this, but it avoids a\n",
      "common class of problems encountered in C programs: typing `=` in an\n",
      "expression when `==` was intended.\n",
      "\n",
      "Comparing Sequences and Other Types\n",
      "===================================\n",
      "\n",
      "Sequence objects may be compared to other objects with the same sequence\n",
      "type. The comparison uses *lexicographical* ordering: first the first\n",
      "two items are compared, and if they differ this determines the outcome\n",
      "of the comparison; if they are equal, the next two items are compared,\n",
      "and so on, until either sequence is exhausted. If two items to be\n",
      "compared are themselves sequences of the same type, the lexicographical\n",
      "comparison is carried out recursively. If all items of two sequences\n",
      "compare equal, the sequences are considered equal. If one sequence is an\n",
      "initial sub-sequence of the other, the shorter sequence is the smaller\n",
      "(lesser) one. Lexicographical ordering for strings uses the ASCII\n",
      "ordering for individual characters. Some examples of comparisons between\n",
      "sequences of the same type:"
     ]
    },
    {
     "cell_type": "code",
     "collapsed": false,
     "input": [
      "(1, 2, 3)              < (1, 2, 4)\n",
      "[1, 2, 3]              < [1, 2, 4]\n",
      "'ABC' < 'C' < 'Pascal' < 'Python'\n",
      "(1, 2, 3, 4)           < (1, 2, 4)\n",
      "(1, 2)                 < (1, 2, -1)\n",
      "(1, 2, 3)             == (1.0, 2.0, 3.0)\n",
      "(1, 2, ('aa', 'ab'))   < (1, 2, ('abc', 'a'), 4)"
     ],
     "language": "python",
     "metadata": {},
     "outputs": []
    },
    {
     "cell_type": "markdown",
     "metadata": {},
     "source": [
      "Note that comparing objects of different types is legal. The outcome is\n",
      "deterministic but arbitrary: the types are ordered by their name. Thus,\n",
      "a list is always smaller than a string, a string is always smaller than\n",
      "a tuple, etc. [^1] Mixed numeric types are compared according to their\n",
      "numeric value, so 0 equals 0.0, etc.\n",
      "\n",
      "**Footnotes**\n",
      "\n",
      "[^1]: The rules for comparing objects of different types should not be"
     ]
    },
    {
     "cell_type": "code",
     "collapsed": false,
     "input": [
      "relied upon; they may change in a future version of the language."
     ],
     "language": "python",
     "metadata": {},
     "outputs": []
    }
   ],
   "metadata": {}
  }
 ]
}