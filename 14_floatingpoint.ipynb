{
 "metadata": {},
 "nbformat": 3,
 "nbformat_minor": 0,
 "worksheets": [
  {
   "cells": [
    {
     "cell_type": "markdown",
     "metadata": {},
     "source": [
      "% Floating Point Arithmetic: Issues and Limitations\n",
      "% \n",
      "% \n",
      "\n",
      "Floating-point numbers are represented in computer hardware as base 2\n",
      "(binary) fractions. For example, the decimal fraction :"
     ]
    },
    {
     "cell_type": "code",
     "collapsed": false,
     "input": [
      "0.125"
     ],
     "language": "python",
     "metadata": {},
     "outputs": []
    },
    {
     "cell_type": "markdown",
     "metadata": {},
     "source": [
      "has value 1/10 + 2/100 + 5/1000, and in the same way the binary fraction\n",
      ":"
     ]
    },
    {
     "cell_type": "code",
     "collapsed": false,
     "input": [
      "0.001"
     ],
     "language": "python",
     "metadata": {},
     "outputs": []
    },
    {
     "cell_type": "markdown",
     "metadata": {},
     "source": [
      "has value 0/2 + 0/4 + 1/8. These two fractions have identical values,\n",
      "the only real difference being that the first is written in base 10\n",
      "fractional notation, and the second in base 2.\n",
      "\n",
      "Unfortunately, most decimal fractions cannot be represented exactly as\n",
      "binary fractions. A consequence is that, in general, the decimal\n",
      "floating-point numbers you enter are only approximated by the binary\n",
      "floating-point numbers actually stored in the machine.\n",
      "\n",
      "The problem is easier to understand at first in base 10. Consider the\n",
      "fraction 1/3. You can approximate that as a base 10 fraction:"
     ]
    },
    {
     "cell_type": "code",
     "collapsed": false,
     "input": [
      "0.3"
     ],
     "language": "python",
     "metadata": {},
     "outputs": []
    },
    {
     "cell_type": "markdown",
     "metadata": {},
     "source": [
      "or, better, :"
     ]
    },
    {
     "cell_type": "code",
     "collapsed": false,
     "input": [
      "0.33"
     ],
     "language": "python",
     "metadata": {},
     "outputs": []
    },
    {
     "cell_type": "markdown",
     "metadata": {},
     "source": [
      "or, better, :"
     ]
    },
    {
     "cell_type": "code",
     "collapsed": false,
     "input": [
      "0.333"
     ],
     "language": "python",
     "metadata": {},
     "outputs": []
    },
    {
     "cell_type": "markdown",
     "metadata": {},
     "source": [
      "and so on. No matter how many digits you're willing to write down, the\n",
      "result will never be exactly 1/3, but will be an increasingly better\n",
      "approximation of 1/3.\n",
      "\n",
      "In the same way, no matter how many base 2 digits you're willing to use,\n",
      "the decimal value 0.1 cannot be represented exactly as a base 2\n",
      "fraction. In base 2, 1/10 is the infinitely repeating fraction :"
     ]
    },
    {
     "cell_type": "code",
     "collapsed": false,
     "input": [
      "0.0001100110011001100110011001100110011001100110011..."
     ],
     "language": "python",
     "metadata": {},
     "outputs": []
    },
    {
     "cell_type": "markdown",
     "metadata": {},
     "source": [
      "Stop at any finite number of bits, and you get an approximation.\n",
      "\n",
      "On a typical machine running Python, there are 53 bits of precision\n",
      "available for a Python float, so the value stored internally when you\n",
      "enter the decimal number `0.1` is the binary fraction :"
     ]
    },
    {
     "cell_type": "code",
     "collapsed": false,
     "input": [
      "0.00011001100110011001100110011001100110011001100110011010"
     ],
     "language": "python",
     "metadata": {},
     "outputs": []
    },
    {
     "cell_type": "markdown",
     "metadata": {},
     "source": [
      "which is close to, but not exactly equal to, 1/10.\n",
      "\n",
      "It's easy to forget that the stored value is an approximation to the\n",
      "original decimal fraction, because of the way that floats are displayed\n",
      "at the interpreter prompt. Python only prints a decimal approximation to\n",
      "the true decimal value of the binary approximation stored by the\n",
      "machine. If Python were to print the true decimal value of the binary\n",
      "approximation stored for 0.1, it would have to display :"
     ]
    },
    {
     "cell_type": "code",
     "collapsed": false,
     "input": [
      ">>> 0.1\n",
      "0.1000000000000000055511151231257827021181583404541015625"
     ],
     "language": "python",
     "metadata": {},
     "outputs": []
    },
    {
     "cell_type": "markdown",
     "metadata": {},
     "source": [
      "That is more digits than most people find useful, so Python keeps the\n",
      "number of digits manageable by displaying a rounded value instead :"
     ]
    },
    {
     "cell_type": "code",
     "collapsed": false,
     "input": [
      ">>> 0.1\n",
      "0.1"
     ],
     "language": "python",
     "metadata": {},
     "outputs": []
    },
    {
     "cell_type": "markdown",
     "metadata": {},
     "source": [
      "It's important to realize that this is, in a real sense, an illusion:\n",
      "the value in the machine is not exactly 1/10, you're simply rounding the\n",
      "*display* of the true machine value. This fact becomes apparent as soon\n",
      "as you try to do arithmetic with these values :"
     ]
    },
    {
     "cell_type": "code",
     "collapsed": false,
     "input": [
      ">>> 0.1 + 0.2\n",
      "0.30000000000000004"
     ],
     "language": "python",
     "metadata": {},
     "outputs": []
    },
    {
     "cell_type": "markdown",
     "metadata": {},
     "source": [
      "Note that this is in the very nature of binary floating-point: this is\n",
      "not a bug in Python, and it is not a bug in your code either. You'll see\n",
      "the same kind of thing in all languages that support your hardware's\n",
      "floating-point arithmetic (although some languages may not *display* the\n",
      "difference by default, or in all output modes).\n",
      "\n",
      "Other surprises follow from this one. For example, if you try to round\n",
      "the value 2.675 to two decimal places, you get this :"
     ]
    },
    {
     "cell_type": "code",
     "collapsed": false,
     "input": [
      ">>> round(2.675, 2)\n",
      "2.67"
     ],
     "language": "python",
     "metadata": {},
     "outputs": []
    },
    {
     "cell_type": "markdown",
     "metadata": {},
     "source": [
      "The documentation for the built-in round function says that it rounds to\n",
      "the nearest value, rounding ties away from zero. Since the decimal\n",
      "fraction 2.675 is exactly halfway between 2.67 and 2.68, you might\n",
      "expect the result here to be (a binary approximation to) 2.68. It's not,\n",
      "because when the decimal string `2.675` is converted to a binary\n",
      "floating-point number, it's again replaced with a binary approximation,\n",
      "whose exact value is :"
     ]
    },
    {
     "cell_type": "code",
     "collapsed": false,
     "input": [
      "2.67499999999999982236431605997495353221893310546875"
     ],
     "language": "python",
     "metadata": {},
     "outputs": []
    },
    {
     "cell_type": "markdown",
     "metadata": {},
     "source": [
      "Since this approximation is slightly closer to 2.67 than to 2.68, it's\n",
      "rounded down.\n",
      "\n",
      "If you're in a situation where you care which way your decimal\n",
      "halfway-cases are rounded, you should consider using the decimal module.\n",
      "Incidentally, the decimal module also provides a nice way to \"see\" the\n",
      "exact value that's stored in any particular Python float :"
     ]
    },
    {
     "cell_type": "code",
     "collapsed": false,
     "input": [
      ">>> from decimal import Decimal\n",
      ">>> Decimal(2.675)\n",
      "Decimal('2.67499999999999982236431605997495353221893310546875')"
     ],
     "language": "python",
     "metadata": {},
     "outputs": []
    },
    {
     "cell_type": "markdown",
     "metadata": {},
     "source": [
      "Another consequence is that since 0.1 is not exactly 1/10, summing ten\n",
      "values of 0.1 may not yield exactly 1.0, either:"
     ]
    },
    {
     "cell_type": "code",
     "collapsed": false,
     "input": [
      ">>> sum = 0.0\n",
      ">>> for i in range(10):\n",
      "...     sum += 0.1\n",
      "...\n",
      ">>> sum\n",
      "0.9999999999999999"
     ],
     "language": "python",
     "metadata": {},
     "outputs": []
    },
    {
     "cell_type": "markdown",
     "metadata": {},
     "source": [
      "Binary floating-point arithmetic holds many surprises like this. The\n",
      "problem with \"0.1\" is explained in precise detail below, in the\n",
      "\"Representation Error\" section. See [The Perils of Floating\n",
      "Point](http://www.lahey.com/float.htm) for a more complete account of\n",
      "other common surprises.\n",
      "\n",
      "As that says near the end, \"there are no easy answers.\" Still, don't be\n",
      "unduly wary of floating-point! The errors in Python float operations are\n",
      "inherited from the floating-point hardware, and on most machines are on\n",
      "the order of no more than 1 part in 2\\*\\*53 per operation. That's more\n",
      "than adequate for most tasks, but you do need to keep in mind that it's\n",
      "not decimal arithmetic, and that every float operation can suffer a new\n",
      "rounding error.\n",
      "\n",
      "While pathological cases do exist, for most casual use of floating-point\n",
      "arithmetic you'll see the result you expect in the end if you simply\n",
      "round the display of your final results to the number of decimal digits\n",
      "you expect. For fine control over how a float is displayed see the\n",
      "str.format method's format specifiers in formatstrings.\n",
      "\n",
      "Representation Error\n",
      "====================\n",
      "\n",
      "This section explains the \"0.1\" example in detail, and shows how you can\n",
      "perform an exact analysis of cases like this yourself. Basic familiarity\n",
      "with binary floating-point representation is assumed.\n",
      "\n",
      "Representation error refers to the fact that some (most, actually)\n",
      "decimal fractions cannot be represented exactly as binary (base 2)\n",
      "fractions. This is the chief reason why Python (or Perl, C, C++, Java,\n",
      "Fortran, and many others) often won't display the exact decimal number\n",
      "you expect:"
     ]
    },
    {
     "cell_type": "code",
     "collapsed": false,
     "input": [
      ">>> 0.1 + 0.2\n",
      "0.30000000000000004"
     ],
     "language": "python",
     "metadata": {},
     "outputs": []
    },
    {
     "cell_type": "markdown",
     "metadata": {},
     "source": [
      "Why is that? 1/10 and 2/10 are not exactly representable as a binary\n",
      "fraction. Almost all machines today (July 2010) use IEEE-754 floating\n",
      "point arithmetic, and almost all platforms map Python floats to IEEE-754\n",
      "\"double precision\". 754 doubles contain 53 bits of precision, so on\n",
      "input the computer strives to convert 0.1 to the closest fraction it can\n",
      "of the form *J*/2\\***N\\* where *J* is an integer containing exactly 53\n",
      "bits. Rewriting :"
     ]
    },
    {
     "cell_type": "code",
     "collapsed": false,
     "input": [
      "1 / 10 ~= J / (2**N)"
     ],
     "language": "python",
     "metadata": {},
     "outputs": []
    },
    {
     "cell_type": "markdown",
     "metadata": {},
     "source": [
      "as :"
     ]
    },
    {
     "cell_type": "code",
     "collapsed": false,
     "input": [
      "J ~= 2**N / 10"
     ],
     "language": "python",
     "metadata": {},
     "outputs": []
    },
    {
     "cell_type": "markdown",
     "metadata": {},
     "source": [
      "and recalling that *J* has exactly 53 bits (is `>= 2**52` but\n",
      "`< 2**53`), the best value for *N* is 56:"
     ]
    },
    {
     "cell_type": "code",
     "collapsed": false,
     "input": [
      ">>> 2**52\n",
      "4503599627370496\n",
      ">>> 2**53\n",
      "9007199254740992\n",
      ">>> 2**56/10\n",
      "7205759403792793"
     ],
     "language": "python",
     "metadata": {},
     "outputs": []
    },
    {
     "cell_type": "markdown",
     "metadata": {},
     "source": [
      "That is, 56 is the only value for *N* that leaves *J* with exactly 53\n",
      "bits. The best possible value for *J* is then that quotient rounded:"
     ]
    },
    {
     "cell_type": "code",
     "collapsed": false,
     "input": [
      ">>> q, r = divmod(2**56, 10)\n",
      ">>> r\n",
      "6"
     ],
     "language": "python",
     "metadata": {},
     "outputs": []
    },
    {
     "cell_type": "markdown",
     "metadata": {},
     "source": [
      "Since the remainder is more than half of 10, the best approximation is\n",
      "obtained by rounding up:"
     ]
    },
    {
     "cell_type": "code",
     "collapsed": false,
     "input": [
      ">>> q+1\n",
      "7205759403792794"
     ],
     "language": "python",
     "metadata": {},
     "outputs": []
    },
    {
     "cell_type": "markdown",
     "metadata": {},
     "source": [
      "Therefore the best possible approximation to 1/10 in 754 double\n",
      "precision is that over 2\\*\\*56, or :"
     ]
    },
    {
     "cell_type": "code",
     "collapsed": false,
     "input": [
      "7205759403792794 / 72057594037927936"
     ],
     "language": "python",
     "metadata": {},
     "outputs": []
    },
    {
     "cell_type": "markdown",
     "metadata": {},
     "source": [
      "Note that since we rounded up, this is actually a little bit larger than\n",
      "1/10; if we had not rounded up, the quotient would have been a little\n",
      "bit smaller than 1/10. But in no case can it be *exactly* 1/10!\n",
      "\n",
      "So the computer never \"sees\" 1/10: what it sees is the exact fraction\n",
      "given above, the best 754 double approximation it can get:"
     ]
    },
    {
     "cell_type": "code",
     "collapsed": false,
     "input": [
      ">>> .1 * 2**56\n",
      "7205759403792794.0"
     ],
     "language": "python",
     "metadata": {},
     "outputs": []
    },
    {
     "cell_type": "markdown",
     "metadata": {},
     "source": [
      "If we multiply that fraction by 10\\*\\*30, we can see the (truncated)\n",
      "value of its 30 most significant decimal digits:"
     ]
    },
    {
     "cell_type": "code",
     "collapsed": false,
     "input": [
      ">>> 7205759403792794 * 10**30 // 2**56\n",
      "100000000000000005551115123125L"
     ],
     "language": "python",
     "metadata": {},
     "outputs": []
    },
    {
     "cell_type": "markdown",
     "metadata": {},
     "source": [
      "meaning that the exact number stored in the computer is approximately\n",
      "equal to the decimal value 0.100000000000000005551115123125. In versions\n",
      "prior to Python 2.7 and Python 3.1, Python rounded this value to 17\n",
      "significant digits, giving '0.10000000000000001'. In current versions,\n",
      "Python displays a value based on the shortest decimal fraction that\n",
      "rounds correctly back to the true binary value, resulting simply in\n",
      "'0.1'.\n"
     ]
    }
   ],
   "metadata": {}
  }
 ]
}