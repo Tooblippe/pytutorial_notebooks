{
 "metadata": {},
 "nbformat": 3,
 "nbformat_minor": 0,
 "worksheets": [
  {
   "cells": [
    {
     "cell_type": "markdown",
     "metadata": {},
     "source": [
      "% Classes\n",
      "% \n",
      "% \n",
      "\n",
      "Compared with other programming languages, Python's class mechanism adds\n",
      "classes with a minimum of new syntax and semantics. It is a mixture of\n",
      "the class mechanisms found in C++ and Modula-3. Python classes provide\n",
      "all the standard features of Object Oriented Programming: the class\n",
      "inheritance mechanism allows multiple base classes, a derived class can\n",
      "override any methods of its base class or classes, and a method can call\n",
      "the method of a base class with the same name. Objects can contain\n",
      "arbitrary amounts and kinds of data. As is true for modules, classes\n",
      "partake of the dynamic nature of Python: they are created at runtime,\n",
      "and can be modified further after creation.\n",
      "\n",
      "In C++ terminology, normally class members (including the data members)\n",
      "are *public* (except see below tut-private), and all member functions\n",
      "are *virtual*. As in Modula-3, there are no shorthands for referencing\n",
      "the object's members from its methods: the method function is declared\n",
      "with an explicit first argument representing the object, which is\n",
      "provided implicitly by the call. As in Smalltalk, classes themselves are\n",
      "objects. This provides semantics for importing and renaming. Unlike C++\n",
      "and Modula-3, built-in types can be used as base classes for extension\n",
      "by the user. Also, like in C++, most built-in operators with special\n",
      "syntax (arithmetic operators, subscripting etc.) can be redefined for\n",
      "class instances.\n",
      "\n",
      "(Lacking universally accepted terminology to talk about classes, I will\n",
      "make occasional use of Smalltalk and C++ terms. I would use Modula-3\n",
      "terms, since its object-oriented semantics are closer to those of Python\n",
      "than C++, but I expect that few readers have heard of it.)\n",
      "\n",
      "A Word About Names and Objects\n",
      "==============================\n",
      "\n",
      "Objects have individuality, and multiple names (in multiple scopes) can\n",
      "be bound to the same object. This is known as aliasing in other\n",
      "languages. This is usually not appreciated on a first glance at Python,\n",
      "and can be safely ignored when dealing with immutable basic types\n",
      "(numbers, strings, tuples). However, aliasing has a possibly surprising\n",
      "effect on the semantics of Python code involving mutable objects such as\n",
      "lists, dictionaries, and most other types. This is usually used to the\n",
      "benefit of the program, since aliases behave like pointers in some\n",
      "respects. For example, passing an object is cheap since only a pointer\n",
      "is passed by the implementation; and if a function modifies an object\n",
      "passed as an argument, the caller will see the change --- this\n",
      "eliminates the need for two different argument passing mechanisms as in\n",
      "Pascal.\n",
      "\n",
      "Python Scopes and Namespaces\n",
      "============================\n",
      "\n",
      "Before introducing classes, I first have to tell you something about\n",
      "Python's scope rules. Class definitions play some neat tricks with\n",
      "namespaces, and you need to know how scopes and namespaces work to fully\n",
      "understand what's going on. Incidentally, knowledge about this subject\n",
      "is useful for any advanced Python programmer.\n",
      "\n",
      "Let's begin with some definitions.\n",
      "\n",
      "A *namespace* is a mapping from names to objects. Most namespaces are\n",
      "currently implemented as Python dictionaries, but that's normally not\n",
      "noticeable in any way (except for performance), and it may change in the\n",
      "future. Examples of namespaces are: the set of built-in names\n",
      "(containing functions such as abs, and built-in exception names); the\n",
      "global names in a module; and the local names in a function invocation.\n",
      "In a sense the set of attributes of an object also form a namespace. The\n",
      "important thing to know about namespaces is that there is absolutely no\n",
      "relation between names in different namespaces; for instance, two\n",
      "different modules may both define a function `maximize` without\n",
      "confusion ---users of the modules must prefix it with the module name.\n",
      "\n",
      "By the way, I use the word *attribute* for any name following a dot ---\n",
      "for example, in the expression `z.real`, `real` is an attribute of the\n",
      "object `z`. Strictly speaking, references to names in modules are\n",
      "attribute references: in the expression `modname.funcname`, `modname` is\n",
      "a module object and `funcname` is an attribute of it. In this case there\n",
      "happens to be a straightforward mapping between the module's attributes\n",
      "and the global names defined in the module: they share the same\n",
      "namespace! [^1]\n",
      "\n",
      "Attributes may be read-only or writable. In the latter case, assignment\n",
      "to attributes is possible. Module attributes are writable: you can write\n",
      "`modname.the_answer = 42`. Writable attributes may also be deleted with\n",
      "the del statement. For example, `del modname.the_answer` will remove the\n",
      "attribute the\\_answer from the object named by `modname`.\n",
      "\n",
      "Namespaces are created at different moments and have different\n",
      "lifetimes. The namespace containing the built-in names is created when\n",
      "the Python interpreter starts up, and is never deleted. The global\n",
      "namespace for a module is created when the module definition is read in;\n",
      "normally, module namespaces also last until the interpreter quits. The\n",
      "statements executed by the top-level invocation of the interpreter,\n",
      "either read from a script file or interactively, are considered part of\n",
      "a module called \\_\\_main\\_\\_, so they have their own global namespace.\n",
      "(The built-in names actually also live in a module; this is called\n",
      "\\_\\_builtin\\_\\_.)\n",
      "\n",
      "The local namespace for a function is created when the function is\n",
      "called, and deleted when the function returns or raises an exception\n",
      "that is not handled within the function. (Actually, forgetting would be\n",
      "a better way to describe what actually happens.) Of course, recursive\n",
      "invocations each have their own local namespace.\n",
      "\n",
      "A *scope* is a textual region of a Python program where a namespace is\n",
      "directly accessible. \"Directly accessible\" here means that an\n",
      "unqualified reference to a name attempts to find the name in the\n",
      "namespace.\n",
      "\n",
      "Although scopes are determined statically, they are used dynamically. At\n",
      "any time during execution, there are at least three nested scopes whose\n",
      "namespaces are directly accessible:\n",
      "\n",
      "-   the innermost scope, which is searched first, contains the local"
     ]
    },
    {
     "cell_type": "code",
     "collapsed": false,
     "input": [
      "names"
     ],
     "language": "python",
     "metadata": {},
     "outputs": []
    },
    {
     "cell_type": "markdown",
     "metadata": {},
     "source": [
      "-   the scopes of any enclosing functions, which are searched starting"
     ]
    },
    {
     "cell_type": "code",
     "collapsed": false,
     "input": [
      "with the nearest enclosing scope, contains non-local, but also\n",
      "non-global names"
     ],
     "language": "python",
     "metadata": {},
     "outputs": []
    },
    {
     "cell_type": "markdown",
     "metadata": {},
     "source": [
      "-   the next-to-last scope contains the current module's global names\n",
      "-   the outermost scope (searched last) is the namespace containing"
     ]
    },
    {
     "cell_type": "code",
     "collapsed": false,
     "input": [
      "built-in names"
     ],
     "language": "python",
     "metadata": {},
     "outputs": []
    },
    {
     "cell_type": "markdown",
     "metadata": {},
     "source": [
      "If a name is declared global, then all references and assignments go\n",
      "directly to the middle scope containing the module's global names.\n",
      "Otherwise, all variables found outside of the innermost scope are\n",
      "read-only (an attempt to write to such a variable will simply create a\n",
      "*new* local variable in the innermost scope, leaving the identically\n",
      "named outer variable unchanged).\n",
      "\n",
      "Usually, the local scope references the local names of the (textually)\n",
      "current function. Outside functions, the local scope references the same\n",
      "namespace as the global scope: the module's namespace. Class definitions\n",
      "place yet another namespace in the local scope.\n",
      "\n",
      "It is important to realize that scopes are determined textually: the\n",
      "global scope of a function defined in a module is that module's\n",
      "namespace, no matter from where or by what alias the function is called.\n",
      "On the other hand, the actual search for names is done dynamically, at\n",
      "run time --- however, the language definition is evolving towards static\n",
      "name resolution, at \"compile\" time, so don't rely on dynamic name\n",
      "resolution! (In fact, local variables are already determined\n",
      "statically.)\n",
      "\n",
      "A special quirk of Python is that -- if no global statement is in effect\n",
      "-- assignments to names always go into the innermost scope. Assignments\n",
      "do not copy data --- they just bind names to objects. The same is true\n",
      "for deletions: the statement `del x` removes the binding of `x` from the\n",
      "namespace referenced by the local scope. In fact, all operations that\n",
      "introduce new names use the local scope: in particular, import\n",
      "statements and function definitions bind the module or function name in\n",
      "the local scope. (The global statement can be used to indicate that\n",
      "particular variables live in the global scope.)\n",
      "\n",
      "A First Look at Classes\n",
      "=======================\n",
      "\n",
      "Classes introduce a little bit of new syntax, three new object types,\n",
      "and some new semantics.\n",
      "\n",
      "Class Definition Syntax\n",
      "-----------------------\n",
      "\n",
      "The simplest form of class definition looks like this:"
     ]
    },
    {
     "cell_type": "code",
     "collapsed": false,
     "input": [
      "class ClassName:\n",
      "    <statement-1>\n",
      "    .\n",
      "    .\n",
      "    .\n",
      "    <statement-N>"
     ],
     "language": "python",
     "metadata": {},
     "outputs": []
    },
    {
     "cell_type": "markdown",
     "metadata": {},
     "source": [
      "Class definitions, like function definitions (def statements) must be\n",
      "executed before they have any effect. (You could conceivably place a\n",
      "class definition in a branch of an if statement, or inside a function.)\n",
      "\n",
      "In practice, the statements inside a class definition will usually be\n",
      "function definitions, but other statements are allowed, and sometimes\n",
      "useful --- we'll come back to this later. The function definitions\n",
      "inside a class normally have a peculiar form of argument list, dictated\n",
      "by the calling conventions for methods --- again, this is explained\n",
      "later.\n",
      "\n",
      "When a class definition is entered, a new namespace is created, and used\n",
      "as the local scope --- thus, all assignments to local variables go into\n",
      "this new namespace. In particular, function definitions bind the name of\n",
      "the new function here.\n",
      "\n",
      "When a class definition is left normally (via the end), a *class object*\n",
      "is created. This is basically a wrapper around the contents of the\n",
      "namespace created by the class definition; we'll learn more about class\n",
      "objects in the next section. The original local scope (the one in effect\n",
      "just before the class definition was entered) is reinstated, and the\n",
      "class object is bound here to the class name given in the class\n",
      "definition header (ClassName in the example).\n",
      "\n",
      "Class Objects\n",
      "-------------\n",
      "\n",
      "Class objects support two kinds of operations: attribute references and\n",
      "instantiation.\n",
      "\n",
      "*Attribute references* use the standard syntax used for all attribute\n",
      "references in Python: `obj.name`. Valid attribute names are all the\n",
      "names that were in the class's namespace when the class object was\n",
      "created. So, if the class definition looked like this:"
     ]
    },
    {
     "cell_type": "code",
     "collapsed": false,
     "input": [
      "class MyClass:\n",
      "    \"\"\"A simple example class\"\"\"\n",
      "    i = 12345\n",
      "    def f(self):\n",
      "        return 'hello world'"
     ],
     "language": "python",
     "metadata": {},
     "outputs": []
    },
    {
     "cell_type": "markdown",
     "metadata": {},
     "source": [
      "then `MyClass.i` and `MyClass.f` are valid attribute references,\n",
      "returning an integer and a function object, respectively. Class\n",
      "attributes can also be assigned to, so you can change the value of\n",
      "`MyClass.i` by assignment. \\_\\_doc\\_\\_ is also a valid attribute,\n",
      "returning the docstring belonging to the class:\n",
      "`\"A simple example class\"`.\n",
      "\n",
      "Class *instantiation* uses function notation. Just pretend that the\n",
      "class object is a parameterless function that returns a new instance of\n",
      "the class. For example (assuming the above class):"
     ]
    },
    {
     "cell_type": "code",
     "collapsed": false,
     "input": [
      "x = MyClass()"
     ],
     "language": "python",
     "metadata": {},
     "outputs": []
    },
    {
     "cell_type": "markdown",
     "metadata": {},
     "source": [
      "creates a new *instance* of the class and assigns this object to the\n",
      "local variable `x`.\n",
      "\n",
      "The instantiation operation (\"calling\" a class object) creates an empty\n",
      "object. Many classes like to create objects with instances customized to\n",
      "a specific initial state. Therefore a class may define a special method\n",
      "named \\_\\_init\\_\\_, like this:"
     ]
    },
    {
     "cell_type": "code",
     "collapsed": false,
     "input": [
      "def __init__(self):\n",
      "    self.data = []"
     ],
     "language": "python",
     "metadata": {},
     "outputs": []
    },
    {
     "cell_type": "markdown",
     "metadata": {},
     "source": [
      "When a class defines an \\_\\_init\\_\\_ method, class instantiation\n",
      "automatically invokes \\_\\_init\\_\\_ for the newly-created class instance.\n",
      "So in this example, a new, initialized instance can be obtained by:"
     ]
    },
    {
     "cell_type": "code",
     "collapsed": false,
     "input": [
      "x = MyClass()"
     ],
     "language": "python",
     "metadata": {},
     "outputs": []
    },
    {
     "cell_type": "markdown",
     "metadata": {},
     "source": [
      "Of course, the \\_\\_init\\_\\_ method may have arguments for greater\n",
      "flexibility. In that case, arguments given to the class instantiation\n",
      "operator are passed on to \\_\\_init\\_\\_. For example, :"
     ]
    },
    {
     "cell_type": "code",
     "collapsed": false,
     "input": [
      ">>> class Complex:\n",
      "...     def __init__(self, realpart, imagpart):\n",
      "...         self.r = realpart\n",
      "...         self.i = imagpart\n",
      "...\n",
      ">>> x = Complex(3.0, -4.5)\n",
      ">>> x.r, x.i\n",
      "(3.0, -4.5)"
     ],
     "language": "python",
     "metadata": {},
     "outputs": []
    },
    {
     "cell_type": "markdown",
     "metadata": {},
     "source": [
      "Instance Objects\n",
      "----------------\n",
      "\n",
      "Now what can we do with instance objects? The only operations understood\n",
      "by instance objects are attribute references. There are two kinds of\n",
      "valid attribute names, data attributes and methods.\n",
      "\n",
      "*data attributes* correspond to \"instance variables\" in Smalltalk, and\n",
      "to \"data members\" in C++. Data attributes need not be declared; like\n",
      "local variables, they spring into existence when they are first assigned\n",
      "to. For example, if `x` is the instance of MyClass created above, the\n",
      "following piece of code will print the value `16`, without leaving a\n",
      "trace:"
     ]
    },
    {
     "cell_type": "code",
     "collapsed": false,
     "input": [
      "x.counter = 1\n",
      "while x.counter < 10:\n",
      "    x.counter = x.counter * 2\n",
      "print x.counter\n",
      "del x.counter"
     ],
     "language": "python",
     "metadata": {},
     "outputs": []
    },
    {
     "cell_type": "markdown",
     "metadata": {},
     "source": [
      "The other kind of instance attribute reference is a *method*. A method\n",
      "is a function that \"belongs to\" an object. (In Python, the term method\n",
      "is not unique to class instances: other object types can have methods as\n",
      "well. For example, list objects have methods called append, insert,\n",
      "remove, sort, and so on. However, in the following discussion, we'll use\n",
      "the term method exclusively to mean methods of class instance objects,\n",
      "unless explicitly stated otherwise.)\n",
      "\n",
      "Valid method names of an instance object depend on its class. By\n",
      "definition, all attributes of a class that are function objects define\n",
      "corresponding methods of its instances. So in our example, `x.f` is a\n",
      "valid method reference, since `MyClass.f` is a function, but `x.i` is\n",
      "not, since `MyClass.i` is not. But `x.f` is not the same thing as\n",
      "`MyClass.f` --- it is a *method object*, not a function object.\n",
      "\n",
      "Method Objects\n",
      "--------------\n",
      "\n",
      "Usually, a method is called right after it is bound:"
     ]
    },
    {
     "cell_type": "code",
     "collapsed": false,
     "input": [
      "x.f()"
     ],
     "language": "python",
     "metadata": {},
     "outputs": []
    },
    {
     "cell_type": "markdown",
     "metadata": {},
     "source": [
      "In the MyClass example, this will return the string `'hello world'`.\n",
      "However, it is not necessary to call a method right away: `x.f` is a\n",
      "method object, and can be stored away and called at a later time. For\n",
      "example:"
     ]
    },
    {
     "cell_type": "code",
     "collapsed": false,
     "input": [
      "xf = x.f\n",
      "while True:\n",
      "    print xf()"
     ],
     "language": "python",
     "metadata": {},
     "outputs": []
    },
    {
     "cell_type": "markdown",
     "metadata": {},
     "source": [
      "will continue to print `hello world` until the end of time.\n",
      "\n",
      "What exactly happens when a method is called? You may have noticed that\n",
      "`x.f()` was called without an argument above, even though the function\n",
      "definition for f specified an argument. What happened to the argument?\n",
      "Surely Python raises an exception when a function that requires an\n",
      "argument is called without any --- even if the argument isn't actually\n",
      "used...\n",
      "\n",
      "Actually, you may have guessed the answer: the special thing about\n",
      "methods is that the object is passed as the first argument of the\n",
      "function. In our example, the call `x.f()` is exactly equivalent to\n",
      "`MyClass.f(x)`. In general, calling a method with a list of *n*\n",
      "arguments is equivalent to calling the corresponding function with an\n",
      "argument list that is created by inserting the method's object before\n",
      "the first argument.\n",
      "\n",
      "If you still don't understand how methods work, a look at the\n",
      "implementation can perhaps clarify matters. When an instance attribute\n",
      "is referenced that isn't a data attribute, its class is searched. If the\n",
      "name denotes a valid class attribute that is a function object, a method\n",
      "object is created by packing (pointers to) the instance object and the\n",
      "function object just found together in an abstract object: this is the\n",
      "method object. When the method object is called with an argument list, a\n",
      "new argument list is constructed from the instance object and the\n",
      "argument list, and the function object is called with this new argument\n",
      "list.\n",
      "\n",
      "Random Remarks\n",
      "==============\n",
      "\n",
      "Data attributes override method attributes with the same name; to avoid\n",
      "accidental name conflicts, which may cause hard-to-find bugs in large\n",
      "programs, it is wise to use some kind of convention that minimizes the\n",
      "chance of conflicts. Possible conventions include capitalizing method\n",
      "names, prefixing data attribute names with a small unique string\n",
      "(perhaps just an underscore), or using verbs for methods and nouns for\n",
      "data attributes.\n",
      "\n",
      "Data attributes may be referenced by methods as well as by ordinary\n",
      "users (\"clients\") of an object. In other words, classes are not usable\n",
      "to implement pure abstract data types. In fact, nothing in Python makes\n",
      "it possible to enforce data hiding --- it is all based upon convention.\n",
      "(On the other hand, the Python implementation, written in C, can\n",
      "completely hide implementation details and control access to an object\n",
      "if necessary; this can be used by extensions to Python written in C.)\n",
      "\n",
      "Clients should use data attributes with care --- clients may mess up\n",
      "invariants maintained by the methods by stamping on their data\n",
      "attributes. Note that clients may add data attributes of their own to an\n",
      "instance object without affecting the validity of the methods, as long\n",
      "as name conflicts are avoided ---again, a naming convention can save a\n",
      "lot of headaches here.\n",
      "\n",
      "There is no shorthand for referencing data attributes (or other\n",
      "methods!) from within methods. I find that this actually increases the\n",
      "readability of methods: there is no chance of confusing local variables\n",
      "and instance variables when glancing through a method.\n",
      "\n",
      "Often, the first argument of a method is called `self`. This is nothing\n",
      "more than a convention: the name `self` has absolutely no special\n",
      "meaning to Python. Note, however, that by not following the convention\n",
      "your code may be less readable to other Python programmers, and it is\n",
      "also conceivable that a *class browser* program might be written that\n",
      "relies upon such a convention.\n",
      "\n",
      "Any function object that is a class attribute defines a method for\n",
      "instances of that class. It is not necessary that the function\n",
      "definition is textually enclosed in the class definition: assigning a\n",
      "function object to a local variable in the class is also ok. For\n",
      "example:"
     ]
    },
    {
     "cell_type": "code",
     "collapsed": false,
     "input": [
      "# Function defined outside the class\n",
      "def f1(self, x, y):\n",
      "    return min(x, x+y)"
     ],
     "language": "python",
     "metadata": {},
     "outputs": []
    },
    {
     "cell_type": "code",
     "collapsed": false,
     "input": [
      "class C:\n",
      "    f = f1\n",
      "    def g(self):\n",
      "        return 'hello world'\n",
      "    h = g"
     ],
     "language": "python",
     "metadata": {},
     "outputs": []
    },
    {
     "cell_type": "markdown",
     "metadata": {},
     "source": [
      "Now `f`, `g` and `h` are all attributes of class C that refer to\n",
      "function objects, and consequently they are all methods of instances of\n",
      "C --- `h` being exactly equivalent to `g`. Note that this practice\n",
      "usually only serves to confuse the reader of a program.\n",
      "\n",
      "Methods may call other methods by using method attributes of the `self`\n",
      "argument:"
     ]
    },
    {
     "cell_type": "code",
     "collapsed": false,
     "input": [
      "class Bag:\n",
      "    def __init__(self):\n",
      "        self.data = []\n",
      "    def add(self, x):\n",
      "        self.data.append(x)\n",
      "    def addtwice(self, x):\n",
      "        self.add(x)\n",
      "        self.add(x)"
     ],
     "language": "python",
     "metadata": {},
     "outputs": []
    },
    {
     "cell_type": "markdown",
     "metadata": {},
     "source": [
      "Methods may reference global names in the same way as ordinary\n",
      "functions. The global scope associated with a method is the module\n",
      "containing its definition. (A class is never used as a global scope.)\n",
      "While one rarely encounters a good reason for using global data in a\n",
      "method, there are many legitimate uses of the global scope: for one\n",
      "thing, functions and modules imported into the global scope can be used\n",
      "by methods, as well as functions and classes defined in it. Usually, the\n",
      "class containing the method is itself defined in this global scope, and\n",
      "in the next section we'll find some good reasons why a method would want\n",
      "to reference its own class.\n",
      "\n",
      "Each value is an object, and therefore has a *class* (also called its\n",
      "*type*). It is stored as `object.__class__`.\n",
      "\n",
      "Inheritance\n",
      "===========\n",
      "\n",
      "Of course, a language feature would not be worthy of the name \"class\"\n",
      "without supporting inheritance. The syntax for a derived class\n",
      "definition looks like this:"
     ]
    },
    {
     "cell_type": "code",
     "collapsed": false,
     "input": [
      "class DerivedClassName(BaseClassName):\n",
      "    <statement-1>\n",
      "    .\n",
      "    .\n",
      "    .\n",
      "    <statement-N>"
     ],
     "language": "python",
     "metadata": {},
     "outputs": []
    },
    {
     "cell_type": "markdown",
     "metadata": {},
     "source": [
      "The name BaseClassName must be defined in a scope containing the derived\n",
      "class definition. In place of a base class name, other arbitrary\n",
      "expressions are also allowed. This can be useful, for example, when the\n",
      "base class is defined in another module:"
     ]
    },
    {
     "cell_type": "code",
     "collapsed": false,
     "input": [
      "class DerivedClassName(modname.BaseClassName):"
     ],
     "language": "python",
     "metadata": {},
     "outputs": []
    },
    {
     "cell_type": "markdown",
     "metadata": {},
     "source": [
      "Execution of a derived class definition proceeds the same as for a base\n",
      "class. When the class object is constructed, the base class is\n",
      "remembered. This is used for resolving attribute references: if a\n",
      "requested attribute is not found in the class, the search proceeds to\n",
      "look in the base class. This rule is applied recursively if the base\n",
      "class itself is derived from some other class.\n",
      "\n",
      "There's nothing special about instantiation of derived classes:\n",
      "`DerivedClassName()` creates a new instance of the class. Method\n",
      "references are resolved as follows: the corresponding class attribute is\n",
      "searched, descending down the chain of base classes if necessary, and\n",
      "the method reference is valid if this yields a function object.\n",
      "\n",
      "Derived classes may override methods of their base classes. Because\n",
      "methods have no special privileges when calling other methods of the\n",
      "same object, a method of a base class that calls another method defined\n",
      "in the same base class may end up calling a method of a derived class\n",
      "that overrides it. (For C++ programmers: all methods in Python are\n",
      "effectively `virtual`.)\n",
      "\n",
      "An overriding method in a derived class may in fact want to extend\n",
      "rather than simply replace the base class method of the same name. There\n",
      "is a simple way to call the base class method directly: just call\n",
      "`BaseClassName.methodname(self, arguments)`. This is occasionally useful\n",
      "to clients as well. (Note that this only works if the base class is\n",
      "accessible as `BaseClassName` in the global scope.)\n",
      "\n",
      "Python has two built-in functions that work with inheritance:\n",
      "\n",
      "-   Use isinstance to check an instance's type: `isinstance(obj, int)`"
     ]
    },
    {
     "cell_type": "code",
     "collapsed": false,
     "input": [
      "will be `True` only if `obj.__class__` is int or some class derived\n",
      "from int."
     ],
     "language": "python",
     "metadata": {},
     "outputs": []
    },
    {
     "cell_type": "markdown",
     "metadata": {},
     "source": [
      "-   Use issubclass to check class inheritance: `issubclass(bool, int)`"
     ]
    },
    {
     "cell_type": "code",
     "collapsed": false,
     "input": [
      "is `True` since bool is a subclass of int. However,\n",
      "`issubclass(unicode, str)` is `False` since unicode is not a\n",
      "subclass of str (they only share a common ancestor, basestring)."
     ],
     "language": "python",
     "metadata": {},
     "outputs": []
    },
    {
     "cell_type": "markdown",
     "metadata": {},
     "source": [
      "Multiple Inheritance\n",
      "--------------------\n",
      "\n",
      "Python supports a limited form of multiple inheritance as well. A class\n",
      "definition with multiple base classes looks like this:"
     ]
    },
    {
     "cell_type": "code",
     "collapsed": false,
     "input": [
      "class DerivedClassName(Base1, Base2, Base3):\n",
      "    <statement-1>\n",
      "    .\n",
      "    .\n",
      "    .\n",
      "    <statement-N>"
     ],
     "language": "python",
     "metadata": {},
     "outputs": []
    },
    {
     "cell_type": "markdown",
     "metadata": {},
     "source": [
      "For old-style classes, the only rule is depth-first, left-to-right.\n",
      "Thus, if an attribute is not found in DerivedClassName, it is searched\n",
      "in Base1, then (recursively) in the base classes of Base1, and only if\n",
      "it is not found there, it is searched in Base2, and so on.\n",
      "\n",
      "(To some people breadth first --- searching Base2 and Base3 before the\n",
      "base classes of Base1 --- looks more natural. However, this would\n",
      "require you to know whether a particular attribute of Base1 is actually\n",
      "defined in Base1 or in one of its base classes before you can figure out\n",
      "the consequences of a name conflict with an attribute of Base2. The\n",
      "depth-first rule makes no differences between direct and inherited\n",
      "attributes of Base1.)\n",
      "\n",
      "For new-style classes, the method resolution order changes dynamically\n",
      "to support cooperative calls to super. This approach is known in some\n",
      "other multiple-inheritance languages as call-next-method and is more\n",
      "powerful than the super call found in single-inheritance languages.\n",
      "\n",
      "With new-style classes, dynamic ordering is necessary because all cases\n",
      "of multiple inheritance exhibit one or more diamond relationships (where\n",
      "at least one of the parent classes can be accessed through multiple\n",
      "paths from the bottommost class). For example, all new-style classes\n",
      "inherit from object, so any case of multiple inheritance provides more\n",
      "than one path to reach object. To keep the base classes from being\n",
      "accessed more than once, the dynamic algorithm linearizes the search\n",
      "order in a way that preserves the left-to-right ordering specified in\n",
      "each class, that calls each parent only once, and that is monotonic\n",
      "(meaning that a class can be subclassed without affecting the precedence\n",
      "order of its parents). Taken together, these properties make it possible\n",
      "to design reliable and extensible classes with multiple inheritance. For\n",
      "more detail, see <http://www.python.org/download/releases/2.3/mro/>.\n",
      "\n",
      "Private Variables and Class-local References\n",
      "============================================\n",
      "\n",
      "\"Private\" instance variables that cannot be accessed except from inside\n",
      "an object don't exist in Python. However, there is a convention that is\n",
      "followed by most Python code: a name prefixed with an underscore (e.g.\n",
      "`_spam`) should be treated as a non-public part of the API (whether it\n",
      "is a function, a method or a data member). It should be considered an\n",
      "implementation detail and subject to change without notice.\n",
      "\n",
      "Since there is a valid use-case for class-private members (namely to\n",
      "avoid name clashes of names with names defined by subclasses), there is\n",
      "limited support for such a mechanism, called name mangling. Any\n",
      "identifier of the form `__spam` (at least two leading underscores, at\n",
      "most one trailing underscore) is textually replaced with\n",
      "`_classname__spam`, where `classname` is the current class name with\n",
      "leading underscore(s) stripped. This mangling is done without regard to\n",
      "the syntactic position of the identifier, as long as it occurs within\n",
      "the definition of a class.\n",
      "\n",
      "Name mangling is helpful for letting subclasses override methods without\n",
      "breaking intraclass method calls. For example:"
     ]
    },
    {
     "cell_type": "code",
     "collapsed": false,
     "input": [
      "class Mapping:\n",
      "    def __init__(self, iterable):\n",
      "        self.items_list = []\n",
      "        self.__update(iterable)"
     ],
     "language": "python",
     "metadata": {},
     "outputs": []
    },
    {
     "cell_type": "code",
     "collapsed": false,
     "input": [
      "def update(self, iterable):\n",
      "    for item in iterable:\n",
      "        self.items_list.append(item)"
     ],
     "language": "python",
     "metadata": {},
     "outputs": []
    },
    {
     "cell_type": "code",
     "collapsed": false,
     "input": [
      "__update = update   # private copy of original update() method"
     ],
     "language": "python",
     "metadata": {},
     "outputs": []
    },
    {
     "cell_type": "code",
     "collapsed": false,
     "input": [
      "class MappingSubclass(Mapping):"
     ],
     "language": "python",
     "metadata": {},
     "outputs": []
    },
    {
     "cell_type": "code",
     "collapsed": false,
     "input": [
      "def update(self, keys, values):\n",
      "    # provides new signature for update()\n",
      "    # but does not break __init__()\n",
      "    for item in zip(keys, values):\n",
      "        self.items_list.append(item)"
     ],
     "language": "python",
     "metadata": {},
     "outputs": []
    },
    {
     "cell_type": "markdown",
     "metadata": {},
     "source": [
      "Note that the mangling rules are designed mostly to avoid accidents; it\n",
      "still is possible to access or modify a variable that is considered\n",
      "private. This can even be useful in special circumstances, such as in\n",
      "the debugger.\n",
      "\n",
      "Notice that code passed to `exec`, `eval()` or `execfile()` does not\n",
      "consider the classname of the invoking class to be the current class;\n",
      "this is similar to the effect of the `global` statement, the effect of\n",
      "which is likewise restricted to code that is byte-compiled together. The\n",
      "same restriction applies to `getattr()`, `setattr()` and `delattr()`, as\n",
      "well as when referencing `__dict__` directly.\n",
      "\n",
      "Odds and Ends\n",
      "=============\n",
      "\n",
      "Sometimes it is useful to have a data type similar to the Pascal\n",
      "\"record\" or C \"struct\", bundling together a few named data items. An\n",
      "empty class definition will do nicely:"
     ]
    },
    {
     "cell_type": "code",
     "collapsed": false,
     "input": [
      "class Employee:\n",
      "    pass"
     ],
     "language": "python",
     "metadata": {},
     "outputs": []
    },
    {
     "cell_type": "code",
     "collapsed": false,
     "input": [
      "john = Employee() # Create an empty employee record"
     ],
     "language": "python",
     "metadata": {},
     "outputs": []
    },
    {
     "cell_type": "code",
     "collapsed": false,
     "input": [
      "# Fill the fields of the record\n",
      "john.name = 'John Doe'\n",
      "john.dept = 'computer lab'\n",
      "john.salary = 1000"
     ],
     "language": "python",
     "metadata": {},
     "outputs": []
    },
    {
     "cell_type": "markdown",
     "metadata": {},
     "source": [
      "A piece of Python code that expects a particular abstract data type can\n",
      "often be passed a class that emulates the methods of that data type\n",
      "instead. For instance, if you have a function that formats some data\n",
      "from a file object, you can define a class with methods read and\n",
      "!readline that get the data from a string buffer instead, and pass it as\n",
      "an argument.\n",
      "\n",
      "Instance method objects have attributes, too: `m.im_self` is the\n",
      "instance object with the method m, and `m.im_func` is the function\n",
      "object corresponding to the method.\n",
      "\n",
      "Exceptions Are Classes Too\n",
      "==========================\n",
      "\n",
      "User-defined exceptions are identified by classes as well. Using this\n",
      "mechanism it is possible to create extensible hierarchies of exceptions.\n",
      "\n",
      "There are two new valid (semantic) forms for the raise statement:"
     ]
    },
    {
     "cell_type": "code",
     "collapsed": false,
     "input": [
      "raise Class, instance"
     ],
     "language": "python",
     "metadata": {},
     "outputs": []
    },
    {
     "cell_type": "code",
     "collapsed": false,
     "input": [
      "raise instance"
     ],
     "language": "python",
     "metadata": {},
     "outputs": []
    },
    {
     "cell_type": "markdown",
     "metadata": {},
     "source": [
      "In the first form, `instance` must be an instance of Class or of a class\n",
      "derived from it. The second form is a shorthand for:"
     ]
    },
    {
     "cell_type": "code",
     "collapsed": false,
     "input": [
      "raise instance.__class__, instance"
     ],
     "language": "python",
     "metadata": {},
     "outputs": []
    },
    {
     "cell_type": "markdown",
     "metadata": {},
     "source": [
      "A class in an except clause is compatible with an exception if it is the\n",
      "same class or a base class thereof (but not the other way around --- an\n",
      "except clause listing a derived class is not compatible with a base\n",
      "class). For example, the following code will print B, C, D in that\n",
      "order:"
     ]
    },
    {
     "cell_type": "code",
     "collapsed": false,
     "input": [
      "class B:\n",
      "    pass\n",
      "class C(B):\n",
      "    pass\n",
      "class D(C):\n",
      "    pass"
     ],
     "language": "python",
     "metadata": {},
     "outputs": []
    },
    {
     "cell_type": "code",
     "collapsed": false,
     "input": [
      "for c in [B, C, D]:\n",
      "    try:\n",
      "        raise c()\n",
      "    except D:\n",
      "        print \"D\"\n",
      "    except C:\n",
      "        print \"C\"\n",
      "    except B:\n",
      "        print \"B\""
     ],
     "language": "python",
     "metadata": {},
     "outputs": []
    },
    {
     "cell_type": "markdown",
     "metadata": {},
     "source": [
      "Note that if the except clauses were reversed (with `except B` first),\n",
      "it would have printed B, B, B --- the first matching except clause is\n",
      "triggered.\n",
      "\n",
      "When an error message is printed for an unhandled exception, the\n",
      "exception's class name is printed, then a colon and a space, and finally\n",
      "the instance converted to a string using the built-in function str.\n",
      "\n",
      "Iterators\n",
      "=========\n",
      "\n",
      "By now you have probably noticed that most container objects can be\n",
      "looped over using a for statement:"
     ]
    },
    {
     "cell_type": "code",
     "collapsed": false,
     "input": [
      "for element in [1, 2, 3]:\n",
      "    print element\n",
      "for element in (1, 2, 3):\n",
      "    print element\n",
      "for key in {'one':1, 'two':2}:\n",
      "    print key\n",
      "for char in \"123\":\n",
      "    print char\n",
      "for line in open(\"myfile.txt\"):\n",
      "    print line,"
     ],
     "language": "python",
     "metadata": {},
     "outputs": []
    },
    {
     "cell_type": "markdown",
     "metadata": {},
     "source": [
      "This style of access is clear, concise, and convenient. The use of\n",
      "iterators pervades and unifies Python. Behind the scenes, the for\n",
      "statement calls iter on the container object. The function returns an\n",
      "iterator object that defines the method \\~iterator.next which accesses\n",
      "elements in the container one at a time. When there are no more\n",
      "elements, \\~iterator.next raises a StopIteration exception which tells\n",
      "the for loop to terminate. This example shows how it all works:"
     ]
    },
    {
     "cell_type": "code",
     "collapsed": false,
     "input": [
      ">>> s = 'abc'\n",
      ">>> it = iter(s)\n",
      ">>> it\n",
      "<iterator object at 0x00A1DB50>\n",
      ">>> it.next()\n",
      "'a'\n",
      ">>> it.next()\n",
      "'b'\n",
      ">>> it.next()\n",
      "'c'\n",
      ">>> it.next()\n",
      "Traceback (most recent call last):\n",
      "  File \"<stdin>\", line 1, in ?\n",
      "    it.next()\n",
      "StopIteration"
     ],
     "language": "python",
     "metadata": {},
     "outputs": []
    },
    {
     "cell_type": "markdown",
     "metadata": {},
     "source": [
      "Having seen the mechanics behind the iterator protocol, it is easy to\n",
      "add iterator behavior to your classes. Define an \\_\\_iter\\_\\_ method\n",
      "which returns an object with a next method. If the class defines next,\n",
      "then \\_\\_iter\\_\\_ can just return `self`:"
     ]
    },
    {
     "cell_type": "code",
     "collapsed": false,
     "input": [
      "class Reverse:\n",
      "    \"\"\"Iterator for looping over a sequence backwards.\"\"\"\n",
      "    def __init__(self, data):\n",
      "        self.data = data\n",
      "        self.index = len(data)\n",
      "    def __iter__(self):\n",
      "        return self\n",
      "    def next(self):\n",
      "        if self.index == 0:\n",
      "            raise StopIteration\n",
      "        self.index = self.index - 1\n",
      "        return self.data[self.index]"
     ],
     "language": "python",
     "metadata": {},
     "outputs": []
    },
    {
     "cell_type": "code",
     "collapsed": false,
     "input": [
      ">>> rev = Reverse('spam')\n",
      ">>> iter(rev)\n",
      "<__main__.Reverse object at 0x00A1DB50>\n",
      ">>> for char in rev:\n",
      "...     print char\n",
      "...\n",
      "m\n",
      "a\n",
      "p\n",
      "s"
     ],
     "language": "python",
     "metadata": {},
     "outputs": []
    },
    {
     "cell_type": "markdown",
     "metadata": {},
     "source": [
      "Generators\n",
      "==========\n",
      "\n",
      "Generators are a simple and powerful tool for creating iterators. They\n",
      "are written like regular functions but use the yield statement whenever\n",
      "they want to return data. Each time next is called, the generator\n",
      "resumes where it left-off (it remembers all the data values and which\n",
      "statement was last executed). An example shows that generators can be\n",
      "trivially easy to create:"
     ]
    },
    {
     "cell_type": "code",
     "collapsed": false,
     "input": [
      "def reverse(data):\n",
      "    for index in range(len(data)-1, -1, -1):\n",
      "        yield data[index]"
     ],
     "language": "python",
     "metadata": {},
     "outputs": []
    },
    {
     "cell_type": "code",
     "collapsed": false,
     "input": [
      ">>> for char in reverse('golf'):\n",
      "...     print char\n",
      "...\n",
      "f\n",
      "l\n",
      "o\n",
      "g"
     ],
     "language": "python",
     "metadata": {},
     "outputs": []
    },
    {
     "cell_type": "markdown",
     "metadata": {},
     "source": [
      "Anything that can be done with generators can also be done with class\n",
      "based iterators as described in the previous section. What makes\n",
      "generators so compact is that the \\_\\_iter\\_\\_ and next methods are\n",
      "created automatically.\n",
      "\n",
      "Another key feature is that the local variables and execution state are\n",
      "automatically saved between calls. This made the function easier to\n",
      "write and much more clear than an approach using instance variables like\n",
      "`self.index` and `self.data`.\n",
      "\n",
      "In addition to automatic method creation and saving program state, when\n",
      "generators terminate, they automatically raise StopIteration. In\n",
      "combination, these features make it easy to create iterators with no\n",
      "more effort than writing a regular function.\n",
      "\n",
      "Generator Expressions\n",
      "=====================\n",
      "\n",
      "Some simple generators can be coded succinctly as expressions using a\n",
      "syntax similar to list comprehensions but with parentheses instead of\n",
      "brackets. These expressions are designed for situations where the\n",
      "generator is used right away by an enclosing function. Generator\n",
      "expressions are more compact but less versatile than full generator\n",
      "definitions and tend to be more memory friendly than equivalent list\n",
      "comprehensions.\n",
      "\n",
      "Examples:"
     ]
    },
    {
     "cell_type": "code",
     "collapsed": false,
     "input": [
      ">>> sum(i*i for i in range(10))                 # sum of squares\n",
      "285"
     ],
     "language": "python",
     "metadata": {},
     "outputs": []
    },
    {
     "cell_type": "code",
     "collapsed": false,
     "input": [
      ">>> xvec = [10, 20, 30]\n",
      ">>> yvec = [7, 5, 3]\n",
      ">>> sum(x*y for x,y in zip(xvec, yvec))         # dot product\n",
      "260"
     ],
     "language": "python",
     "metadata": {},
     "outputs": []
    },
    {
     "cell_type": "code",
     "collapsed": false,
     "input": [
      ">>> from math import pi, sin\n",
      ">>> sine_table = dict((x, sin(x*pi/180)) for x in range(0, 91))"
     ],
     "language": "python",
     "metadata": {},
     "outputs": []
    },
    {
     "cell_type": "code",
     "collapsed": false,
     "input": [
      ">>> unique_words = set(word  for line in page  for word in line.split())"
     ],
     "language": "python",
     "metadata": {},
     "outputs": []
    },
    {
     "cell_type": "code",
     "collapsed": false,
     "input": [
      ">>> valedictorian = max((student.gpa, student.name) for student in graduates)"
     ],
     "language": "python",
     "metadata": {},
     "outputs": []
    },
    {
     "cell_type": "code",
     "collapsed": false,
     "input": [
      ">>> data = 'golf'\n",
      ">>> list(data[i] for i in range(len(data)-1,-1,-1))\n",
      "['f', 'l', 'o', 'g']"
     ],
     "language": "python",
     "metadata": {},
     "outputs": []
    },
    {
     "cell_type": "markdown",
     "metadata": {},
     "source": [
      "**Footnotes**\n",
      "\n",
      "[^1]: Except for one thing. Module objects have a secret read-only"
     ]
    },
    {
     "cell_type": "code",
     "collapsed": false,
     "input": [
      "attribute called \\_\\_dict\\_\\_ which returns the dictionary used to\n",
      "implement the module's namespace; the name \\_\\_dict\\_\\_ is an\n",
      "attribute but not a global name. Obviously, using this violates the\n",
      "abstraction of namespace implementation, and should be restricted to\n",
      "things like post-mortem debuggers."
     ],
     "language": "python",
     "metadata": {},
     "outputs": []
    }
   ],
   "metadata": {}
  }
 ]
}