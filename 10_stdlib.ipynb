{
 "metadata": {},
 "nbformat": 3,
 "nbformat_minor": 0,
 "worksheets": [
  {
   "cells": [
    {
     "cell_type": "markdown",
     "metadata": {},
     "source": [
      "% Brief Tour of the Standard Library\n",
      "% \n",
      "% \n",
      "\n",
      "Operating System Interface\n",
      "==========================\n",
      "\n",
      "The os module provides dozens of functions for interacting with the\n",
      "operating system:"
     ]
    },
    {
     "cell_type": "code",
     "collapsed": false,
     "input": [
      ">>> import os\n",
      ">>> os.getcwd()      # Return the current working directory\n",
      "'C:\\\\Python26'\n",
      ">>> os.chdir('/server/accesslogs')   # Change current working directory\n",
      ">>> os.system('mkdir today')   # Run the command mkdir in the system shell\n",
      "0"
     ],
     "language": "python",
     "metadata": {},
     "outputs": []
    },
    {
     "cell_type": "markdown",
     "metadata": {},
     "source": [
      "Be sure to use the `import os` style instead of `from os import *`. This\n",
      "will keep os.open from shadowing the built-in open function which\n",
      "operates much differently.\n",
      "\n",
      "The built-in dir and help functions are useful as interactive aids for\n",
      "working with large modules like os:"
     ]
    },
    {
     "cell_type": "code",
     "collapsed": false,
     "input": [
      ">>> import os\n",
      ">>> dir(os)\n",
      "<returns a list of all module functions>\n",
      ">>> help(os)\n",
      "<returns an extensive manual page created from the module's docstrings>"
     ],
     "language": "python",
     "metadata": {},
     "outputs": []
    },
    {
     "cell_type": "markdown",
     "metadata": {},
     "source": [
      "For daily file and directory management tasks, the shutil module\n",
      "provides a higher level interface that is easier to use:"
     ]
    },
    {
     "cell_type": "code",
     "collapsed": false,
     "input": [
      ">>> import shutil\n",
      ">>> shutil.copyfile('data.db', 'archive.db')\n",
      ">>> shutil.move('/build/executables', 'installdir')"
     ],
     "language": "python",
     "metadata": {},
     "outputs": []
    },
    {
     "cell_type": "markdown",
     "metadata": {},
     "source": [
      "File Wildcards\n",
      "==============\n",
      "\n",
      "The glob module provides a function for making file lists from directory\n",
      "wildcard searches:"
     ]
    },
    {
     "cell_type": "code",
     "collapsed": false,
     "input": [
      ">>> import glob\n",
      ">>> glob.glob('*.py')\n",
      "['primes.py', 'random.py', 'quote.py']"
     ],
     "language": "python",
     "metadata": {},
     "outputs": []
    },
    {
     "cell_type": "markdown",
     "metadata": {},
     "source": [
      "Command Line Arguments\n",
      "======================\n",
      "\n",
      "Common utility scripts often need to process command line arguments.\n",
      "These arguments are stored in the sys module's *argv* attribute as a\n",
      "list. For instance the following output results from running\n",
      "`python demo.py one two three` at the command line:"
     ]
    },
    {
     "cell_type": "code",
     "collapsed": false,
     "input": [
      ">>> import sys\n",
      ">>> print sys.argv\n",
      "['demo.py', 'one', 'two', 'three']"
     ],
     "language": "python",
     "metadata": {},
     "outputs": []
    },
    {
     "cell_type": "markdown",
     "metadata": {},
     "source": [
      "The getopt module processes *sys.argv* using the conventions of the Unix\n",
      "getopt function. More powerful and flexible command line processing is\n",
      "provided by the argparse module.\n",
      "\n",
      "Error Output Redirection and Program Termination\n",
      "================================================\n",
      "\n",
      "The sys module also has attributes for *stdin*, *stdout*, and *stderr*.\n",
      "The latter is useful for emitting warnings and error messages to make\n",
      "them visible even when *stdout* has been redirected:"
     ]
    },
    {
     "cell_type": "code",
     "collapsed": false,
     "input": [
      ">>> sys.stderr.write('Warning, log file not found starting a new one\\n')\n",
      "Warning, log file not found starting a new one"
     ],
     "language": "python",
     "metadata": {},
     "outputs": []
    },
    {
     "cell_type": "markdown",
     "metadata": {},
     "source": [
      "The most direct way to terminate a script is to use `sys.exit()`.\n",
      "\n",
      "String Pattern Matching\n",
      "=======================\n",
      "\n",
      "The re module provides regular expression tools for advanced string\n",
      "processing. For complex matching and manipulation, regular expressions\n",
      "offer succinct, optimized solutions:"
     ]
    },
    {
     "cell_type": "code",
     "collapsed": false,
     "input": [
      ">>> import re\n",
      ">>> re.findall(r'\\bf[a-z]*', 'which foot or hand fell fastest')\n",
      "['foot', 'fell', 'fastest']\n",
      ">>> re.sub(r'(\\b[a-z]+) \\1', r'\\1', 'cat in the the hat')\n",
      "'cat in the hat'"
     ],
     "language": "python",
     "metadata": {},
     "outputs": []
    },
    {
     "cell_type": "markdown",
     "metadata": {},
     "source": [
      "When only simple capabilities are needed, string methods are preferred\n",
      "because they are easier to read and debug:"
     ]
    },
    {
     "cell_type": "code",
     "collapsed": false,
     "input": [
      ">>> 'tea for too'.replace('too', 'two')\n",
      "'tea for two'"
     ],
     "language": "python",
     "metadata": {},
     "outputs": []
    },
    {
     "cell_type": "markdown",
     "metadata": {},
     "source": [
      "Mathematics\n",
      "===========\n",
      "\n",
      "The math module gives access to the underlying C library functions for\n",
      "floating point math:"
     ]
    },
    {
     "cell_type": "code",
     "collapsed": false,
     "input": [
      ">>> import math\n",
      ">>> math.cos(math.pi / 4.0)\n",
      "0.70710678118654757\n",
      ">>> math.log(1024, 2)\n",
      "10.0"
     ],
     "language": "python",
     "metadata": {},
     "outputs": []
    },
    {
     "cell_type": "markdown",
     "metadata": {},
     "source": [
      "The random module provides tools for making random selections:"
     ]
    },
    {
     "cell_type": "code",
     "collapsed": false,
     "input": [
      ">>> import random\n",
      ">>> random.choice(['apple', 'pear', 'banana'])\n",
      "'apple'\n",
      ">>> random.sample(xrange(100), 10)   # sampling without replacement\n",
      "[30, 83, 16, 4, 8, 81, 41, 50, 18, 33]\n",
      ">>> random.random()    # random float\n",
      "0.17970987693706186\n",
      ">>> random.randrange(6)    # random integer chosen from range(6)\n",
      "4"
     ],
     "language": "python",
     "metadata": {},
     "outputs": []
    },
    {
     "cell_type": "markdown",
     "metadata": {},
     "source": [
      "Internet Access\n",
      "===============\n",
      "\n",
      "There are a number of modules for accessing the internet and processing\n",
      "internet protocols. Two of the simplest are urllib2 for retrieving data\n",
      "from URLs and smtplib for sending mail:"
     ]
    },
    {
     "cell_type": "code",
     "collapsed": false,
     "input": [
      ">>> import urllib2\n",
      ">>> for line in urllib2.urlopen('http://tycho.usno.navy.mil/cgi-bin/timer.pl'):\n",
      "...     if 'EST' in line or 'EDT' in line:  # look for Eastern Time\n",
      "...         print line"
     ],
     "language": "python",
     "metadata": {},
     "outputs": []
    },
    {
     "cell_type": "code",
     "collapsed": false,
     "input": [
      "<BR>Nov. 25, 09:43:32 PM EST"
     ],
     "language": "python",
     "metadata": {},
     "outputs": []
    },
    {
     "cell_type": "code",
     "collapsed": false,
     "input": [
      ">>> import smtplib\n",
      ">>> server = smtplib.SMTP('localhost')\n",
      ">>> server.sendmail('soothsayer@example.org', 'jcaesar@example.org',\n",
      "... \"\"\"To: jcaesar@example.org\n",
      "... From: soothsayer@example.org\n",
      "...\n",
      "... Beware the Ides of March.\n",
      "... \"\"\")\n",
      ">>> server.quit()"
     ],
     "language": "python",
     "metadata": {},
     "outputs": []
    },
    {
     "cell_type": "markdown",
     "metadata": {},
     "source": [
      "(Note that the second example needs a mailserver running on localhost.)\n",
      "\n",
      "Dates and Times\n",
      "===============\n",
      "\n",
      "The datetime module supplies classes for manipulating dates and times in\n",
      "both simple and complex ways. While date and time arithmetic is\n",
      "supported, the focus of the implementation is on efficient member\n",
      "extraction for output formatting and manipulation. The module also\n",
      "supports objects that are timezone aware. :"
     ]
    },
    {
     "cell_type": "code",
     "collapsed": false,
     "input": [
      ">>> # dates are easily constructed and formatted\n",
      ">>> from datetime import date\n",
      ">>> now = date.today()\n",
      ">>> now\n",
      "datetime.date(2003, 12, 2)\n",
      ">>> now.strftime(\"%m-%d-%y. %d %b %Y is a %A on the %d day of %B.\")\n",
      "'12-02-03. 02 Dec 2003 is a Tuesday on the 02 day of December.'"
     ],
     "language": "python",
     "metadata": {},
     "outputs": []
    },
    {
     "cell_type": "code",
     "collapsed": false,
     "input": [
      ">>> # dates support calendar arithmetic\n",
      ">>> birthday = date(1964, 7, 31)\n",
      ">>> age = now - birthday\n",
      ">>> age.days\n",
      "14368"
     ],
     "language": "python",
     "metadata": {},
     "outputs": []
    },
    {
     "cell_type": "markdown",
     "metadata": {},
     "source": [
      "Data Compression\n",
      "================\n",
      "\n",
      "Common data archiving and compression formats are directly supported by\n",
      "modules including: zlib, gzip, bz2, zipfile and tarfile. :"
     ]
    },
    {
     "cell_type": "code",
     "collapsed": false,
     "input": [
      ">>> import zlib\n",
      ">>> s = 'witch which has which witches wrist watch'\n",
      ">>> len(s)\n",
      "41\n",
      ">>> t = zlib.compress(s)\n",
      ">>> len(t)\n",
      "37\n",
      ">>> zlib.decompress(t)\n",
      "'witch which has which witches wrist watch'\n",
      ">>> zlib.crc32(s)\n",
      "226805979"
     ],
     "language": "python",
     "metadata": {},
     "outputs": []
    },
    {
     "cell_type": "markdown",
     "metadata": {},
     "source": [
      "Performance Measurement\n",
      "=======================\n",
      "\n",
      "Some Python users develop a deep interest in knowing the relative\n",
      "performance of different approaches to the same problem. Python provides\n",
      "a measurement tool that answers those questions immediately.\n",
      "\n",
      "For example, it may be tempting to use the tuple packing and unpacking\n",
      "feature instead of the traditional approach to swapping arguments. The\n",
      "timeit module quickly demonstrates a modest performance advantage:"
     ]
    },
    {
     "cell_type": "code",
     "collapsed": false,
     "input": [
      ">>> from timeit import Timer\n",
      ">>> Timer('t=a; a=b; b=t', 'a=1; b=2').timeit()\n",
      "0.57535828626024577\n",
      ">>> Timer('a,b = b,a', 'a=1; b=2').timeit()\n",
      "0.54962537085770791"
     ],
     "language": "python",
     "metadata": {},
     "outputs": []
    },
    {
     "cell_type": "markdown",
     "metadata": {},
     "source": [
      "In contrast to timeit's fine level of granularity, the profile and\n",
      "pstats modules provide tools for identifying time critical sections in\n",
      "larger blocks of code.\n",
      "\n",
      "Quality Control\n",
      "===============\n",
      "\n",
      "One approach for developing high quality software is to write tests for\n",
      "each function as it is developed and to run those tests frequently\n",
      "during the development process.\n",
      "\n",
      "The doctest module provides a tool for scanning a module and validating\n",
      "tests embedded in a program's docstrings. Test construction is as simple\n",
      "as cutting-and-pasting a typical call along with its results into the\n",
      "docstring. This improves the documentation by providing the user with an\n",
      "example and it allows the doctest module to make sure the code remains\n",
      "true to the documentation:"
     ]
    },
    {
     "cell_type": "code",
     "collapsed": false,
     "input": [
      "def average(values):\n",
      "    \"\"\"Computes the arithmetic mean of a list of numbers."
     ],
     "language": "python",
     "metadata": {},
     "outputs": []
    },
    {
     "cell_type": "code",
     "collapsed": false,
     "input": [
      ">>> print average([20, 30, 70])\n",
      "40.0\n",
      "\"\"\"\n",
      "return sum(values, 0.0) / len(values)"
     ],
     "language": "python",
     "metadata": {},
     "outputs": []
    },
    {
     "cell_type": "code",
     "collapsed": false,
     "input": [
      "import doctest\n",
      "doctest.testmod()   # automatically validate the embedded tests"
     ],
     "language": "python",
     "metadata": {},
     "outputs": []
    },
    {
     "cell_type": "markdown",
     "metadata": {},
     "source": [
      "The unittest module is not as effortless as the doctest module, but it\n",
      "allows a more comprehensive set of tests to be maintained in a separate\n",
      "file:"
     ]
    },
    {
     "cell_type": "code",
     "collapsed": false,
     "input": [
      "import unittest"
     ],
     "language": "python",
     "metadata": {},
     "outputs": []
    },
    {
     "cell_type": "code",
     "collapsed": false,
     "input": [
      "class TestStatisticalFunctions(unittest.TestCase):"
     ],
     "language": "python",
     "metadata": {},
     "outputs": []
    },
    {
     "cell_type": "code",
     "collapsed": false,
     "input": [
      "def test_average(self):\n",
      "    self.assertEqual(average([20, 30, 70]), 40.0)\n",
      "    self.assertEqual(round(average([1, 5, 7]), 1), 4.3)\n",
      "    with self.assertRaises(ZeroDivisionError):\n",
      "        average([])\n",
      "    with self.assertRaises(TypeError):\n",
      "        average(20, 30, 70)"
     ],
     "language": "python",
     "metadata": {},
     "outputs": []
    },
    {
     "cell_type": "code",
     "collapsed": false,
     "input": [
      "unittest.main() # Calling from the command line invokes all tests"
     ],
     "language": "python",
     "metadata": {},
     "outputs": []
    },
    {
     "cell_type": "markdown",
     "metadata": {},
     "source": [
      "Batteries Included\n",
      "==================\n",
      "\n",
      "Python has a \"batteries included\" philosophy. This is best seen through\n",
      "the sophisticated and robust capabilities of its larger packages. For\n",
      "example:\n",
      "\n",
      "-   The xmlrpclib and SimpleXMLRPCServer modules make implementing"
     ]
    },
    {
     "cell_type": "code",
     "collapsed": false,
     "input": [
      "remote procedure calls into an almost trivial task. Despite the\n",
      "modules names, no direct knowledge or handling of XML is needed."
     ],
     "language": "python",
     "metadata": {},
     "outputs": []
    },
    {
     "cell_type": "markdown",
     "metadata": {},
     "source": [
      "-   The email package is a library for managing email messages,"
     ]
    },
    {
     "cell_type": "code",
     "collapsed": false,
     "input": [
      "including MIME and other RFC 2822-based message documents. Unlike\n",
      "smtplib and poplib which actually send and receive messages, the\n",
      "email package has a complete toolset for building or decoding\n",
      "complex message structures (including attachments) and for\n",
      "implementing internet encoding and header protocols."
     ],
     "language": "python",
     "metadata": {},
     "outputs": []
    },
    {
     "cell_type": "markdown",
     "metadata": {},
     "source": [
      "-   The xml.dom and xml.sax packages provide robust support for parsing"
     ]
    },
    {
     "cell_type": "code",
     "collapsed": false,
     "input": [
      "this popular data interchange format. Likewise, the csv module\n",
      "supports direct reads and writes in a common database format.\n",
      "Together, these modules and packages greatly simplify data\n",
      "interchange between Python applications and other tools."
     ],
     "language": "python",
     "metadata": {},
     "outputs": []
    },
    {
     "cell_type": "markdown",
     "metadata": {},
     "source": [
      "-   Internationalization is supported by a number of modules including"
     ]
    },
    {
     "cell_type": "code",
     "collapsed": false,
     "input": [
      "gettext, locale, and the codecs package."
     ],
     "language": "python",
     "metadata": {},
     "outputs": []
    }
   ],
   "metadata": {}
  }
 ]
}